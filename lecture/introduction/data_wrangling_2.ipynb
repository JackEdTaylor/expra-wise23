{
 "cells": [
  {
   "cell_type": "markdown",
   "id": "34e9fb44",
   "metadata": {},
   "source": [
    "# Data Wrangling 2\n",
    "\n",
    "Welcome to part 2! In this session, we will recap everything we covered in [Part 1](https://jackedtaylor.github.io/expra-wise23/introduction/data_wrangling_1.html), and we will cover:\n",
    "\n",
    "* [Pipes](#pipes): `|>`\n",
    "* [Reformatting into Wide / Long format](#wide-and-long-data-formatting): `pivot_wider()` and `pivot_longer()`\n",
    "\n",
    "We will use two main packages today: `dplyr` and `tidyr`:"
   ]
  },
  {
   "cell_type": "code",
   "execution_count": 14,
   "metadata": {
    "vscode": {
     "languageId": "r"
    }
   },
   "outputs": [],
   "source": [
    "library(dplyr)\n",
    "library(tidyr)"
   ]
  },
  {
   "cell_type": "markdown",
   "metadata": {},
   "source": [
    "<br>\n",
    "\n",
    "---\n",
    "\n",
    "## Pipes\n",
    "\n",
    "The pipe operator looks like this: `|>`. It takes the output of one function, and \"pipes\" it into the first argument of the next function.\n",
    "\n",
    "But why would such a thing be useful? Well, here's some example code to hopefully demonstrate..."
   ]
  },
  {
   "cell_type": "code",
   "execution_count": 1,
   "id": "8d6a0e92",
   "metadata": {
    "tags": [
     "remove-input"
    ],
    "vscode": {
     "languageId": "r"
    }
   },
   "outputs": [],
   "source": [
    "options(repr.plot.width=3.5, repr.plot.height=3, repr.matrix.max.rows=10)"
   ]
  },
  {
   "cell_type": "code",
   "execution_count": 2,
   "id": "165b6408",
   "metadata": {
    "tags": [
     "remove-output"
    ],
    "vscode": {
     "languageId": "r"
    }
   },
   "outputs": [
    {
     "name": "stderr",
     "output_type": "stream",
     "text": [
      "\n",
      "Attaching package: 'dplyr'\n",
      "\n",
      "\n",
      "The following objects are masked from 'package:stats':\n",
      "\n",
      "    filter, lag\n",
      "\n",
      "\n",
      "The following objects are masked from 'package:base':\n",
      "\n",
      "    intersect, setdiff, setequal, union\n",
      "\n",
      "\n"
     ]
    },
    {
     "data": {
      "text/html": [
       "<table class=\"dataframe\">\n",
       "<caption>A tibble: 74 × 3</caption>\n",
       "<thead>\n",
       "\t<tr><th scope=col>name</th><th scope=col>height</th><th scope=col>height_inches</th></tr>\n",
       "\t<tr><th scope=col>&lt;chr&gt;</th><th scope=col>&lt;int&gt;</th><th scope=col>&lt;dbl&gt;</th></tr>\n",
       "</thead>\n",
       "<tbody>\n",
       "\t<tr><td>Ratts Tyerell        </td><td>79</td><td>31.10236</td></tr>\n",
       "\t<tr><td>Wicket Systri Warrick</td><td>88</td><td>34.64567</td></tr>\n",
       "\t<tr><td>Dud Bolt             </td><td>94</td><td>37.00787</td></tr>\n",
       "\t<tr><td>R2-D2                </td><td>96</td><td>37.79528</td></tr>\n",
       "\t<tr><td>R5-D4                </td><td>97</td><td>38.18898</td></tr>\n",
       "\t<tr><td>...</td><td>...</td><td>...</td></tr>\n",
       "\t<tr><td>Roos Tarpals</td><td>224</td><td> 88.18898</td></tr>\n",
       "\t<tr><td>Chewbacca   </td><td>228</td><td> 89.76378</td></tr>\n",
       "\t<tr><td>Lama Su     </td><td>229</td><td> 90.15748</td></tr>\n",
       "\t<tr><td>Tarfful     </td><td>234</td><td> 92.12598</td></tr>\n",
       "\t<tr><td>Yarael Poof </td><td>264</td><td>103.93701</td></tr>\n",
       "</tbody>\n",
       "</table>\n"
      ],
      "text/latex": [
       "A tibble: 74 × 3\n",
       "\\begin{tabular}{lll}\n",
       " name & height & height\\_inches\\\\\n",
       " <chr> & <int> & <dbl>\\\\\n",
       "\\hline\n",
       "\t Ratts Tyerell         & 79 & 31.10236\\\\\n",
       "\t Wicket Systri Warrick & 88 & 34.64567\\\\\n",
       "\t Dud Bolt              & 94 & 37.00787\\\\\n",
       "\t R2-D2                 & 96 & 37.79528\\\\\n",
       "\t R5-D4                 & 97 & 38.18898\\\\\n",
       "\t ... & ... & ...\\\\\n",
       "\t Roos Tarpals & 224 &  88.18898\\\\\n",
       "\t Chewbacca    & 228 &  89.76378\\\\\n",
       "\t Lama Su      & 229 &  90.15748\\\\\n",
       "\t Tarfful      & 234 &  92.12598\\\\\n",
       "\t Yarael Poof  & 264 & 103.93701\\\\\n",
       "\\end{tabular}\n"
      ],
      "text/markdown": [
       "\n",
       "A tibble: 74 × 3\n",
       "\n",
       "| name &lt;chr&gt; | height &lt;int&gt; | height_inches &lt;dbl&gt; |\n",
       "|---|---|---|\n",
       "| Ratts Tyerell         | 79 | 31.10236 |\n",
       "| Wicket Systri Warrick | 88 | 34.64567 |\n",
       "| Dud Bolt              | 94 | 37.00787 |\n",
       "| R2-D2                 | 96 | 37.79528 |\n",
       "| R5-D4                 | 97 | 38.18898 |\n",
       "| ... | ... | ... |\n",
       "| Roos Tarpals | 224 |  88.18898 |\n",
       "| Chewbacca    | 228 |  89.76378 |\n",
       "| Lama Su      | 229 |  90.15748 |\n",
       "| Tarfful      | 234 |  92.12598 |\n",
       "| Yarael Poof  | 264 | 103.93701 |\n",
       "\n"
      ],
      "text/plain": [
       "    name                  height height_inches\n",
       "1   Ratts Tyerell         79     31.10236     \n",
       "2   Wicket Systri Warrick 88     34.64567     \n",
       "3   Dud Bolt              94     37.00787     \n",
       "4   R2-D2                 96     37.79528     \n",
       "5   R5-D4                 97     38.18898     \n",
       "... ...                   ...    ...          \n",
       "70  Roos Tarpals          224     88.18898    \n",
       "71  Chewbacca             228     89.76378    \n",
       "72  Lama Su               229     90.15748    \n",
       "73  Tarfful               234     92.12598    \n",
       "74  Yarael Poof           264    103.93701    "
      ]
     },
     "metadata": {},
     "output_type": "display_data"
    }
   ],
   "source": [
    "data_1 <- starwars\n",
    "data_2 <- filter(data_1, homeworld != \"Alderaan\")\n",
    "data_3 <- mutate(data_2, height_inches = height/2.54)\n",
    "data_4 <- select(data_3, name, height, height_inches)\n",
    "data_5 <- arrange(data_4, height)\n",
    "\n",
    "data_5"
   ]
  },
  {
   "cell_type": "code",
   "execution_count": 3,
   "metadata": {
    "tags": [
     "remove-input"
    ],
    "vscode": {
     "languageId": "r"
    }
   },
   "outputs": [
    {
     "name": "stdout",
     "output_type": "stream",
     "text": [
      "\u001b[90m# A tibble: 74 x 3\u001b[39m\n",
      "   name                  height height_inches\n",
      "   \u001b[3m\u001b[90m<chr>\u001b[39m\u001b[23m                  \u001b[3m\u001b[90m<int>\u001b[39m\u001b[23m         \u001b[3m\u001b[90m<dbl>\u001b[39m\u001b[23m\n",
      "\u001b[90m 1\u001b[39m Ratts Tyerell             79          31.1\n",
      "\u001b[90m 2\u001b[39m Wicket Systri Warrick     88          34.6\n",
      "\u001b[90m 3\u001b[39m Dud Bolt                  94          37.0\n",
      "\u001b[90m 4\u001b[39m R2-D2                     96          37.8\n",
      "\u001b[90m 5\u001b[39m R5-D4                     97          38.2\n",
      "\u001b[90m 6\u001b[39m Sebulba                  112          44.1\n",
      "\u001b[90m 7\u001b[39m Gasgano                  122          48.0\n",
      "\u001b[90m 8\u001b[39m Watto                    137          53.9\n",
      "\u001b[90m 9\u001b[39m Mon Mothma               150          59.1\n",
      "\u001b[90m10\u001b[39m Cordé                    157          61.8\n",
      "\u001b[90m# i 64 more rows\u001b[39m\n"
     ]
    }
   ],
   "source": [
    "print(data_5)"
   ]
  },
  {
   "cell_type": "markdown",
   "metadata": {},
   "source": [
    "What you can hopefully see is that we start with one dataframe, `starwars`. We then apply the `filter()`, `mutate()`, `select()`, and `arrange()` functions. Each time, we take the result of the last output, apply the function, and store the result in a new variable.\n",
    "\n",
    "Rather than storing several variables that we are not interested in, another approach would be to nest the functions within each other's parentheses. For example:"
   ]
  },
  {
   "cell_type": "code",
   "execution_count": 4,
   "metadata": {
    "vscode": {
     "languageId": "r"
    }
   },
   "outputs": [],
   "source": [
    "# an example of nested data wrangling - difficult to read isn't it?\n",
    "final_data <- arrange(\n",
    "    select(\n",
    "        mutate(\n",
    "            filter(starwars, homeworld != \"Alderaan\"),\n",
    "            height_inches = height/2.54\n",
    "        ),\n",
    "        name, height, height_inches\n",
    "    ),\n",
    "    height\n",
    ")"
   ]
  },
  {
   "cell_type": "markdown",
   "metadata": {},
   "source": [
    "This is really difficult to read, isn't it!?\n",
    "\n",
    "What if we want code as readable as the first example, but without the unnecessary variables in between. Pipes are a perfect solution!"
   ]
  },
  {
   "cell_type": "code",
   "execution_count": 5,
   "metadata": {
    "vscode": {
     "languageId": "r"
    }
   },
   "outputs": [],
   "source": [
    "# a clear, readable example using pipes\n",
    "final_data <- starwars |>\n",
    "    filter(homeworld != \"Alderaan\") |>\n",
    "    mutate(height_inches = height/2.54) |>\n",
    "    select(name, height, height_inches) |>\n",
    "    arrange(height)"
   ]
  },
  {
   "cell_type": "markdown",
   "metadata": {},
   "source": [
    "Each line tells R what to do with the output of the last line. The output of the last line is always provided to the first input of the function on the next line."
   ]
  },
  {
   "cell_type": "markdown",
   "metadata": {},
   "source": [
    "<br>\n",
    "\n",
    "### Check your Knowledge!\n",
    "\n",
    "Rewrite the following snippets of code to use pipes (`|>`). You should check that the output matches the value in the last variable to be assigned in the non-piped example."
   ]
  },
  {
   "cell_type": "markdown",
   "metadata": {},
   "source": [
    "##### 1A)"
   ]
  },
  {
   "cell_type": "code",
   "execution_count": 6,
   "metadata": {
    "tags": [],
    "vscode": {
     "languageId": "r"
    }
   },
   "outputs": [],
   "source": [
    "filtered_naboo <- filter(starwars, homeworld==\"Naboo\")\n",
    "naboo_characters <- pull(filtered_naboo, name)"
   ]
  },
  {
   "cell_type": "markdown",
   "metadata": {},
   "source": [
    "##### 1B)"
   ]
  },
  {
   "cell_type": "code",
   "execution_count": 7,
   "metadata": {
    "vscode": {
     "languageId": "r"
    }
   },
   "outputs": [],
   "source": [
    "height_summ <- summarise(group_by(starwars, homeworld), mean_height=mean(height))"
   ]
  },
  {
   "cell_type": "markdown",
   "metadata": {},
   "source": [
    "##### 1C)"
   ]
  },
  {
   "cell_type": "code",
   "execution_count": 8,
   "metadata": {
    "vscode": {
     "languageId": "r"
    }
   },
   "outputs": [],
   "source": [
    "sw_filt <- filter(starwars, birth_year>50)\n",
    "sw_grp <- group_by(sw_filt, species)\n",
    "mass_summ <- summarise(sw_grp, M = mean(mass), SD = sd(mass))"
   ]
  },
  {
   "cell_type": "markdown",
   "metadata": {},
   "source": [
    "##### 1D)"
   ]
  },
  {
   "cell_type": "code",
   "execution_count": 27,
   "metadata": {
    "vscode": {
     "languageId": "r"
    }
   },
   "outputs": [],
   "source": [
    "hws <- pull(starwars, homeworld)\n",
    "unique_worlds <- sort(unique(hws))"
   ]
  },
  {
   "cell_type": "markdown",
   "metadata": {},
   "source": [
    "<br>\n",
    "\n",
    "---\n",
    "\n",
    "## Wide and Long Data Formatting\n",
    "\n",
    "Imagine we have a database of names, heights, and ages. There are two sensible ways we can organise these data in a table.\n",
    "\n",
    "##### Wide Format Example\n",
    "\n",
    "* Each variable is in a different column\n",
    "* Each row refers to one ID (name)"
   ]
  },
  {
   "cell_type": "code",
   "execution_count": 26,
   "metadata": {
    "tags": [],
    "vscode": {
     "languageId": "r"
    }
   },
   "outputs": [
    {
     "data": {
      "text/html": [
       "<table class=\"dataframe\">\n",
       "<caption>A data.frame: 4 × 3</caption>\n",
       "<thead>\n",
       "\t<tr><th scope=col>name</th><th scope=col>height</th><th scope=col>age</th></tr>\n",
       "\t<tr><th scope=col>&lt;chr&gt;</th><th scope=col>&lt;dbl&gt;</th><th scope=col>&lt;dbl&gt;</th></tr>\n",
       "</thead>\n",
       "<tbody>\n",
       "\t<tr><td>Julia</td><td>180</td><td>25</td></tr>\n",
       "\t<tr><td>Hans </td><td>193</td><td>32</td></tr>\n",
       "\t<tr><td>Paul </td><td>174</td><td>28</td></tr>\n",
       "\t<tr><td>Laura</td><td>168</td><td>30</td></tr>\n",
       "</tbody>\n",
       "</table>\n"
      ],
      "text/latex": [
       "A data.frame: 4 × 3\n",
       "\\begin{tabular}{lll}\n",
       " name & height & age\\\\\n",
       " <chr> & <dbl> & <dbl>\\\\\n",
       "\\hline\n",
       "\t Julia & 180 & 25\\\\\n",
       "\t Hans  & 193 & 32\\\\\n",
       "\t Paul  & 174 & 28\\\\\n",
       "\t Laura & 168 & 30\\\\\n",
       "\\end{tabular}\n"
      ],
      "text/markdown": [
       "\n",
       "A data.frame: 4 × 3\n",
       "\n",
       "| name &lt;chr&gt; | height &lt;dbl&gt; | age &lt;dbl&gt; |\n",
       "|---|---|---|\n",
       "| Julia | 180 | 25 |\n",
       "| Hans  | 193 | 32 |\n",
       "| Paul  | 174 | 28 |\n",
       "| Laura | 168 | 30 |\n",
       "\n"
      ],
      "text/plain": [
       "  name  height age\n",
       "1 Julia 180    25 \n",
       "2 Hans  193    32 \n",
       "3 Paul  174    28 \n",
       "4 Laura 168    30 "
      ]
     },
     "metadata": {},
     "output_type": "display_data"
    }
   ],
   "source": [
    "data.frame(\n",
    "    name = c(\"Julia\", \"Hans\", \"Paul\", \"Laura\"),\n",
    "    height = c(180, 193, 174, 168),\n",
    "    age = c(25, 32, 28, 30)\n",
    ")"
   ]
  },
  {
   "cell_type": "markdown",
   "metadata": {},
   "source": [
    "##### Long Format Example\n",
    "\n",
    "* One column contains values from multiple variables\n",
    "* Another column tells us which variable each value comes from\n",
    "* Each row refers to one combination of variable and ID (name)"
   ]
  },
  {
   "cell_type": "code",
   "execution_count": 24,
   "metadata": {
    "tags": [
     "remove-input"
    ],
    "vscode": {
     "languageId": "r"
    }
   },
   "outputs": [
    {
     "data": {
      "text/html": [
       "<table class=\"dataframe\">\n",
       "<caption>A data.frame: 8 × 3</caption>\n",
       "<thead>\n",
       "\t<tr><th scope=col>name</th><th scope=col>variable</th><th scope=col>value</th></tr>\n",
       "\t<tr><th scope=col>&lt;chr&gt;</th><th scope=col>&lt;chr&gt;</th><th scope=col>&lt;dbl&gt;</th></tr>\n",
       "</thead>\n",
       "<tbody>\n",
       "\t<tr><td>Julia</td><td>height</td><td>180</td></tr>\n",
       "\t<tr><td>Julia</td><td>age   </td><td> 25</td></tr>\n",
       "\t<tr><td>Hans </td><td>height</td><td>193</td></tr>\n",
       "\t<tr><td>Hans </td><td>age   </td><td> 32</td></tr>\n",
       "\t<tr><td>Paul </td><td>height</td><td>174</td></tr>\n",
       "\t<tr><td>Paul </td><td>age   </td><td> 28</td></tr>\n",
       "\t<tr><td>Laura</td><td>height</td><td>168</td></tr>\n",
       "\t<tr><td>Laura</td><td>age   </td><td> 30</td></tr>\n",
       "</tbody>\n",
       "</table>\n"
      ],
      "text/latex": [
       "A data.frame: 8 × 3\n",
       "\\begin{tabular}{lll}\n",
       " name & variable & value\\\\\n",
       " <chr> & <chr> & <dbl>\\\\\n",
       "\\hline\n",
       "\t Julia & height & 180\\\\\n",
       "\t Julia & age    &  25\\\\\n",
       "\t Hans  & height & 193\\\\\n",
       "\t Hans  & age    &  32\\\\\n",
       "\t Paul  & height & 174\\\\\n",
       "\t Paul  & age    &  28\\\\\n",
       "\t Laura & height & 168\\\\\n",
       "\t Laura & age    &  30\\\\\n",
       "\\end{tabular}\n"
      ],
      "text/markdown": [
       "\n",
       "A data.frame: 8 × 3\n",
       "\n",
       "| name &lt;chr&gt; | variable &lt;chr&gt; | value &lt;dbl&gt; |\n",
       "|---|---|---|\n",
       "| Julia | height | 180 |\n",
       "| Julia | age    |  25 |\n",
       "| Hans  | height | 193 |\n",
       "| Hans  | age    |  32 |\n",
       "| Paul  | height | 174 |\n",
       "| Paul  | age    |  28 |\n",
       "| Laura | height | 168 |\n",
       "| Laura | age    |  30 |\n",
       "\n"
      ],
      "text/plain": [
       "  name  variable value\n",
       "1 Julia height   180  \n",
       "2 Julia age       25  \n",
       "3 Hans  height   193  \n",
       "4 Hans  age       32  \n",
       "5 Paul  height   174  \n",
       "6 Paul  age       28  \n",
       "7 Laura height   168  \n",
       "8 Laura age       30  "
      ]
     },
     "metadata": {},
     "output_type": "display_data"
    }
   ],
   "source": [
    "data.frame(\n",
    "    name = rep(c(\"Julia\", \"Hans\", \"Paul\", \"Laura\"), each=2),\n",
    "    variable = rep(c(\"height\", \"age\"), 4),\n",
    "    value = c(180, 25, 193, 32, 174, 28, 168, 30)\n",
    ")"
   ]
  },
  {
   "cell_type": "markdown",
   "metadata": {},
   "source": [
    "Wide and Long data formats are simply different ways of representing the data."
   ]
  }
 ],
 "metadata": {
  "kernelspec": {
   "display_name": "R",
   "language": "R",
   "name": "ir"
  },
  "language_info": {
   "codemirror_mode": "r",
   "file_extension": ".r",
   "mimetype": "text/x-r-source",
   "name": "R",
   "pygments_lexer": "r",
   "version": "4.1.3"
  }
 },
 "nbformat": 4,
 "nbformat_minor": 5
}
