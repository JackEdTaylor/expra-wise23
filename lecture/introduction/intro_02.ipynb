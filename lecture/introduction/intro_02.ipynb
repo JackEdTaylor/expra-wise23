{
 "cells": [
  {
   "cell_type": "markdown",
   "id": "54f43b5e",
   "metadata": {},
   "source": [
    "# Introduction 2"
   ]
  },
  {
   "cell_type": "markdown",
   "id": "0a53447f",
   "metadata": {},
   "source": [
    "## Bonus: Nonlinear Relationships\n",
    "\n",
    "Here is some R code showing some nonlinear relationships that cannot be described using a simple Pearson's correlation.\n",
    "\n",
    "First of all, these examples will all be using `tibble` and `ggplot2`, so make sure these libraries are loaded!"
   ]
  },
  {
   "cell_type": "code",
   "execution_count": null,
   "id": "3c878de3",
   "metadata": {},
   "outputs": [],
   "source": [
    "# load libraries used in the examples\n",
    "library(tibble)\n",
    "library(ggplot2)\n",
    "\n",
    "# set the ggplot2 theme\n",
    "theme_set(theme_classic())"
   ]
  },
  {
   "cell_type": "markdown",
   "id": "2926af7c",
   "metadata": {},
   "source": [
    "### Example 1: Sine Wave with some noise\n",
    "\n",
    "Here we generate 250 observations from a Sine wave, with normally distributed noise of SD=.25"
   ]
  },
  {
   "cell_type": "code",
   "execution_count": null,
   "id": "a7226fcb",
   "metadata": {},
   "outputs": [],
   "source": [
    "example_1 <- tibble(\n",
    "  # randomly sample x values from 0 to 25\n",
    "  x = runif(n=250, min=0, max=25),\n",
    "  # get the sine of x\n",
    "  s = sin(x),\n",
    "  # generate random noise of sd=.25\n",
    "  e = rnorm(n=250, mean=0, sd=0.25),\n",
    "  # add the sine wave to the noise to get the observations\n",
    "  y = s + e\n",
    ")\n",
    "\n",
    "# plot the observations\n",
    "ggplot(example_1, aes(x, y)) +\n",
    "  geom_point()"
   ]
  },
  {
   "cell_type": "markdown",
   "id": "c478dd8e",
   "metadata": {},
   "source": [
    "But as you can see, the Pearson's correlation is very close to zero - why do you think that is?"
   ]
  },
  {
   "cell_type": "code",
   "execution_count": null,
   "id": "1103a409",
   "metadata": {},
   "outputs": [],
   "source": [
    "# get the Pearson's correlation\n",
    "cor(example_1$x, example_1$y)"
   ]
  },
  {
   "cell_type": "markdown",
   "id": "99e684f4",
   "metadata": {},
   "source": [
    "We can also visualise the linear trend that the Pearson's correlation is evaluating - clearly, the linear model is inappropriate!"
   ]
  },
  {
   "cell_type": "code",
   "execution_count": null,
   "id": "2a1e74fe",
   "metadata": {},
   "outputs": [],
   "source": [
    "# superimpose the simple linear model\n",
    "ggplot(example_1, aes(x, y)) +\n",
    "  geom_point() +\n",
    "  geom_smooth(method=\"lm\", formula=y~x)"
   ]
  }
 ],
 "metadata": {
  "kernelspec": {
   "display_name": "R",
   "language": "R",
   "name": "ir"
  },
  "language_info": {
   "codemirror_mode": "r",
   "file_extension": ".r",
   "mimetype": "text/x-r-source",
   "name": "R",
   "pygments_lexer": "r",
   "version": "4.1.3"
  }
 },
 "nbformat": 4,
 "nbformat_minor": 5
}
