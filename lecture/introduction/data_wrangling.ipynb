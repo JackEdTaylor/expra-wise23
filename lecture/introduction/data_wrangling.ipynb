{
 "cells": [
  {
   "cell_type": "markdown",
   "id": "34e9fb44",
   "metadata": {},
   "source": [
    "# Data Wrangling\n",
    "\n",
    "<h5>\n",
    "\n",
    "**Wrangling** /ˈræŋ.ɡəl.ɪŋ/\n",
    "\n",
    "the activity of taking care of, controlling, or moving animals, especially large animals such as cows or horses\n",
    "\n",
    "</h5>\n",
    "\n",
    "([Cambridge Dictionary](https://dictionary.cambridge.org/dictionary/english/wrangling))\n",
    "\n",
    "![Cattle Wrangler - image from https://commons.wikimedia.org/wiki/File:Pioneer_Day_Wrangler.jpg](https://upload.wikimedia.org/wikipedia/commons/thumb/8/83/Pioneer_Day_Wrangler.jpg/320px-Pioneer_Day_Wrangler.jpg)\n",
    "\n",
    "**[Data wrangling](https://en.wikipedia.org/wiki/Data_wrangling)** commonly refers to the transformation of data from one \"input\" format (e.g., `.csv` files from an experiment), to a different format (e.g., a tidy dataframe) that is more appropriate to the needs of an analysis. In the context of the ExPra experiments, you will use data wrangling techniques to implement the transformations and data cleaning steps specified in your preregistrations.\n",
    "\n",
    "## Setup\n",
    "\n",
    "### Setup Part 1: Install Packages\n",
    "\n",
    "We will use [`tidyverse`](https://www.tidyverse.org/) packages to implement our data wrangling. The \"tidyverse\" is a series of packages which share a philosphy based around code and data structures that are (a) tidy, and (b) readable. These packages are frequently based around tidy dataframes, known as \"[tibbles](https://tibble.tidyverse.org/)\". You can install the tidyverse packages like so:\n",
    "\n",
    "```\n",
    "install.packages(\"tidyverse\")\n",
    "```\n",
    "\n",
    "This includes many packages that we won't be using today, but which will be useful in other parts of the course (e.g., on Data Visualisation).\n",
    "\n",
    "Remember, you should install packages in the console - never in a script that your share with others. This is because otherwise, your script will go to the effort of reinstalling a package *every time* it is run!\n",
    "\n",
    "### Setup Part 2: Check the Packages Load\n",
    "\n",
    "Now, we can test that the packages we will be using today actually load. You should be able to run this code without any errors:"
   ]
  },
  {
   "cell_type": "code",
   "execution_count": 1,
   "id": "8d6a0e92",
   "metadata": {
    "tags": [
     "remove-input"
    ],
    "vscode": {
     "languageId": "r"
    }
   },
   "outputs": [],
   "source": [
    "options(repr.plot.width=3.5, repr.plot.height=3, repr.matrix.max.rows=10)"
   ]
  },
  {
   "cell_type": "code",
   "execution_count": 2,
   "id": "165b6408",
   "metadata": {
    "tags": [
     "remove-output"
    ],
    "vscode": {
     "languageId": "r"
    }
   },
   "outputs": [
    {
     "name": "stderr",
     "output_type": "stream",
     "text": [
      "\n",
      "Attaching package: 'dplyr'\n",
      "\n",
      "\n",
      "The following objects are masked from 'package:stats':\n",
      "\n",
      "    filter, lag\n",
      "\n",
      "\n",
      "The following objects are masked from 'package:base':\n",
      "\n",
      "    intersect, setdiff, setequal, union\n",
      "\n",
      "\n"
     ]
    }
   ],
   "source": [
    "library(dplyr)\n",
    "library(tidyr)"
   ]
  },
  {
   "cell_type": "markdown",
   "metadata": {},
   "source": [
    "The [`dplyr`](https://dplyr.tidyverse.org/) package has useful functions for manipulating tibbles (dataframes), such as sorting, filtering, and editing columns. The [`tidyr`](https://tidyr.tidyverse.org/) package has functions that help us tidy or reformat dataframes.\n",
    "\n",
    "<img src=\"https://www.tidyverse.org/css/images/hex/dplyr.png\" width=138>\n",
    "<img src=\"https://www.tidyverse.org/css/images/hex/tidyr.png\" width=138>"
   ]
  },
  {
   "cell_type": "markdown",
   "id": "e1da8f7c-308f-4217-9192-9bfc1191ff0e",
   "metadata": {},
   "source": [
    "### Setup Part 3: Check the Data Loads\n",
    "\n",
    "Finally, check that you can access the dataset we'll be using in this session. The `starwars` dataset is a dataset built into R that contains details of characters from the Star Wars films:"
   ]
  },
  {
   "cell_type": "code",
   "execution_count": 3,
   "id": "f0b8ba46-98b5-45f1-83e3-cfaad7b2206d",
   "metadata": {
    "vscode": {
     "languageId": "r"
    }
   },
   "outputs": [
    {
     "name": "stdout",
     "output_type": "stream",
     "text": [
      "\u001b[90m# A tibble: 87 x 14\u001b[39m\n",
      "   name     height  mass hair_color skin_color eye_color birth_year sex   gender\n",
      "   \u001b[3m\u001b[90m<chr>\u001b[39m\u001b[23m     \u001b[3m\u001b[90m<int>\u001b[39m\u001b[23m \u001b[3m\u001b[90m<dbl>\u001b[39m\u001b[23m \u001b[3m\u001b[90m<chr>\u001b[39m\u001b[23m      \u001b[3m\u001b[90m<chr>\u001b[39m\u001b[23m      \u001b[3m\u001b[90m<chr>\u001b[39m\u001b[23m          \u001b[3m\u001b[90m<dbl>\u001b[39m\u001b[23m \u001b[3m\u001b[90m<chr>\u001b[39m\u001b[23m \u001b[3m\u001b[90m<chr>\u001b[39m\u001b[23m \n",
      "\u001b[90m 1\u001b[39m Luke Sk~    172    77 blond      fair       blue            19   male  mascu~\n",
      "\u001b[90m 2\u001b[39m C-3PO       167    75 \u001b[31mNA\u001b[39m         gold       yellow         112   none  mascu~\n",
      "\u001b[90m 3\u001b[39m R2-D2        96    32 \u001b[31mNA\u001b[39m         white, bl~ red             33   none  mascu~\n",
      "\u001b[90m 4\u001b[39m Darth V~    202   136 none       white      yellow          41.9 male  mascu~\n",
      "\u001b[90m 5\u001b[39m Leia Or~    150    49 brown      light      brown           19   fema~ femin~\n",
      "\u001b[90m 6\u001b[39m Owen La~    178   120 brown, gr~ light      blue            52   male  mascu~\n",
      "\u001b[90m 7\u001b[39m Beru Wh~    165    75 brown      light      blue            47   fema~ femin~\n",
      "\u001b[90m 8\u001b[39m R5-D4        97    32 \u001b[31mNA\u001b[39m         white, red red             \u001b[31mNA\u001b[39m   none  mascu~\n",
      "\u001b[90m 9\u001b[39m Biggs D~    183    84 black      light      brown           24   male  mascu~\n",
      "\u001b[90m10\u001b[39m Obi-Wan~    182    77 auburn, w~ fair       blue-gray       57   male  mascu~\n",
      "\u001b[90m# i 77 more rows\u001b[39m\n",
      "\u001b[90m# i 5 more variables: homeworld <chr>, species <chr>, films <list>,\u001b[39m\n",
      "\u001b[90m#   vehicles <list>, starships <list>\u001b[39m\n"
     ]
    }
   ],
   "source": [
    "print(starwars)"
   ]
  },
  {
   "cell_type": "markdown",
   "id": "0183fe00-4c0e-4a26-8bd7-a439e818fe27",
   "metadata": {},
   "source": [
    "This snapshot shows an example of tidy data - a philosophy of organising data such that each observation (*character*) has a single row, with all variables tied to that character as a single column.\n",
    "\n",
    "Now that we're all set up, let's start a-wrangling...\n",
    "\n",
    "## `arrange()`\n",
    "\n",
    "We can use the `arrange()` function to sort by variables in the dataframe. For example, we can arrange all characters in order of height (shortest to tallest) like so:"
   ]
  },
  {
   "cell_type": "code",
   "execution_count": 4,
   "id": "77ff073a-20a0-47a4-a618-5735a2ca9655",
   "metadata": {
    "tags": [
     "remove-output"
    ],
    "vscode": {
     "languageId": "r"
    }
   },
   "outputs": [
    {
     "data": {
      "text/html": [
       "<table class=\"dataframe\">\n",
       "<caption>A tibble: 87 × 14</caption>\n",
       "<thead>\n",
       "\t<tr><th scope=col>name</th><th scope=col>height</th><th scope=col>mass</th><th scope=col>hair_color</th><th scope=col>skin_color</th><th scope=col>eye_color</th><th scope=col>birth_year</th><th scope=col>sex</th><th scope=col>gender</th><th scope=col>homeworld</th><th scope=col>species</th><th scope=col>films</th><th scope=col>vehicles</th><th scope=col>starships</th></tr>\n",
       "\t<tr><th scope=col>&lt;chr&gt;</th><th scope=col>&lt;int&gt;</th><th scope=col>&lt;dbl&gt;</th><th scope=col>&lt;chr&gt;</th><th scope=col>&lt;chr&gt;</th><th scope=col>&lt;chr&gt;</th><th scope=col>&lt;dbl&gt;</th><th scope=col>&lt;chr&gt;</th><th scope=col>&lt;chr&gt;</th><th scope=col>&lt;chr&gt;</th><th scope=col>&lt;chr&gt;</th><th scope=col>&lt;list&gt;</th><th scope=col>&lt;list&gt;</th><th scope=col>&lt;list&gt;</th></tr>\n",
       "</thead>\n",
       "<tbody>\n",
       "\t<tr><td>Yoda                 </td><td>66</td><td>17</td><td>white</td><td>green      </td><td>brown  </td><td>896</td><td>male</td><td>masculine</td><td>NA         </td><td>Yoda's species</td><td>The Empire Strikes Back, Attack of the Clones   , The Phantom Menace     , Revenge of the Sith    , Return of the Jedi     </td><td></td><td></td></tr>\n",
       "\t<tr><td>Ratts Tyerell        </td><td>79</td><td>15</td><td>none </td><td>grey, blue </td><td>unknown</td><td> NA</td><td>male</td><td>masculine</td><td>Aleen Minor</td><td>Aleena        </td><td>The Phantom Menace</td><td></td><td></td></tr>\n",
       "\t<tr><td>Wicket Systri Warrick</td><td>88</td><td>20</td><td>brown</td><td>brown      </td><td>brown  </td><td>  8</td><td>male</td><td>masculine</td><td>Endor      </td><td>Ewok          </td><td>Return of the Jedi</td><td></td><td></td></tr>\n",
       "\t<tr><td>Dud Bolt             </td><td>94</td><td>45</td><td>none </td><td>blue, grey </td><td>yellow </td><td> NA</td><td>male</td><td>masculine</td><td>Vulpter    </td><td>Vulptereen    </td><td>The Phantom Menace</td><td></td><td></td></tr>\n",
       "\t<tr><td>R2-D2                </td><td>96</td><td>32</td><td>NA   </td><td>white, blue</td><td>red    </td><td> 33</td><td>none</td><td>masculine</td><td>Naboo      </td><td>Droid         </td><td>The Empire Strikes Back, Attack of the Clones   , The Phantom Menace     , Revenge of the Sith    , Return of the Jedi     , A New Hope             , The Force Awakens      </td><td></td><td></td></tr>\n",
       "\t<tr><td>...</td><td>...</td><td>...</td><td>...</td><td>...</td><td>...</td><td>...</td><td>...</td><td>...</td><td>...</td><td>...</td><td>...</td><td>...</td><td>...</td></tr>\n",
       "\t<tr><td>Finn          </td><td>NA</td><td>NA</td><td>black  </td><td>dark   </td><td>dark   </td><td>NA</td><td>male  </td><td>masculine</td><td>NA</td><td>Human</td><td>The Force Awakens</td><td></td><td></td></tr>\n",
       "\t<tr><td>Rey           </td><td>NA</td><td>NA</td><td>brown  </td><td>light  </td><td>hazel  </td><td>NA</td><td>female</td><td>feminine </td><td>NA</td><td>Human</td><td>The Force Awakens</td><td></td><td></td></tr>\n",
       "\t<tr><td>Poe Dameron   </td><td>NA</td><td>NA</td><td>brown  </td><td>light  </td><td>brown  </td><td>NA</td><td>male  </td><td>masculine</td><td>NA</td><td>Human</td><td>The Force Awakens</td><td></td><td>T-70 X-wing fighter</td></tr>\n",
       "\t<tr><td>BB8           </td><td>NA</td><td>NA</td><td>none   </td><td>none   </td><td>black  </td><td>NA</td><td>none  </td><td>masculine</td><td>NA</td><td>Droid</td><td>The Force Awakens</td><td></td><td></td></tr>\n",
       "\t<tr><td>Captain Phasma</td><td>NA</td><td>NA</td><td>unknown</td><td>unknown</td><td>unknown</td><td>NA</td><td>NA    </td><td>NA       </td><td>NA</td><td>NA   </td><td>The Force Awakens</td><td></td><td></td></tr>\n",
       "</tbody>\n",
       "</table>\n"
      ],
      "text/latex": [
       "A tibble: 87 × 14\n",
       "\\begin{tabular}{llllllllllllll}\n",
       " name & height & mass & hair\\_color & skin\\_color & eye\\_color & birth\\_year & sex & gender & homeworld & species & films & vehicles & starships\\\\\n",
       " <chr> & <int> & <dbl> & <chr> & <chr> & <chr> & <dbl> & <chr> & <chr> & <chr> & <chr> & <list> & <list> & <list>\\\\\n",
       "\\hline\n",
       "\t Yoda                  & 66 & 17 & white & green       & brown   & 896 & male & masculine & NA          & Yoda's species & The Empire Strikes Back, Attack of the Clones   , The Phantom Menace     , Revenge of the Sith    , Return of the Jedi      &  & \\\\\n",
       "\t Ratts Tyerell         & 79 & 15 & none  & grey, blue  & unknown &  NA & male & masculine & Aleen Minor & Aleena         & The Phantom Menace &  & \\\\\n",
       "\t Wicket Systri Warrick & 88 & 20 & brown & brown       & brown   &   8 & male & masculine & Endor       & Ewok           & Return of the Jedi &  & \\\\\n",
       "\t Dud Bolt              & 94 & 45 & none  & blue, grey  & yellow  &  NA & male & masculine & Vulpter     & Vulptereen     & The Phantom Menace &  & \\\\\n",
       "\t R2-D2                 & 96 & 32 & NA    & white, blue & red     &  33 & none & masculine & Naboo       & Droid          & The Empire Strikes Back, Attack of the Clones   , The Phantom Menace     , Revenge of the Sith    , Return of the Jedi     , A New Hope             , The Force Awakens       &  & \\\\\n",
       "\t ... & ... & ... & ... & ... & ... & ... & ... & ... & ... & ... & ... & ... & ...\\\\\n",
       "\t Finn           & NA & NA & black   & dark    & dark    & NA & male   & masculine & NA & Human & The Force Awakens &  & \\\\\n",
       "\t Rey            & NA & NA & brown   & light   & hazel   & NA & female & feminine  & NA & Human & The Force Awakens &  & \\\\\n",
       "\t Poe Dameron    & NA & NA & brown   & light   & brown   & NA & male   & masculine & NA & Human & The Force Awakens &  & T-70 X-wing fighter\\\\\n",
       "\t BB8            & NA & NA & none    & none    & black   & NA & none   & masculine & NA & Droid & The Force Awakens &  & \\\\\n",
       "\t Captain Phasma & NA & NA & unknown & unknown & unknown & NA & NA     & NA        & NA & NA    & The Force Awakens &  & \\\\\n",
       "\\end{tabular}\n"
      ],
      "text/markdown": [
       "\n",
       "A tibble: 87 × 14\n",
       "\n",
       "| name &lt;chr&gt; | height &lt;int&gt; | mass &lt;dbl&gt; | hair_color &lt;chr&gt; | skin_color &lt;chr&gt; | eye_color &lt;chr&gt; | birth_year &lt;dbl&gt; | sex &lt;chr&gt; | gender &lt;chr&gt; | homeworld &lt;chr&gt; | species &lt;chr&gt; | films &lt;list&gt; | vehicles &lt;list&gt; | starships &lt;list&gt; |\n",
       "|---|---|---|---|---|---|---|---|---|---|---|---|---|---|\n",
       "| Yoda                  | 66 | 17 | white | green       | brown   | 896 | male | masculine | NA          | Yoda's species | The Empire Strikes Back, Attack of the Clones   , The Phantom Menace     , Revenge of the Sith    , Return of the Jedi      | <!----> | <!----> |\n",
       "| Ratts Tyerell         | 79 | 15 | none  | grey, blue  | unknown |  NA | male | masculine | Aleen Minor | Aleena         | The Phantom Menace | <!----> | <!----> |\n",
       "| Wicket Systri Warrick | 88 | 20 | brown | brown       | brown   |   8 | male | masculine | Endor       | Ewok           | Return of the Jedi | <!----> | <!----> |\n",
       "| Dud Bolt              | 94 | 45 | none  | blue, grey  | yellow  |  NA | male | masculine | Vulpter     | Vulptereen     | The Phantom Menace | <!----> | <!----> |\n",
       "| R2-D2                 | 96 | 32 | NA    | white, blue | red     |  33 | none | masculine | Naboo       | Droid          | The Empire Strikes Back, Attack of the Clones   , The Phantom Menace     , Revenge of the Sith    , Return of the Jedi     , A New Hope             , The Force Awakens       | <!----> | <!----> |\n",
       "| ... | ... | ... | ... | ... | ... | ... | ... | ... | ... | ... | ... | ... | ... |\n",
       "| Finn           | NA | NA | black   | dark    | dark    | NA | male   | masculine | NA | Human | The Force Awakens | <!----> | <!----> |\n",
       "| Rey            | NA | NA | brown   | light   | hazel   | NA | female | feminine  | NA | Human | The Force Awakens | <!----> | <!----> |\n",
       "| Poe Dameron    | NA | NA | brown   | light   | brown   | NA | male   | masculine | NA | Human | The Force Awakens | <!----> | T-70 X-wing fighter |\n",
       "| BB8            | NA | NA | none    | none    | black   | NA | none   | masculine | NA | Droid | The Force Awakens | <!----> | <!----> |\n",
       "| Captain Phasma | NA | NA | unknown | unknown | unknown | NA | NA     | NA        | NA | NA    | The Force Awakens | <!----> | <!----> |\n",
       "\n"
      ],
      "text/plain": [
       "    name                  height mass hair_color skin_color  eye_color\n",
       "1   Yoda                  66     17   white      green       brown    \n",
       "2   Ratts Tyerell         79     15   none       grey, blue  unknown  \n",
       "3   Wicket Systri Warrick 88     20   brown      brown       brown    \n",
       "4   Dud Bolt              94     45   none       blue, grey  yellow   \n",
       "5   R2-D2                 96     32   NA         white, blue red      \n",
       "... ...                   ...    ...  ...        ...         ...      \n",
       "83  Finn                  NA     NA   black      dark        dark     \n",
       "84  Rey                   NA     NA   brown      light       hazel    \n",
       "85  Poe Dameron           NA     NA   brown      light       brown    \n",
       "86  BB8                   NA     NA   none       none        black    \n",
       "87  Captain Phasma        NA     NA   unknown    unknown     unknown  \n",
       "    birth_year sex    gender    homeworld   species       \n",
       "1   896        male   masculine NA          Yoda's species\n",
       "2    NA        male   masculine Aleen Minor Aleena        \n",
       "3     8        male   masculine Endor       Ewok          \n",
       "4    NA        male   masculine Vulpter     Vulptereen    \n",
       "5    33        none   masculine Naboo       Droid         \n",
       "... ...        ...    ...       ...         ...           \n",
       "83  NA         male   masculine NA          Human         \n",
       "84  NA         female feminine  NA          Human         \n",
       "85  NA         male   masculine NA          Human         \n",
       "86  NA         none   masculine NA          Droid         \n",
       "87  NA         NA     NA        NA          NA            \n",
       "    films                                                                                                                                                                        \n",
       "1   The Empire Strikes Back, Attack of the Clones   , The Phantom Menace     , Revenge of the Sith    , Return of the Jedi                                                       \n",
       "2   The Phantom Menace                                                                                                                                                           \n",
       "3   Return of the Jedi                                                                                                                                                           \n",
       "4   The Phantom Menace                                                                                                                                                           \n",
       "5   The Empire Strikes Back, Attack of the Clones   , The Phantom Menace     , Revenge of the Sith    , Return of the Jedi     , A New Hope             , The Force Awakens      \n",
       "... ...                                                                                                                                                                          \n",
       "83  The Force Awakens                                                                                                                                                            \n",
       "84  The Force Awakens                                                                                                                                                            \n",
       "85  The Force Awakens                                                                                                                                                            \n",
       "86  The Force Awakens                                                                                                                                                            \n",
       "87  The Force Awakens                                                                                                                                                            \n",
       "    vehicles starships          \n",
       "1                               \n",
       "2                               \n",
       "3                               \n",
       "4                               \n",
       "5                               \n",
       "... ...      ...                \n",
       "83                              \n",
       "84                              \n",
       "85           T-70 X-wing fighter\n",
       "86                              \n",
       "87                              "
      ]
     },
     "metadata": {},
     "output_type": "display_data"
    }
   ],
   "source": [
    "arrange(starwars, height)"
   ]
  },
  {
   "cell_type": "code",
   "execution_count": 5,
   "id": "c592a624",
   "metadata": {
    "tags": [
     "remove-input"
    ],
    "vscode": {
     "languageId": "r"
    }
   },
   "outputs": [
    {
     "name": "stdout",
     "output_type": "stream",
     "text": [
      "\u001b[90m# A tibble: 87 x 14\u001b[39m\n",
      "   name     height  mass hair_color skin_color eye_color birth_year sex   gender\n",
      "   \u001b[3m\u001b[90m<chr>\u001b[39m\u001b[23m     \u001b[3m\u001b[90m<int>\u001b[39m\u001b[23m \u001b[3m\u001b[90m<dbl>\u001b[39m\u001b[23m \u001b[3m\u001b[90m<chr>\u001b[39m\u001b[23m      \u001b[3m\u001b[90m<chr>\u001b[39m\u001b[23m      \u001b[3m\u001b[90m<chr>\u001b[39m\u001b[23m          \u001b[3m\u001b[90m<dbl>\u001b[39m\u001b[23m \u001b[3m\u001b[90m<chr>\u001b[39m\u001b[23m \u001b[3m\u001b[90m<chr>\u001b[39m\u001b[23m \n",
      "\u001b[90m 1\u001b[39m Yoda         66    17 white      green      brown            896 male  mascu~\n",
      "\u001b[90m 2\u001b[39m Ratts T~     79    15 none       grey, blue unknown           \u001b[31mNA\u001b[39m male  mascu~\n",
      "\u001b[90m 3\u001b[39m Wicket ~     88    20 brown      brown      brown              8 male  mascu~\n",
      "\u001b[90m 4\u001b[39m Dud Bolt     94    45 none       blue, grey yellow            \u001b[31mNA\u001b[39m male  mascu~\n",
      "\u001b[90m 5\u001b[39m R2-D2        96    32 \u001b[31mNA\u001b[39m         white, bl~ red               33 none  mascu~\n",
      "\u001b[90m 6\u001b[39m R4-P17       96    \u001b[31mNA\u001b[39m none       silver, r~ red, blue         \u001b[31mNA\u001b[39m none  femin~\n",
      "\u001b[90m 7\u001b[39m R5-D4        97    32 \u001b[31mNA\u001b[39m         white, red red               \u001b[31mNA\u001b[39m none  mascu~\n",
      "\u001b[90m 8\u001b[39m Sebulba     112    40 none       grey, red  orange            \u001b[31mNA\u001b[39m male  mascu~\n",
      "\u001b[90m 9\u001b[39m Gasgano     122    \u001b[31mNA\u001b[39m none       white, bl~ black             \u001b[31mNA\u001b[39m male  mascu~\n",
      "\u001b[90m10\u001b[39m Watto       137    \u001b[31mNA\u001b[39m black      blue, grey yellow            \u001b[31mNA\u001b[39m male  mascu~\n",
      "\u001b[90m# i 77 more rows\u001b[39m\n",
      "\u001b[90m# i 5 more variables: homeworld <chr>, species <chr>, films <list>,\u001b[39m\n",
      "\u001b[90m#   vehicles <list>, starships <list>\u001b[39m\n"
     ]
    }
   ],
   "source": [
    "arrange(starwars, height) |> print()"
   ]
  },
  {
   "cell_type": "markdown",
   "id": "9031f602-7bdd-4410-9ad1-3a38ce76e461",
   "metadata": {},
   "source": [
    "The `arrange()` function, like most `dplyr` verb functions, takes the dataframe (`starwars`) as its first argument, and the variable names (e.g., `height`) as subsequent arguments.\n",
    "\n",
    "In height order, we can see that Yoda is the shortest character, at 66 cm, with podracer [Ratts Tyerell](https://starwars.fandom.com/wiki/Ratts_Tyerell) next shortest, at 79 cm.\n",
    "\n",
    "We can also arrange the dataframe in *descending* order, with the *`desc()`* function."
   ]
  },
  {
   "cell_type": "code",
   "execution_count": 6,
   "metadata": {
    "tags": [
     "remove-output"
    ],
    "vscode": {
     "languageId": "r"
    }
   },
   "outputs": [
    {
     "data": {
      "text/html": [
       "<table class=\"dataframe\">\n",
       "<caption>A tibble: 87 × 14</caption>\n",
       "<thead>\n",
       "\t<tr><th scope=col>name</th><th scope=col>height</th><th scope=col>mass</th><th scope=col>hair_color</th><th scope=col>skin_color</th><th scope=col>eye_color</th><th scope=col>birth_year</th><th scope=col>sex</th><th scope=col>gender</th><th scope=col>homeworld</th><th scope=col>species</th><th scope=col>films</th><th scope=col>vehicles</th><th scope=col>starships</th></tr>\n",
       "\t<tr><th scope=col>&lt;chr&gt;</th><th scope=col>&lt;int&gt;</th><th scope=col>&lt;dbl&gt;</th><th scope=col>&lt;chr&gt;</th><th scope=col>&lt;chr&gt;</th><th scope=col>&lt;chr&gt;</th><th scope=col>&lt;dbl&gt;</th><th scope=col>&lt;chr&gt;</th><th scope=col>&lt;chr&gt;</th><th scope=col>&lt;chr&gt;</th><th scope=col>&lt;chr&gt;</th><th scope=col>&lt;list&gt;</th><th scope=col>&lt;list&gt;</th><th scope=col>&lt;list&gt;</th></tr>\n",
       "</thead>\n",
       "<tbody>\n",
       "\t<tr><td>Yarael Poof </td><td>264</td><td> NA</td><td>none </td><td>white  </td><td>yellow</td><td> NA</td><td>male</td><td>masculine</td><td>Quermia </td><td>Quermian</td><td>The Phantom Menace</td><td></td><td></td></tr>\n",
       "\t<tr><td>Tarfful     </td><td>234</td><td>136</td><td>brown</td><td>brown  </td><td>blue  </td><td> NA</td><td>male</td><td>masculine</td><td>Kashyyyk</td><td>Wookiee </td><td>Revenge of the Sith</td><td></td><td></td></tr>\n",
       "\t<tr><td>Lama Su     </td><td>229</td><td> 88</td><td>none </td><td>grey   </td><td>black </td><td> NA</td><td>male</td><td>masculine</td><td>Kamino  </td><td>Kaminoan</td><td>Attack of the Clones</td><td></td><td></td></tr>\n",
       "\t<tr><td>Chewbacca   </td><td>228</td><td>112</td><td>brown</td><td>unknown</td><td>blue  </td><td>200</td><td>male</td><td>masculine</td><td>Kashyyyk</td><td>Wookiee </td><td>The Empire Strikes Back, Revenge of the Sith    , Return of the Jedi     , A New Hope             , The Force Awakens      </td><td>AT-ST</td><td>Millennium Falcon, Imperial shuttle </td></tr>\n",
       "\t<tr><td>Roos Tarpals</td><td>224</td><td> 82</td><td>none </td><td>grey   </td><td>orange</td><td> NA</td><td>male</td><td>masculine</td><td>Naboo   </td><td>Gungan  </td><td>The Phantom Menace</td><td></td><td></td></tr>\n",
       "\t<tr><td>...</td><td>...</td><td>...</td><td>...</td><td>...</td><td>...</td><td>...</td><td>...</td><td>...</td><td>...</td><td>...</td><td>...</td><td>...</td><td>...</td></tr>\n",
       "\t<tr><td>Finn          </td><td>NA</td><td>NA</td><td>black  </td><td>dark   </td><td>dark   </td><td>NA</td><td>male  </td><td>masculine</td><td>NA</td><td>Human</td><td>The Force Awakens</td><td></td><td></td></tr>\n",
       "\t<tr><td>Rey           </td><td>NA</td><td>NA</td><td>brown  </td><td>light  </td><td>hazel  </td><td>NA</td><td>female</td><td>feminine </td><td>NA</td><td>Human</td><td>The Force Awakens</td><td></td><td></td></tr>\n",
       "\t<tr><td>Poe Dameron   </td><td>NA</td><td>NA</td><td>brown  </td><td>light  </td><td>brown  </td><td>NA</td><td>male  </td><td>masculine</td><td>NA</td><td>Human</td><td>The Force Awakens</td><td></td><td>T-70 X-wing fighter</td></tr>\n",
       "\t<tr><td>BB8           </td><td>NA</td><td>NA</td><td>none   </td><td>none   </td><td>black  </td><td>NA</td><td>none  </td><td>masculine</td><td>NA</td><td>Droid</td><td>The Force Awakens</td><td></td><td></td></tr>\n",
       "\t<tr><td>Captain Phasma</td><td>NA</td><td>NA</td><td>unknown</td><td>unknown</td><td>unknown</td><td>NA</td><td>NA    </td><td>NA       </td><td>NA</td><td>NA   </td><td>The Force Awakens</td><td></td><td></td></tr>\n",
       "</tbody>\n",
       "</table>\n"
      ],
      "text/latex": [
       "A tibble: 87 × 14\n",
       "\\begin{tabular}{llllllllllllll}\n",
       " name & height & mass & hair\\_color & skin\\_color & eye\\_color & birth\\_year & sex & gender & homeworld & species & films & vehicles & starships\\\\\n",
       " <chr> & <int> & <dbl> & <chr> & <chr> & <chr> & <dbl> & <chr> & <chr> & <chr> & <chr> & <list> & <list> & <list>\\\\\n",
       "\\hline\n",
       "\t Yarael Poof  & 264 &  NA & none  & white   & yellow &  NA & male & masculine & Quermia  & Quermian & The Phantom Menace &  & \\\\\n",
       "\t Tarfful      & 234 & 136 & brown & brown   & blue   &  NA & male & masculine & Kashyyyk & Wookiee  & Revenge of the Sith &  & \\\\\n",
       "\t Lama Su      & 229 &  88 & none  & grey    & black  &  NA & male & masculine & Kamino   & Kaminoan & Attack of the Clones &  & \\\\\n",
       "\t Chewbacca    & 228 & 112 & brown & unknown & blue   & 200 & male & masculine & Kashyyyk & Wookiee  & The Empire Strikes Back, Revenge of the Sith    , Return of the Jedi     , A New Hope             , The Force Awakens       & AT-ST & Millennium Falcon, Imperial shuttle \\\\\n",
       "\t Roos Tarpals & 224 &  82 & none  & grey    & orange &  NA & male & masculine & Naboo    & Gungan   & The Phantom Menace &  & \\\\\n",
       "\t ... & ... & ... & ... & ... & ... & ... & ... & ... & ... & ... & ... & ... & ...\\\\\n",
       "\t Finn           & NA & NA & black   & dark    & dark    & NA & male   & masculine & NA & Human & The Force Awakens &  & \\\\\n",
       "\t Rey            & NA & NA & brown   & light   & hazel   & NA & female & feminine  & NA & Human & The Force Awakens &  & \\\\\n",
       "\t Poe Dameron    & NA & NA & brown   & light   & brown   & NA & male   & masculine & NA & Human & The Force Awakens &  & T-70 X-wing fighter\\\\\n",
       "\t BB8            & NA & NA & none    & none    & black   & NA & none   & masculine & NA & Droid & The Force Awakens &  & \\\\\n",
       "\t Captain Phasma & NA & NA & unknown & unknown & unknown & NA & NA     & NA        & NA & NA    & The Force Awakens &  & \\\\\n",
       "\\end{tabular}\n"
      ],
      "text/markdown": [
       "\n",
       "A tibble: 87 × 14\n",
       "\n",
       "| name &lt;chr&gt; | height &lt;int&gt; | mass &lt;dbl&gt; | hair_color &lt;chr&gt; | skin_color &lt;chr&gt; | eye_color &lt;chr&gt; | birth_year &lt;dbl&gt; | sex &lt;chr&gt; | gender &lt;chr&gt; | homeworld &lt;chr&gt; | species &lt;chr&gt; | films &lt;list&gt; | vehicles &lt;list&gt; | starships &lt;list&gt; |\n",
       "|---|---|---|---|---|---|---|---|---|---|---|---|---|---|\n",
       "| Yarael Poof  | 264 |  NA | none  | white   | yellow |  NA | male | masculine | Quermia  | Quermian | The Phantom Menace | <!----> | <!----> |\n",
       "| Tarfful      | 234 | 136 | brown | brown   | blue   |  NA | male | masculine | Kashyyyk | Wookiee  | Revenge of the Sith | <!----> | <!----> |\n",
       "| Lama Su      | 229 |  88 | none  | grey    | black  |  NA | male | masculine | Kamino   | Kaminoan | Attack of the Clones | <!----> | <!----> |\n",
       "| Chewbacca    | 228 | 112 | brown | unknown | blue   | 200 | male | masculine | Kashyyyk | Wookiee  | The Empire Strikes Back, Revenge of the Sith    , Return of the Jedi     , A New Hope             , The Force Awakens       | AT-ST | Millennium Falcon, Imperial shuttle  |\n",
       "| Roos Tarpals | 224 |  82 | none  | grey    | orange |  NA | male | masculine | Naboo    | Gungan   | The Phantom Menace | <!----> | <!----> |\n",
       "| ... | ... | ... | ... | ... | ... | ... | ... | ... | ... | ... | ... | ... | ... |\n",
       "| Finn           | NA | NA | black   | dark    | dark    | NA | male   | masculine | NA | Human | The Force Awakens | <!----> | <!----> |\n",
       "| Rey            | NA | NA | brown   | light   | hazel   | NA | female | feminine  | NA | Human | The Force Awakens | <!----> | <!----> |\n",
       "| Poe Dameron    | NA | NA | brown   | light   | brown   | NA | male   | masculine | NA | Human | The Force Awakens | <!----> | T-70 X-wing fighter |\n",
       "| BB8            | NA | NA | none    | none    | black   | NA | none   | masculine | NA | Droid | The Force Awakens | <!----> | <!----> |\n",
       "| Captain Phasma | NA | NA | unknown | unknown | unknown | NA | NA     | NA        | NA | NA    | The Force Awakens | <!----> | <!----> |\n",
       "\n"
      ],
      "text/plain": [
       "    name           height mass hair_color skin_color eye_color birth_year\n",
       "1   Yarael Poof    264     NA  none       white      yellow     NA       \n",
       "2   Tarfful        234    136  brown      brown      blue       NA       \n",
       "3   Lama Su        229     88  none       grey       black      NA       \n",
       "4   Chewbacca      228    112  brown      unknown    blue      200       \n",
       "5   Roos Tarpals   224     82  none       grey       orange     NA       \n",
       "... ...            ...    ...  ...        ...        ...       ...       \n",
       "83  Finn           NA     NA   black      dark       dark      NA        \n",
       "84  Rey            NA     NA   brown      light      hazel     NA        \n",
       "85  Poe Dameron    NA     NA   brown      light      brown     NA        \n",
       "86  BB8            NA     NA   none       none       black     NA        \n",
       "87  Captain Phasma NA     NA   unknown    unknown    unknown   NA        \n",
       "    sex    gender    homeworld species \n",
       "1   male   masculine Quermia   Quermian\n",
       "2   male   masculine Kashyyyk  Wookiee \n",
       "3   male   masculine Kamino    Kaminoan\n",
       "4   male   masculine Kashyyyk  Wookiee \n",
       "5   male   masculine Naboo     Gungan  \n",
       "... ...    ...       ...       ...     \n",
       "83  male   masculine NA        Human   \n",
       "84  female feminine  NA        Human   \n",
       "85  male   masculine NA        Human   \n",
       "86  none   masculine NA        Droid   \n",
       "87  NA     NA        NA        NA      \n",
       "    films                                                                                                                      \n",
       "1   The Phantom Menace                                                                                                         \n",
       "2   Revenge of the Sith                                                                                                        \n",
       "3   Attack of the Clones                                                                                                       \n",
       "4   The Empire Strikes Back, Revenge of the Sith    , Return of the Jedi     , A New Hope             , The Force Awakens      \n",
       "5   The Phantom Menace                                                                                                         \n",
       "... ...                                                                                                                        \n",
       "83  The Force Awakens                                                                                                          \n",
       "84  The Force Awakens                                                                                                          \n",
       "85  The Force Awakens                                                                                                          \n",
       "86  The Force Awakens                                                                                                          \n",
       "87  The Force Awakens                                                                                                          \n",
       "    vehicles starships                           \n",
       "1                                                \n",
       "2                                                \n",
       "3                                                \n",
       "4   AT-ST    Millennium Falcon, Imperial shuttle \n",
       "5                                                \n",
       "... ...      ...                                 \n",
       "83                                               \n",
       "84                                               \n",
       "85           T-70 X-wing fighter                 \n",
       "86                                               \n",
       "87                                               "
      ]
     },
     "metadata": {},
     "output_type": "display_data"
    }
   ],
   "source": [
    "arrange(starwars, desc(height))"
   ]
  },
  {
   "cell_type": "code",
   "execution_count": 7,
   "metadata": {
    "tags": [
     "remove-input"
    ],
    "vscode": {
     "languageId": "r"
    }
   },
   "outputs": [
    {
     "name": "stdout",
     "output_type": "stream",
     "text": [
      "\u001b[90m# A tibble: 87 x 14\u001b[39m\n",
      "   name     height  mass hair_color skin_color eye_color birth_year sex   gender\n",
      "   \u001b[3m\u001b[90m<chr>\u001b[39m\u001b[23m     \u001b[3m\u001b[90m<int>\u001b[39m\u001b[23m \u001b[3m\u001b[90m<dbl>\u001b[39m\u001b[23m \u001b[3m\u001b[90m<chr>\u001b[39m\u001b[23m      \u001b[3m\u001b[90m<chr>\u001b[39m\u001b[23m      \u001b[3m\u001b[90m<chr>\u001b[39m\u001b[23m          \u001b[3m\u001b[90m<dbl>\u001b[39m\u001b[23m \u001b[3m\u001b[90m<chr>\u001b[39m\u001b[23m \u001b[3m\u001b[90m<chr>\u001b[39m\u001b[23m \n",
      "\u001b[90m 1\u001b[39m Yarael ~    264    \u001b[31mNA\u001b[39m none       white      yellow          \u001b[31mNA\u001b[39m   male  mascu~\n",
      "\u001b[90m 2\u001b[39m Tarfful     234   136 brown      brown      blue            \u001b[31mNA\u001b[39m   male  mascu~\n",
      "\u001b[90m 3\u001b[39m Lama Su     229    88 none       grey       black           \u001b[31mNA\u001b[39m   male  mascu~\n",
      "\u001b[90m 4\u001b[39m Chewbac~    228   112 brown      unknown    blue           200   male  mascu~\n",
      "\u001b[90m 5\u001b[39m Roos Ta~    224    82 none       grey       orange          \u001b[31mNA\u001b[39m   male  mascu~\n",
      "\u001b[90m 6\u001b[39m Grievous    216   159 none       brown, wh~ green, y~       \u001b[31mNA\u001b[39m   male  mascu~\n",
      "\u001b[90m 7\u001b[39m Taun We     213    \u001b[31mNA\u001b[39m none       grey       black           \u001b[31mNA\u001b[39m   fema~ femin~\n",
      "\u001b[90m 8\u001b[39m Rugor N~    206    \u001b[31mNA\u001b[39m none       green      orange          \u001b[31mNA\u001b[39m   male  mascu~\n",
      "\u001b[90m 9\u001b[39m Tion Me~    206    80 none       grey       black           \u001b[31mNA\u001b[39m   male  mascu~\n",
      "\u001b[90m10\u001b[39m Darth V~    202   136 none       white      yellow          41.9 male  mascu~\n",
      "\u001b[90m# i 77 more rows\u001b[39m\n",
      "\u001b[90m# i 5 more variables: homeworld <chr>, species <chr>, films <list>,\u001b[39m\n",
      "\u001b[90m#   vehicles <list>, starships <list>\u001b[39m\n"
     ]
    }
   ],
   "source": [
    "arrange(starwars, desc(height)) |> print()"
   ]
  },
  {
   "cell_type": "markdown",
   "metadata": {},
   "source": [
    "This shows us that long-necked Jedi, [Yarael Poof](https://starwars.fandom.com/wiki/Yarael_Poof), is the tallest character, at 264 cm.\n",
    "\n",
    "As well as sorting by numeric variables, we can also sort by character variables. For instance, we can sort by hair colour. If we do this we will sort hair alphabetically, from \"auburn\" to \"white\"."
   ]
  },
  {
   "cell_type": "code",
   "execution_count": 8,
   "metadata": {
    "tags": [
     "remove-output"
    ],
    "vscode": {
     "languageId": "r"
    }
   },
   "outputs": [
    {
     "data": {
      "text/html": [
       "<table class=\"dataframe\">\n",
       "<caption>A tibble: 87 × 14</caption>\n",
       "<thead>\n",
       "\t<tr><th scope=col>name</th><th scope=col>height</th><th scope=col>mass</th><th scope=col>hair_color</th><th scope=col>skin_color</th><th scope=col>eye_color</th><th scope=col>birth_year</th><th scope=col>sex</th><th scope=col>gender</th><th scope=col>homeworld</th><th scope=col>species</th><th scope=col>films</th><th scope=col>vehicles</th><th scope=col>starships</th></tr>\n",
       "\t<tr><th scope=col>&lt;chr&gt;</th><th scope=col>&lt;int&gt;</th><th scope=col>&lt;dbl&gt;</th><th scope=col>&lt;chr&gt;</th><th scope=col>&lt;chr&gt;</th><th scope=col>&lt;chr&gt;</th><th scope=col>&lt;dbl&gt;</th><th scope=col>&lt;chr&gt;</th><th scope=col>&lt;chr&gt;</th><th scope=col>&lt;chr&gt;</th><th scope=col>&lt;chr&gt;</th><th scope=col>&lt;list&gt;</th><th scope=col>&lt;list&gt;</th><th scope=col>&lt;list&gt;</th></tr>\n",
       "</thead>\n",
       "<tbody>\n",
       "\t<tr><td>Mon Mothma       </td><td>150</td><td>  NA</td><td>auburn       </td><td>fair </td><td>blue     </td><td>48.0</td><td>female</td><td>feminine </td><td>Chandrila</td><td>Human</td><td>Return of the Jedi</td><td></td><td></td></tr>\n",
       "\t<tr><td>Wilhuff Tarkin   </td><td>180</td><td>  NA</td><td>auburn, grey </td><td>fair </td><td>blue     </td><td>64.0</td><td>male  </td><td>masculine</td><td>Eriadu   </td><td>Human</td><td>Revenge of the Sith, A New Hope         </td><td></td><td></td></tr>\n",
       "\t<tr><td>Obi-Wan Kenobi   </td><td>182</td><td>77.0</td><td>auburn, white</td><td>fair </td><td>blue-gray</td><td>57.0</td><td>male  </td><td>masculine</td><td>Stewjon  </td><td>Human</td><td>The Empire Strikes Back, Attack of the Clones   , The Phantom Menace     , Revenge of the Sith    , Return of the Jedi     , A New Hope             </td><td>Tribubble bongo</td><td>Jedi starfighter        , Trade Federation cruiser, Naboo star skiff        , Jedi Interceptor        , Belbullab-22 starfighter</td></tr>\n",
       "\t<tr><td>Biggs Darklighter</td><td>183</td><td>84.0</td><td>black        </td><td>light</td><td>brown    </td><td>24.0</td><td>male  </td><td>masculine</td><td>Tatooine </td><td>Human</td><td>A New Hope</td><td></td><td>X-wing</td></tr>\n",
       "\t<tr><td>Boba Fett        </td><td>183</td><td>78.2</td><td>black        </td><td>fair </td><td>brown    </td><td>31.5</td><td>male  </td><td>masculine</td><td>Kamino   </td><td>Human</td><td>The Empire Strikes Back, Attack of the Clones   , Return of the Jedi     </td><td></td><td>Slave 1</td></tr>\n",
       "\t<tr><td>...</td><td>...</td><td>...</td><td>...</td><td>...</td><td>...</td><td>...</td><td>...</td><td>...</td><td>...</td><td>...</td><td>...</td><td>...</td><td>...</td></tr>\n",
       "\t<tr><td>C-3PO                </td><td>167</td><td>  75</td><td>NA</td><td>gold            </td><td>yellow</td><td>112</td><td>none          </td><td>masculine</td><td>Tatooine </td><td>Droid </td><td>The Empire Strikes Back, Attack of the Clones   , The Phantom Menace     , Revenge of the Sith    , Return of the Jedi     , A New Hope             </td><td></td><td></td></tr>\n",
       "\t<tr><td>R2-D2                </td><td> 96</td><td>  32</td><td>NA</td><td>white, blue     </td><td>red   </td><td> 33</td><td>none          </td><td>masculine</td><td>Naboo    </td><td>Droid </td><td>The Empire Strikes Back, Attack of the Clones   , The Phantom Menace     , Revenge of the Sith    , Return of the Jedi     , A New Hope             , The Force Awakens      </td><td></td><td></td></tr>\n",
       "\t<tr><td>R5-D4                </td><td> 97</td><td>  32</td><td>NA</td><td>white, red      </td><td>red   </td><td> NA</td><td>none          </td><td>masculine</td><td>Tatooine </td><td>Droid </td><td>A New Hope</td><td></td><td></td></tr>\n",
       "\t<tr><td>Greedo               </td><td>173</td><td>  74</td><td>NA</td><td>green           </td><td>black </td><td> 44</td><td>male          </td><td>masculine</td><td>Rodia    </td><td>Rodian</td><td>A New Hope</td><td></td><td></td></tr>\n",
       "\t<tr><td>Jabba Desilijic Tiure</td><td>175</td><td>1358</td><td>NA</td><td>green-tan, brown</td><td>orange</td><td>600</td><td>hermaphroditic</td><td>masculine</td><td>Nal Hutta</td><td>Hutt  </td><td>The Phantom Menace, Return of the Jedi, A New Hope        </td><td></td><td></td></tr>\n",
       "</tbody>\n",
       "</table>\n"
      ],
      "text/latex": [
       "A tibble: 87 × 14\n",
       "\\begin{tabular}{llllllllllllll}\n",
       " name & height & mass & hair\\_color & skin\\_color & eye\\_color & birth\\_year & sex & gender & homeworld & species & films & vehicles & starships\\\\\n",
       " <chr> & <int> & <dbl> & <chr> & <chr> & <chr> & <dbl> & <chr> & <chr> & <chr> & <chr> & <list> & <list> & <list>\\\\\n",
       "\\hline\n",
       "\t Mon Mothma        & 150 &   NA & auburn        & fair  & blue      & 48.0 & female & feminine  & Chandrila & Human & Return of the Jedi &  & \\\\\n",
       "\t Wilhuff Tarkin    & 180 &   NA & auburn, grey  & fair  & blue      & 64.0 & male   & masculine & Eriadu    & Human & Revenge of the Sith, A New Hope          &  & \\\\\n",
       "\t Obi-Wan Kenobi    & 182 & 77.0 & auburn, white & fair  & blue-gray & 57.0 & male   & masculine & Stewjon   & Human & The Empire Strikes Back, Attack of the Clones   , The Phantom Menace     , Revenge of the Sith    , Return of the Jedi     , A New Hope              & Tribubble bongo & Jedi starfighter        , Trade Federation cruiser, Naboo star skiff        , Jedi Interceptor        , Belbullab-22 starfighter\\\\\n",
       "\t Biggs Darklighter & 183 & 84.0 & black         & light & brown     & 24.0 & male   & masculine & Tatooine  & Human & A New Hope &  & X-wing\\\\\n",
       "\t Boba Fett         & 183 & 78.2 & black         & fair  & brown     & 31.5 & male   & masculine & Kamino    & Human & The Empire Strikes Back, Attack of the Clones   , Return of the Jedi      &  & Slave 1\\\\\n",
       "\t ... & ... & ... & ... & ... & ... & ... & ... & ... & ... & ... & ... & ... & ...\\\\\n",
       "\t C-3PO                 & 167 &   75 & NA & gold             & yellow & 112 & none           & masculine & Tatooine  & Droid  & The Empire Strikes Back, Attack of the Clones   , The Phantom Menace     , Revenge of the Sith    , Return of the Jedi     , A New Hope              &  & \\\\\n",
       "\t R2-D2                 &  96 &   32 & NA & white, blue      & red    &  33 & none           & masculine & Naboo     & Droid  & The Empire Strikes Back, Attack of the Clones   , The Phantom Menace     , Revenge of the Sith    , Return of the Jedi     , A New Hope             , The Force Awakens       &  & \\\\\n",
       "\t R5-D4                 &  97 &   32 & NA & white, red       & red    &  NA & none           & masculine & Tatooine  & Droid  & A New Hope &  & \\\\\n",
       "\t Greedo                & 173 &   74 & NA & green            & black  &  44 & male           & masculine & Rodia     & Rodian & A New Hope &  & \\\\\n",
       "\t Jabba Desilijic Tiure & 175 & 1358 & NA & green-tan, brown & orange & 600 & hermaphroditic & masculine & Nal Hutta & Hutt   & The Phantom Menace, Return of the Jedi, A New Hope         &  & \\\\\n",
       "\\end{tabular}\n"
      ],
      "text/markdown": [
       "\n",
       "A tibble: 87 × 14\n",
       "\n",
       "| name &lt;chr&gt; | height &lt;int&gt; | mass &lt;dbl&gt; | hair_color &lt;chr&gt; | skin_color &lt;chr&gt; | eye_color &lt;chr&gt; | birth_year &lt;dbl&gt; | sex &lt;chr&gt; | gender &lt;chr&gt; | homeworld &lt;chr&gt; | species &lt;chr&gt; | films &lt;list&gt; | vehicles &lt;list&gt; | starships &lt;list&gt; |\n",
       "|---|---|---|---|---|---|---|---|---|---|---|---|---|---|\n",
       "| Mon Mothma        | 150 |   NA | auburn        | fair  | blue      | 48.0 | female | feminine  | Chandrila | Human | Return of the Jedi | <!----> | <!----> |\n",
       "| Wilhuff Tarkin    | 180 |   NA | auburn, grey  | fair  | blue      | 64.0 | male   | masculine | Eriadu    | Human | Revenge of the Sith, A New Hope          | <!----> | <!----> |\n",
       "| Obi-Wan Kenobi    | 182 | 77.0 | auburn, white | fair  | blue-gray | 57.0 | male   | masculine | Stewjon   | Human | The Empire Strikes Back, Attack of the Clones   , The Phantom Menace     , Revenge of the Sith    , Return of the Jedi     , A New Hope              | Tribubble bongo | Jedi starfighter        , Trade Federation cruiser, Naboo star skiff        , Jedi Interceptor        , Belbullab-22 starfighter |\n",
       "| Biggs Darklighter | 183 | 84.0 | black         | light | brown     | 24.0 | male   | masculine | Tatooine  | Human | A New Hope | <!----> | X-wing |\n",
       "| Boba Fett         | 183 | 78.2 | black         | fair  | brown     | 31.5 | male   | masculine | Kamino    | Human | The Empire Strikes Back, Attack of the Clones   , Return of the Jedi      | <!----> | Slave 1 |\n",
       "| ... | ... | ... | ... | ... | ... | ... | ... | ... | ... | ... | ... | ... | ... |\n",
       "| C-3PO                 | 167 |   75 | NA | gold             | yellow | 112 | none           | masculine | Tatooine  | Droid  | The Empire Strikes Back, Attack of the Clones   , The Phantom Menace     , Revenge of the Sith    , Return of the Jedi     , A New Hope              | <!----> | <!----> |\n",
       "| R2-D2                 |  96 |   32 | NA | white, blue      | red    |  33 | none           | masculine | Naboo     | Droid  | The Empire Strikes Back, Attack of the Clones   , The Phantom Menace     , Revenge of the Sith    , Return of the Jedi     , A New Hope             , The Force Awakens       | <!----> | <!----> |\n",
       "| R5-D4                 |  97 |   32 | NA | white, red       | red    |  NA | none           | masculine | Tatooine  | Droid  | A New Hope | <!----> | <!----> |\n",
       "| Greedo                | 173 |   74 | NA | green            | black  |  44 | male           | masculine | Rodia     | Rodian | A New Hope | <!----> | <!----> |\n",
       "| Jabba Desilijic Tiure | 175 | 1358 | NA | green-tan, brown | orange | 600 | hermaphroditic | masculine | Nal Hutta | Hutt   | The Phantom Menace, Return of the Jedi, A New Hope         | <!----> | <!----> |\n",
       "\n"
      ],
      "text/plain": [
       "    name                  height mass hair_color    skin_color       eye_color\n",
       "1   Mon Mothma            150      NA auburn        fair             blue     \n",
       "2   Wilhuff Tarkin        180      NA auburn, grey  fair             blue     \n",
       "3   Obi-Wan Kenobi        182    77.0 auburn, white fair             blue-gray\n",
       "4   Biggs Darklighter     183    84.0 black         light            brown    \n",
       "5   Boba Fett             183    78.2 black         fair             brown    \n",
       "... ...                   ...    ...  ...           ...              ...      \n",
       "83  C-3PO                 167      75 NA            gold             yellow   \n",
       "84  R2-D2                  96      32 NA            white, blue      red      \n",
       "85  R5-D4                  97      32 NA            white, red       red      \n",
       "86  Greedo                173      74 NA            green            black    \n",
       "87  Jabba Desilijic Tiure 175    1358 NA            green-tan, brown orange   \n",
       "    birth_year sex            gender    homeworld species\n",
       "1   48.0       female         feminine  Chandrila Human  \n",
       "2   64.0       male           masculine Eriadu    Human  \n",
       "3   57.0       male           masculine Stewjon   Human  \n",
       "4   24.0       male           masculine Tatooine  Human  \n",
       "5   31.5       male           masculine Kamino    Human  \n",
       "... ...        ...            ...       ...       ...    \n",
       "83  112        none           masculine Tatooine  Droid  \n",
       "84   33        none           masculine Naboo     Droid  \n",
       "85   NA        none           masculine Tatooine  Droid  \n",
       "86   44        male           masculine Rodia     Rodian \n",
       "87  600        hermaphroditic masculine Nal Hutta Hutt   \n",
       "    films                                                                                                                                                                        \n",
       "1   Return of the Jedi                                                                                                                                                           \n",
       "2   Revenge of the Sith, A New Hope                                                                                                                                              \n",
       "3   The Empire Strikes Back, Attack of the Clones   , The Phantom Menace     , Revenge of the Sith    , Return of the Jedi     , A New Hope                                      \n",
       "4   A New Hope                                                                                                                                                                   \n",
       "5   The Empire Strikes Back, Attack of the Clones   , Return of the Jedi                                                                                                         \n",
       "... ...                                                                                                                                                                          \n",
       "83  The Empire Strikes Back, Attack of the Clones   , The Phantom Menace     , Revenge of the Sith    , Return of the Jedi     , A New Hope                                      \n",
       "84  The Empire Strikes Back, Attack of the Clones   , The Phantom Menace     , Revenge of the Sith    , Return of the Jedi     , A New Hope             , The Force Awakens      \n",
       "85  A New Hope                                                                                                                                                                   \n",
       "86  A New Hope                                                                                                                                                                   \n",
       "87  The Phantom Menace, Return of the Jedi, A New Hope                                                                                                                           \n",
       "    vehicles       \n",
       "1                  \n",
       "2                  \n",
       "3   Tribubble bongo\n",
       "4                  \n",
       "5                  \n",
       "... ...            \n",
       "83                 \n",
       "84                 \n",
       "85                 \n",
       "86                 \n",
       "87                 \n",
       "    starships                                                                                                                       \n",
       "1                                                                                                                                   \n",
       "2                                                                                                                                   \n",
       "3   Jedi starfighter        , Trade Federation cruiser, Naboo star skiff        , Jedi Interceptor        , Belbullab-22 starfighter\n",
       "4   X-wing                                                                                                                          \n",
       "5   Slave 1                                                                                                                         \n",
       "... ...                                                                                                                             \n",
       "83                                                                                                                                  \n",
       "84                                                                                                                                  \n",
       "85                                                                                                                                  \n",
       "86                                                                                                                                  \n",
       "87                                                                                                                                  "
      ]
     },
     "metadata": {},
     "output_type": "display_data"
    }
   ],
   "source": [
    "arrange(starwars, hair_color)"
   ]
  },
  {
   "cell_type": "code",
   "execution_count": 9,
   "metadata": {
    "tags": [
     "remove-input"
    ],
    "vscode": {
     "languageId": "r"
    }
   },
   "outputs": [
    {
     "name": "stdout",
     "output_type": "stream",
     "text": [
      "\u001b[90m# A tibble: 87 x 14\u001b[39m\n",
      "   name     height  mass hair_color skin_color eye_color birth_year sex   gender\n",
      "   \u001b[3m\u001b[90m<chr>\u001b[39m\u001b[23m     \u001b[3m\u001b[90m<int>\u001b[39m\u001b[23m \u001b[3m\u001b[90m<dbl>\u001b[39m\u001b[23m \u001b[3m\u001b[90m<chr>\u001b[39m\u001b[23m      \u001b[3m\u001b[90m<chr>\u001b[39m\u001b[23m      \u001b[3m\u001b[90m<chr>\u001b[39m\u001b[23m          \u001b[3m\u001b[90m<dbl>\u001b[39m\u001b[23m \u001b[3m\u001b[90m<chr>\u001b[39m\u001b[23m \u001b[3m\u001b[90m<chr>\u001b[39m\u001b[23m \n",
      "\u001b[90m 1\u001b[39m Mon Mot~    150  \u001b[31mNA\u001b[39m   auburn     fair       blue            48   fema~ femin~\n",
      "\u001b[90m 2\u001b[39m Wilhuff~    180  \u001b[31mNA\u001b[39m   auburn, g~ fair       blue            64   male  mascu~\n",
      "\u001b[90m 3\u001b[39m Obi-Wan~    182  77   auburn, w~ fair       blue-gray       57   male  mascu~\n",
      "\u001b[90m 4\u001b[39m Biggs D~    183  84   black      light      brown           24   male  mascu~\n",
      "\u001b[90m 5\u001b[39m Boba Fe~    183  78.2 black      fair       brown           31.5 male  mascu~\n",
      "\u001b[90m 6\u001b[39m Lando C~    177  79   black      dark       brown           31   male  mascu~\n",
      "\u001b[90m 7\u001b[39m Watto       137  \u001b[31mNA\u001b[39m   black      blue, grey yellow          \u001b[31mNA\u001b[39m   male  mascu~\n",
      "\u001b[90m 8\u001b[39m Quarsh ~    183  \u001b[31mNA\u001b[39m   black      dark       brown           62   \u001b[31mNA\u001b[39m    \u001b[31mNA\u001b[39m    \n",
      "\u001b[90m 9\u001b[39m Shmi Sk~    163  \u001b[31mNA\u001b[39m   black      fair       brown           72   fema~ femin~\n",
      "\u001b[90m10\u001b[39m Eeth Ko~    171  \u001b[31mNA\u001b[39m   black      brown      brown           \u001b[31mNA\u001b[39m   male  mascu~\n",
      "\u001b[90m# i 77 more rows\u001b[39m\n",
      "\u001b[90m# i 5 more variables: homeworld <chr>, species <chr>, films <list>,\u001b[39m\n",
      "\u001b[90m#   vehicles <list>, starships <list>\u001b[39m\n"
     ]
    }
   ],
   "source": [
    "arrange(starwars, hair_color) |> print()"
   ]
  },
  {
   "cell_type": "markdown",
   "metadata": {},
   "source": [
    "Finally, we can sort by multiple variables at once with comma-separated statements. For instance, we may want to sort by hair colour alphabetically, and then by height descendingly:"
   ]
  },
  {
   "cell_type": "code",
   "execution_count": 10,
   "metadata": {
    "tags": [
     "remove-output"
    ],
    "vscode": {
     "languageId": "r"
    }
   },
   "outputs": [
    {
     "data": {
      "text/html": [
       "<table class=\"dataframe\">\n",
       "<caption>A tibble: 87 × 14</caption>\n",
       "<thead>\n",
       "\t<tr><th scope=col>name</th><th scope=col>height</th><th scope=col>mass</th><th scope=col>hair_color</th><th scope=col>skin_color</th><th scope=col>eye_color</th><th scope=col>birth_year</th><th scope=col>sex</th><th scope=col>gender</th><th scope=col>homeworld</th><th scope=col>species</th><th scope=col>films</th><th scope=col>vehicles</th><th scope=col>starships</th></tr>\n",
       "\t<tr><th scope=col>&lt;chr&gt;</th><th scope=col>&lt;int&gt;</th><th scope=col>&lt;dbl&gt;</th><th scope=col>&lt;chr&gt;</th><th scope=col>&lt;chr&gt;</th><th scope=col>&lt;chr&gt;</th><th scope=col>&lt;dbl&gt;</th><th scope=col>&lt;chr&gt;</th><th scope=col>&lt;chr&gt;</th><th scope=col>&lt;chr&gt;</th><th scope=col>&lt;chr&gt;</th><th scope=col>&lt;list&gt;</th><th scope=col>&lt;list&gt;</th><th scope=col>&lt;list&gt;</th></tr>\n",
       "</thead>\n",
       "<tbody>\n",
       "\t<tr><td>Mon Mothma         </td><td>150</td><td>NA</td><td>auburn       </td><td>fair</td><td>blue     </td><td>48</td><td>female</td><td>feminine </td><td>Chandrila</td><td>Human</td><td>Return of the Jedi</td><td></td><td></td></tr>\n",
       "\t<tr><td>Wilhuff Tarkin     </td><td>180</td><td>NA</td><td>auburn, grey </td><td>fair</td><td>blue     </td><td>64</td><td>male  </td><td>masculine</td><td>Eriadu   </td><td>Human</td><td>Revenge of the Sith, A New Hope         </td><td></td><td></td></tr>\n",
       "\t<tr><td>Obi-Wan Kenobi     </td><td>182</td><td>77</td><td>auburn, white</td><td>fair</td><td>blue-gray</td><td>57</td><td>male  </td><td>masculine</td><td>Stewjon  </td><td>Human</td><td>The Empire Strikes Back, Attack of the Clones   , The Phantom Menace     , Revenge of the Sith    , Return of the Jedi     , A New Hope             </td><td>Tribubble bongo</td><td>Jedi starfighter        , Trade Federation cruiser, Naboo star skiff        , Jedi Interceptor        , Belbullab-22 starfighter</td></tr>\n",
       "\t<tr><td>Bail Prestor Organa</td><td>191</td><td>NA</td><td>black        </td><td>tan </td><td>brown    </td><td>67</td><td>male  </td><td>masculine</td><td>Alderaan </td><td>Human</td><td>Attack of the Clones, Revenge of the Sith </td><td></td><td></td></tr>\n",
       "\t<tr><td>Gregar Typho       </td><td>185</td><td>85</td><td>black        </td><td>dark</td><td>brown    </td><td>NA</td><td>male  </td><td>masculine</td><td>Naboo    </td><td>Human</td><td>Attack of the Clones</td><td></td><td>Naboo fighter</td></tr>\n",
       "\t<tr><td>...</td><td>...</td><td>...</td><td>...</td><td>...</td><td>...</td><td>...</td><td>...</td><td>...</td><td>...</td><td>...</td><td>...</td><td>...</td><td>...</td></tr>\n",
       "\t<tr><td>Jabba Desilijic Tiure</td><td>175</td><td>1358</td><td>NA</td><td>green-tan, brown</td><td>orange</td><td>600</td><td>hermaphroditic</td><td>masculine</td><td>Nal Hutta</td><td>Hutt  </td><td>The Phantom Menace, Return of the Jedi, A New Hope        </td><td></td><td></td></tr>\n",
       "\t<tr><td>Greedo               </td><td>173</td><td>  74</td><td>NA</td><td>green           </td><td>black </td><td> 44</td><td>male          </td><td>masculine</td><td>Rodia    </td><td>Rodian</td><td>A New Hope</td><td></td><td></td></tr>\n",
       "\t<tr><td>C-3PO                </td><td>167</td><td>  75</td><td>NA</td><td>gold            </td><td>yellow</td><td>112</td><td>none          </td><td>masculine</td><td>Tatooine </td><td>Droid </td><td>The Empire Strikes Back, Attack of the Clones   , The Phantom Menace     , Revenge of the Sith    , Return of the Jedi     , A New Hope             </td><td></td><td></td></tr>\n",
       "\t<tr><td>R5-D4                </td><td> 97</td><td>  32</td><td>NA</td><td>white, red      </td><td>red   </td><td> NA</td><td>none          </td><td>masculine</td><td>Tatooine </td><td>Droid </td><td>A New Hope</td><td></td><td></td></tr>\n",
       "\t<tr><td>R2-D2                </td><td> 96</td><td>  32</td><td>NA</td><td>white, blue     </td><td>red   </td><td> 33</td><td>none          </td><td>masculine</td><td>Naboo    </td><td>Droid </td><td>The Empire Strikes Back, Attack of the Clones   , The Phantom Menace     , Revenge of the Sith    , Return of the Jedi     , A New Hope             , The Force Awakens      </td><td></td><td></td></tr>\n",
       "</tbody>\n",
       "</table>\n"
      ],
      "text/latex": [
       "A tibble: 87 × 14\n",
       "\\begin{tabular}{llllllllllllll}\n",
       " name & height & mass & hair\\_color & skin\\_color & eye\\_color & birth\\_year & sex & gender & homeworld & species & films & vehicles & starships\\\\\n",
       " <chr> & <int> & <dbl> & <chr> & <chr> & <chr> & <dbl> & <chr> & <chr> & <chr> & <chr> & <list> & <list> & <list>\\\\\n",
       "\\hline\n",
       "\t Mon Mothma          & 150 & NA & auburn        & fair & blue      & 48 & female & feminine  & Chandrila & Human & Return of the Jedi &  & \\\\\n",
       "\t Wilhuff Tarkin      & 180 & NA & auburn, grey  & fair & blue      & 64 & male   & masculine & Eriadu    & Human & Revenge of the Sith, A New Hope          &  & \\\\\n",
       "\t Obi-Wan Kenobi      & 182 & 77 & auburn, white & fair & blue-gray & 57 & male   & masculine & Stewjon   & Human & The Empire Strikes Back, Attack of the Clones   , The Phantom Menace     , Revenge of the Sith    , Return of the Jedi     , A New Hope              & Tribubble bongo & Jedi starfighter        , Trade Federation cruiser, Naboo star skiff        , Jedi Interceptor        , Belbullab-22 starfighter\\\\\n",
       "\t Bail Prestor Organa & 191 & NA & black         & tan  & brown     & 67 & male   & masculine & Alderaan  & Human & Attack of the Clones, Revenge of the Sith  &  & \\\\\n",
       "\t Gregar Typho        & 185 & 85 & black         & dark & brown     & NA & male   & masculine & Naboo     & Human & Attack of the Clones &  & Naboo fighter\\\\\n",
       "\t ... & ... & ... & ... & ... & ... & ... & ... & ... & ... & ... & ... & ... & ...\\\\\n",
       "\t Jabba Desilijic Tiure & 175 & 1358 & NA & green-tan, brown & orange & 600 & hermaphroditic & masculine & Nal Hutta & Hutt   & The Phantom Menace, Return of the Jedi, A New Hope         &  & \\\\\n",
       "\t Greedo                & 173 &   74 & NA & green            & black  &  44 & male           & masculine & Rodia     & Rodian & A New Hope &  & \\\\\n",
       "\t C-3PO                 & 167 &   75 & NA & gold             & yellow & 112 & none           & masculine & Tatooine  & Droid  & The Empire Strikes Back, Attack of the Clones   , The Phantom Menace     , Revenge of the Sith    , Return of the Jedi     , A New Hope              &  & \\\\\n",
       "\t R5-D4                 &  97 &   32 & NA & white, red       & red    &  NA & none           & masculine & Tatooine  & Droid  & A New Hope &  & \\\\\n",
       "\t R2-D2                 &  96 &   32 & NA & white, blue      & red    &  33 & none           & masculine & Naboo     & Droid  & The Empire Strikes Back, Attack of the Clones   , The Phantom Menace     , Revenge of the Sith    , Return of the Jedi     , A New Hope             , The Force Awakens       &  & \\\\\n",
       "\\end{tabular}\n"
      ],
      "text/markdown": [
       "\n",
       "A tibble: 87 × 14\n",
       "\n",
       "| name &lt;chr&gt; | height &lt;int&gt; | mass &lt;dbl&gt; | hair_color &lt;chr&gt; | skin_color &lt;chr&gt; | eye_color &lt;chr&gt; | birth_year &lt;dbl&gt; | sex &lt;chr&gt; | gender &lt;chr&gt; | homeworld &lt;chr&gt; | species &lt;chr&gt; | films &lt;list&gt; | vehicles &lt;list&gt; | starships &lt;list&gt; |\n",
       "|---|---|---|---|---|---|---|---|---|---|---|---|---|---|\n",
       "| Mon Mothma          | 150 | NA | auburn        | fair | blue      | 48 | female | feminine  | Chandrila | Human | Return of the Jedi | <!----> | <!----> |\n",
       "| Wilhuff Tarkin      | 180 | NA | auburn, grey  | fair | blue      | 64 | male   | masculine | Eriadu    | Human | Revenge of the Sith, A New Hope          | <!----> | <!----> |\n",
       "| Obi-Wan Kenobi      | 182 | 77 | auburn, white | fair | blue-gray | 57 | male   | masculine | Stewjon   | Human | The Empire Strikes Back, Attack of the Clones   , The Phantom Menace     , Revenge of the Sith    , Return of the Jedi     , A New Hope              | Tribubble bongo | Jedi starfighter        , Trade Federation cruiser, Naboo star skiff        , Jedi Interceptor        , Belbullab-22 starfighter |\n",
       "| Bail Prestor Organa | 191 | NA | black         | tan  | brown     | 67 | male   | masculine | Alderaan  | Human | Attack of the Clones, Revenge of the Sith  | <!----> | <!----> |\n",
       "| Gregar Typho        | 185 | 85 | black         | dark | brown     | NA | male   | masculine | Naboo     | Human | Attack of the Clones | <!----> | Naboo fighter |\n",
       "| ... | ... | ... | ... | ... | ... | ... | ... | ... | ... | ... | ... | ... | ... |\n",
       "| Jabba Desilijic Tiure | 175 | 1358 | NA | green-tan, brown | orange | 600 | hermaphroditic | masculine | Nal Hutta | Hutt   | The Phantom Menace, Return of the Jedi, A New Hope         | <!----> | <!----> |\n",
       "| Greedo                | 173 |   74 | NA | green            | black  |  44 | male           | masculine | Rodia     | Rodian | A New Hope | <!----> | <!----> |\n",
       "| C-3PO                 | 167 |   75 | NA | gold             | yellow | 112 | none           | masculine | Tatooine  | Droid  | The Empire Strikes Back, Attack of the Clones   , The Phantom Menace     , Revenge of the Sith    , Return of the Jedi     , A New Hope              | <!----> | <!----> |\n",
       "| R5-D4                 |  97 |   32 | NA | white, red       | red    |  NA | none           | masculine | Tatooine  | Droid  | A New Hope | <!----> | <!----> |\n",
       "| R2-D2                 |  96 |   32 | NA | white, blue      | red    |  33 | none           | masculine | Naboo     | Droid  | The Empire Strikes Back, Attack of the Clones   , The Phantom Menace     , Revenge of the Sith    , Return of the Jedi     , A New Hope             , The Force Awakens       | <!----> | <!----> |\n",
       "\n"
      ],
      "text/plain": [
       "    name                  height mass hair_color    skin_color       eye_color\n",
       "1   Mon Mothma            150    NA   auburn        fair             blue     \n",
       "2   Wilhuff Tarkin        180    NA   auburn, grey  fair             blue     \n",
       "3   Obi-Wan Kenobi        182    77   auburn, white fair             blue-gray\n",
       "4   Bail Prestor Organa   191    NA   black         tan              brown    \n",
       "5   Gregar Typho          185    85   black         dark             brown    \n",
       "... ...                   ...    ...  ...           ...              ...      \n",
       "83  Jabba Desilijic Tiure 175    1358 NA            green-tan, brown orange   \n",
       "84  Greedo                173      74 NA            green            black    \n",
       "85  C-3PO                 167      75 NA            gold             yellow   \n",
       "86  R5-D4                  97      32 NA            white, red       red      \n",
       "87  R2-D2                  96      32 NA            white, blue      red      \n",
       "    birth_year sex            gender    homeworld species\n",
       "1   48         female         feminine  Chandrila Human  \n",
       "2   64         male           masculine Eriadu    Human  \n",
       "3   57         male           masculine Stewjon   Human  \n",
       "4   67         male           masculine Alderaan  Human  \n",
       "5   NA         male           masculine Naboo     Human  \n",
       "... ...        ...            ...       ...       ...    \n",
       "83  600        hermaphroditic masculine Nal Hutta Hutt   \n",
       "84   44        male           masculine Rodia     Rodian \n",
       "85  112        none           masculine Tatooine  Droid  \n",
       "86   NA        none           masculine Tatooine  Droid  \n",
       "87   33        none           masculine Naboo     Droid  \n",
       "    films                                                                                                                                                                        \n",
       "1   Return of the Jedi                                                                                                                                                           \n",
       "2   Revenge of the Sith, A New Hope                                                                                                                                              \n",
       "3   The Empire Strikes Back, Attack of the Clones   , The Phantom Menace     , Revenge of the Sith    , Return of the Jedi     , A New Hope                                      \n",
       "4   Attack of the Clones, Revenge of the Sith                                                                                                                                    \n",
       "5   Attack of the Clones                                                                                                                                                         \n",
       "... ...                                                                                                                                                                          \n",
       "83  The Phantom Menace, Return of the Jedi, A New Hope                                                                                                                           \n",
       "84  A New Hope                                                                                                                                                                   \n",
       "85  The Empire Strikes Back, Attack of the Clones   , The Phantom Menace     , Revenge of the Sith    , Return of the Jedi     , A New Hope                                      \n",
       "86  A New Hope                                                                                                                                                                   \n",
       "87  The Empire Strikes Back, Attack of the Clones   , The Phantom Menace     , Revenge of the Sith    , Return of the Jedi     , A New Hope             , The Force Awakens      \n",
       "    vehicles       \n",
       "1                  \n",
       "2                  \n",
       "3   Tribubble bongo\n",
       "4                  \n",
       "5                  \n",
       "... ...            \n",
       "83                 \n",
       "84                 \n",
       "85                 \n",
       "86                 \n",
       "87                 \n",
       "    starships                                                                                                                       \n",
       "1                                                                                                                                   \n",
       "2                                                                                                                                   \n",
       "3   Jedi starfighter        , Trade Federation cruiser, Naboo star skiff        , Jedi Interceptor        , Belbullab-22 starfighter\n",
       "4                                                                                                                                   \n",
       "5   Naboo fighter                                                                                                                   \n",
       "... ...                                                                                                                             \n",
       "83                                                                                                                                  \n",
       "84                                                                                                                                  \n",
       "85                                                                                                                                  \n",
       "86                                                                                                                                  \n",
       "87                                                                                                                                  "
      ]
     },
     "metadata": {},
     "output_type": "display_data"
    }
   ],
   "source": [
    "arrange(starwars, hair_color, desc(height))"
   ]
  },
  {
   "cell_type": "code",
   "execution_count": 11,
   "metadata": {
    "tags": [
     "remove-input"
    ],
    "vscode": {
     "languageId": "r"
    }
   },
   "outputs": [
    {
     "name": "stdout",
     "output_type": "stream",
     "text": [
      "\u001b[90m# A tibble: 87 x 14\u001b[39m\n",
      "   name     height  mass hair_color skin_color eye_color birth_year sex   gender\n",
      "   \u001b[3m\u001b[90m<chr>\u001b[39m\u001b[23m     \u001b[3m\u001b[90m<int>\u001b[39m\u001b[23m \u001b[3m\u001b[90m<dbl>\u001b[39m\u001b[23m \u001b[3m\u001b[90m<chr>\u001b[39m\u001b[23m      \u001b[3m\u001b[90m<chr>\u001b[39m\u001b[23m      \u001b[3m\u001b[90m<chr>\u001b[39m\u001b[23m          \u001b[3m\u001b[90m<dbl>\u001b[39m\u001b[23m \u001b[3m\u001b[90m<chr>\u001b[39m\u001b[23m \u001b[3m\u001b[90m<chr>\u001b[39m\u001b[23m \n",
      "\u001b[90m 1\u001b[39m Mon Mot~    150  \u001b[31mNA\u001b[39m   auburn     fair       blue            48   fema~ femin~\n",
      "\u001b[90m 2\u001b[39m Wilhuff~    180  \u001b[31mNA\u001b[39m   auburn, g~ fair       blue            64   male  mascu~\n",
      "\u001b[90m 3\u001b[39m Obi-Wan~    182  77   auburn, w~ fair       blue-gray       57   male  mascu~\n",
      "\u001b[90m 4\u001b[39m Bail Pr~    191  \u001b[31mNA\u001b[39m   black      tan        brown           67   male  mascu~\n",
      "\u001b[90m 5\u001b[39m Gregar ~    185  85   black      dark       brown           \u001b[31mNA\u001b[39m   male  mascu~\n",
      "\u001b[90m 6\u001b[39m Biggs D~    183  84   black      light      brown           24   male  mascu~\n",
      "\u001b[90m 7\u001b[39m Boba Fe~    183  78.2 black      fair       brown           31.5 male  mascu~\n",
      "\u001b[90m 8\u001b[39m Quarsh ~    183  \u001b[31mNA\u001b[39m   black      dark       brown           62   \u001b[31mNA\u001b[39m    \u001b[31mNA\u001b[39m    \n",
      "\u001b[90m 9\u001b[39m Jango F~    183  79   black      tan        brown           66   male  mascu~\n",
      "\u001b[90m10\u001b[39m Lando C~    177  79   black      dark       brown           31   male  mascu~\n",
      "\u001b[90m# i 77 more rows\u001b[39m\n",
      "\u001b[90m# i 5 more variables: homeworld <chr>, species <chr>, films <list>,\u001b[39m\n",
      "\u001b[90m#   vehicles <list>, starships <list>\u001b[39m\n"
     ]
    }
   ],
   "source": [
    "arrange(starwars, hair_color, desc(height)) |> print()"
   ]
  },
  {
   "cell_type": "markdown",
   "metadata": {},
   "source": [
    "### Check your Knowledge!\n",
    "\n",
    "Try coming up with code to solve the following:\n",
    "\n",
    "1. Sort descendingly by mass, such that the most massive character comes first.\n",
    "\n",
    "2. Sort by gender, eye colour, and then height. Which character is the first observation? Why?"
   ]
  },
  {
   "cell_type": "markdown",
   "metadata": {},
   "source": [
    "## `filter()`\n",
    "\n",
    "The `filter()` function is useful for subsetting data. For example, we can easily filter our dataset to find all our data on Darth Vader. The following code says that we should *filter* the dataframe called *starwars* to only include rows where the variable called `name` has the value `\"Darth Vader\"`:"
   ]
  },
  {
   "cell_type": "code",
   "execution_count": 12,
   "metadata": {
    "tags": [
     "remove-output"
    ],
    "vscode": {
     "languageId": "r"
    }
   },
   "outputs": [
    {
     "data": {
      "text/html": [
       "<table class=\"dataframe\">\n",
       "<caption>A tibble: 1 × 14</caption>\n",
       "<thead>\n",
       "\t<tr><th scope=col>name</th><th scope=col>height</th><th scope=col>mass</th><th scope=col>hair_color</th><th scope=col>skin_color</th><th scope=col>eye_color</th><th scope=col>birth_year</th><th scope=col>sex</th><th scope=col>gender</th><th scope=col>homeworld</th><th scope=col>species</th><th scope=col>films</th><th scope=col>vehicles</th><th scope=col>starships</th></tr>\n",
       "\t<tr><th scope=col>&lt;chr&gt;</th><th scope=col>&lt;int&gt;</th><th scope=col>&lt;dbl&gt;</th><th scope=col>&lt;chr&gt;</th><th scope=col>&lt;chr&gt;</th><th scope=col>&lt;chr&gt;</th><th scope=col>&lt;dbl&gt;</th><th scope=col>&lt;chr&gt;</th><th scope=col>&lt;chr&gt;</th><th scope=col>&lt;chr&gt;</th><th scope=col>&lt;chr&gt;</th><th scope=col>&lt;list&gt;</th><th scope=col>&lt;list&gt;</th><th scope=col>&lt;list&gt;</th></tr>\n",
       "</thead>\n",
       "<tbody>\n",
       "\t<tr><td>Darth Vader</td><td>202</td><td>136</td><td>none</td><td>white</td><td>yellow</td><td>41.9</td><td>male</td><td>masculine</td><td>Tatooine</td><td>Human</td><td>The Empire Strikes Back, Revenge of the Sith    , Return of the Jedi     , A New Hope             </td><td></td><td>TIE Advanced x1</td></tr>\n",
       "</tbody>\n",
       "</table>\n"
      ],
      "text/latex": [
       "A tibble: 1 × 14\n",
       "\\begin{tabular}{llllllllllllll}\n",
       " name & height & mass & hair\\_color & skin\\_color & eye\\_color & birth\\_year & sex & gender & homeworld & species & films & vehicles & starships\\\\\n",
       " <chr> & <int> & <dbl> & <chr> & <chr> & <chr> & <dbl> & <chr> & <chr> & <chr> & <chr> & <list> & <list> & <list>\\\\\n",
       "\\hline\n",
       "\t Darth Vader & 202 & 136 & none & white & yellow & 41.9 & male & masculine & Tatooine & Human & The Empire Strikes Back, Revenge of the Sith    , Return of the Jedi     , A New Hope              &  & TIE Advanced x1\\\\\n",
       "\\end{tabular}\n"
      ],
      "text/markdown": [
       "\n",
       "A tibble: 1 × 14\n",
       "\n",
       "| name &lt;chr&gt; | height &lt;int&gt; | mass &lt;dbl&gt; | hair_color &lt;chr&gt; | skin_color &lt;chr&gt; | eye_color &lt;chr&gt; | birth_year &lt;dbl&gt; | sex &lt;chr&gt; | gender &lt;chr&gt; | homeworld &lt;chr&gt; | species &lt;chr&gt; | films &lt;list&gt; | vehicles &lt;list&gt; | starships &lt;list&gt; |\n",
       "|---|---|---|---|---|---|---|---|---|---|---|---|---|---|\n",
       "| Darth Vader | 202 | 136 | none | white | yellow | 41.9 | male | masculine | Tatooine | Human | The Empire Strikes Back, Revenge of the Sith    , Return of the Jedi     , A New Hope              | <!----> | TIE Advanced x1 |\n",
       "\n"
      ],
      "text/plain": [
       "  name        height mass hair_color skin_color eye_color birth_year sex \n",
       "1 Darth Vader 202    136  none       white      yellow    41.9       male\n",
       "  gender    homeworld species\n",
       "1 masculine Tatooine  Human  \n",
       "  films                                                                                             \n",
       "1 The Empire Strikes Back, Revenge of the Sith    , Return of the Jedi     , A New Hope             \n",
       "  vehicles starships      \n",
       "1          TIE Advanced x1"
      ]
     },
     "metadata": {},
     "output_type": "display_data"
    }
   ],
   "source": [
    "filter(starwars, name==\"Darth Vader\")"
   ]
  },
  {
   "cell_type": "code",
   "execution_count": 13,
   "metadata": {
    "tags": [
     "remove-input"
    ],
    "vscode": {
     "languageId": "r"
    }
   },
   "outputs": [
    {
     "name": "stdout",
     "output_type": "stream",
     "text": [
      "\u001b[90m# A tibble: 1 x 14\u001b[39m\n",
      "  name      height  mass hair_color skin_color eye_color birth_year sex   gender\n",
      "  \u001b[3m\u001b[90m<chr>\u001b[39m\u001b[23m      \u001b[3m\u001b[90m<int>\u001b[39m\u001b[23m \u001b[3m\u001b[90m<dbl>\u001b[39m\u001b[23m \u001b[3m\u001b[90m<chr>\u001b[39m\u001b[23m      \u001b[3m\u001b[90m<chr>\u001b[39m\u001b[23m      \u001b[3m\u001b[90m<chr>\u001b[39m\u001b[23m          \u001b[3m\u001b[90m<dbl>\u001b[39m\u001b[23m \u001b[3m\u001b[90m<chr>\u001b[39m\u001b[23m \u001b[3m\u001b[90m<chr>\u001b[39m\u001b[23m \n",
      "\u001b[90m1\u001b[39m Darth Va~    202   136 none       white      yellow          41.9 male  mascu~\n",
      "\u001b[90m# i 5 more variables: homeworld <chr>, species <chr>, films <list>,\u001b[39m\n",
      "\u001b[90m#   vehicles <list>, starships <list>\u001b[39m\n"
     ]
    }
   ],
   "source": [
    "filter(starwars, name==\"Darth Vader\") |> print()"
   ]
  },
  {
   "cell_type": "markdown",
   "metadata": {},
   "source": [
    "<img src=\"https://media1.giphy.com/media/Uu4WP50jNo1uZeor4t/giphy.gif\" width=250>\n",
    "\n",
    "<sub><sup>[via giphy](https://media.giphy.com/media/Uu4WP50jNo1uZeor4t/giphy.gif)</sup></sub>\n",
    "\n",
    "To find all characters that are *not* Darth Vader, we can use `!=`, which stands for \"does not equal.\" This returns all rows in the dataframe where the `name` column does not have the value `\"Darth Vader\"`."
   ]
  },
  {
   "cell_type": "code",
   "execution_count": 14,
   "metadata": {
    "tags": [
     "remove-output"
    ],
    "vscode": {
     "languageId": "r"
    }
   },
   "outputs": [
    {
     "data": {
      "text/html": [
       "<table class=\"dataframe\">\n",
       "<caption>A tibble: 86 × 14</caption>\n",
       "<thead>\n",
       "\t<tr><th scope=col>name</th><th scope=col>height</th><th scope=col>mass</th><th scope=col>hair_color</th><th scope=col>skin_color</th><th scope=col>eye_color</th><th scope=col>birth_year</th><th scope=col>sex</th><th scope=col>gender</th><th scope=col>homeworld</th><th scope=col>species</th><th scope=col>films</th><th scope=col>vehicles</th><th scope=col>starships</th></tr>\n",
       "\t<tr><th scope=col>&lt;chr&gt;</th><th scope=col>&lt;int&gt;</th><th scope=col>&lt;dbl&gt;</th><th scope=col>&lt;chr&gt;</th><th scope=col>&lt;chr&gt;</th><th scope=col>&lt;chr&gt;</th><th scope=col>&lt;dbl&gt;</th><th scope=col>&lt;chr&gt;</th><th scope=col>&lt;chr&gt;</th><th scope=col>&lt;chr&gt;</th><th scope=col>&lt;chr&gt;</th><th scope=col>&lt;list&gt;</th><th scope=col>&lt;list&gt;</th><th scope=col>&lt;list&gt;</th></tr>\n",
       "</thead>\n",
       "<tbody>\n",
       "\t<tr><td>Luke Skywalker</td><td>172</td><td> 77</td><td>blond      </td><td>fair       </td><td>blue  </td><td> 19</td><td>male  </td><td>masculine</td><td>Tatooine</td><td>Human</td><td>The Empire Strikes Back, Revenge of the Sith    , Return of the Jedi     , A New Hope             , The Force Awakens      </td><td>Snowspeeder          , Imperial Speeder Bike</td><td>X-wing          , Imperial shuttle</td></tr>\n",
       "\t<tr><td>C-3PO         </td><td>167</td><td> 75</td><td>NA         </td><td>gold       </td><td>yellow</td><td>112</td><td>none  </td><td>masculine</td><td>Tatooine</td><td>Droid</td><td>The Empire Strikes Back, Attack of the Clones   , The Phantom Menace     , Revenge of the Sith    , Return of the Jedi     , A New Hope             </td><td></td><td></td></tr>\n",
       "\t<tr><td>R2-D2         </td><td> 96</td><td> 32</td><td>NA         </td><td>white, blue</td><td>red   </td><td> 33</td><td>none  </td><td>masculine</td><td>Naboo   </td><td>Droid</td><td>The Empire Strikes Back, Attack of the Clones   , The Phantom Menace     , Revenge of the Sith    , Return of the Jedi     , A New Hope             , The Force Awakens      </td><td></td><td></td></tr>\n",
       "\t<tr><td>Leia Organa   </td><td>150</td><td> 49</td><td>brown      </td><td>light      </td><td>brown </td><td> 19</td><td>female</td><td>feminine </td><td>Alderaan</td><td>Human</td><td>The Empire Strikes Back, Revenge of the Sith    , Return of the Jedi     , A New Hope             , The Force Awakens      </td><td>Imperial Speeder Bike</td><td></td></tr>\n",
       "\t<tr><td>Owen Lars     </td><td>178</td><td>120</td><td>brown, grey</td><td>light      </td><td>blue  </td><td> 52</td><td>male  </td><td>masculine</td><td>Tatooine</td><td>Human</td><td>Attack of the Clones, Revenge of the Sith , A New Hope          </td><td></td><td></td></tr>\n",
       "\t<tr><td>...</td><td>...</td><td>...</td><td>...</td><td>...</td><td>...</td><td>...</td><td>...</td><td>...</td><td>...</td><td>...</td><td>...</td><td>...</td><td>...</td></tr>\n",
       "\t<tr><td>Rey           </td><td> NA</td><td>NA</td><td>brown  </td><td>light  </td><td>hazel  </td><td>NA</td><td>female</td><td>feminine </td><td>NA   </td><td>Human</td><td>The Force Awakens</td><td></td><td></td></tr>\n",
       "\t<tr><td>Poe Dameron   </td><td> NA</td><td>NA</td><td>brown  </td><td>light  </td><td>brown  </td><td>NA</td><td>male  </td><td>masculine</td><td>NA   </td><td>Human</td><td>The Force Awakens</td><td></td><td>T-70 X-wing fighter</td></tr>\n",
       "\t<tr><td>BB8           </td><td> NA</td><td>NA</td><td>none   </td><td>none   </td><td>black  </td><td>NA</td><td>none  </td><td>masculine</td><td>NA   </td><td>Droid</td><td>The Force Awakens</td><td></td><td></td></tr>\n",
       "\t<tr><td>Captain Phasma</td><td> NA</td><td>NA</td><td>unknown</td><td>unknown</td><td>unknown</td><td>NA</td><td>NA    </td><td>NA       </td><td>NA   </td><td>NA   </td><td>The Force Awakens</td><td></td><td></td></tr>\n",
       "\t<tr><td>Padmé Amidala </td><td>165</td><td>45</td><td>brown  </td><td>light  </td><td>brown  </td><td>46</td><td>female</td><td>feminine </td><td>Naboo</td><td>Human</td><td>Attack of the Clones, The Phantom Menace  , Revenge of the Sith </td><td></td><td>H-type Nubian yacht, Naboo star skiff   , Naboo fighter      </td></tr>\n",
       "</tbody>\n",
       "</table>\n"
      ],
      "text/latex": [
       "A tibble: 86 × 14\n",
       "\\begin{tabular}{llllllllllllll}\n",
       " name & height & mass & hair\\_color & skin\\_color & eye\\_color & birth\\_year & sex & gender & homeworld & species & films & vehicles & starships\\\\\n",
       " <chr> & <int> & <dbl> & <chr> & <chr> & <chr> & <dbl> & <chr> & <chr> & <chr> & <chr> & <list> & <list> & <list>\\\\\n",
       "\\hline\n",
       "\t Luke Skywalker & 172 &  77 & blond       & fair        & blue   &  19 & male   & masculine & Tatooine & Human & The Empire Strikes Back, Revenge of the Sith    , Return of the Jedi     , A New Hope             , The Force Awakens       & Snowspeeder          , Imperial Speeder Bike & X-wing          , Imperial shuttle\\\\\n",
       "\t C-3PO          & 167 &  75 & NA          & gold        & yellow & 112 & none   & masculine & Tatooine & Droid & The Empire Strikes Back, Attack of the Clones   , The Phantom Menace     , Revenge of the Sith    , Return of the Jedi     , A New Hope              &  & \\\\\n",
       "\t R2-D2          &  96 &  32 & NA          & white, blue & red    &  33 & none   & masculine & Naboo    & Droid & The Empire Strikes Back, Attack of the Clones   , The Phantom Menace     , Revenge of the Sith    , Return of the Jedi     , A New Hope             , The Force Awakens       &  & \\\\\n",
       "\t Leia Organa    & 150 &  49 & brown       & light       & brown  &  19 & female & feminine  & Alderaan & Human & The Empire Strikes Back, Revenge of the Sith    , Return of the Jedi     , A New Hope             , The Force Awakens       & Imperial Speeder Bike & \\\\\n",
       "\t Owen Lars      & 178 & 120 & brown, grey & light       & blue   &  52 & male   & masculine & Tatooine & Human & Attack of the Clones, Revenge of the Sith , A New Hope           &  & \\\\\n",
       "\t ... & ... & ... & ... & ... & ... & ... & ... & ... & ... & ... & ... & ... & ...\\\\\n",
       "\t Rey            &  NA & NA & brown   & light   & hazel   & NA & female & feminine  & NA    & Human & The Force Awakens &  & \\\\\n",
       "\t Poe Dameron    &  NA & NA & brown   & light   & brown   & NA & male   & masculine & NA    & Human & The Force Awakens &  & T-70 X-wing fighter\\\\\n",
       "\t BB8            &  NA & NA & none    & none    & black   & NA & none   & masculine & NA    & Droid & The Force Awakens &  & \\\\\n",
       "\t Captain Phasma &  NA & NA & unknown & unknown & unknown & NA & NA     & NA        & NA    & NA    & The Force Awakens &  & \\\\\n",
       "\t Padmé Amidala  & 165 & 45 & brown   & light   & brown   & 46 & female & feminine  & Naboo & Human & Attack of the Clones, The Phantom Menace  , Revenge of the Sith  &  & H-type Nubian yacht, Naboo star skiff   , Naboo fighter      \\\\\n",
       "\\end{tabular}\n"
      ],
      "text/markdown": [
       "\n",
       "A tibble: 86 × 14\n",
       "\n",
       "| name &lt;chr&gt; | height &lt;int&gt; | mass &lt;dbl&gt; | hair_color &lt;chr&gt; | skin_color &lt;chr&gt; | eye_color &lt;chr&gt; | birth_year &lt;dbl&gt; | sex &lt;chr&gt; | gender &lt;chr&gt; | homeworld &lt;chr&gt; | species &lt;chr&gt; | films &lt;list&gt; | vehicles &lt;list&gt; | starships &lt;list&gt; |\n",
       "|---|---|---|---|---|---|---|---|---|---|---|---|---|---|\n",
       "| Luke Skywalker | 172 |  77 | blond       | fair        | blue   |  19 | male   | masculine | Tatooine | Human | The Empire Strikes Back, Revenge of the Sith    , Return of the Jedi     , A New Hope             , The Force Awakens       | Snowspeeder          , Imperial Speeder Bike | X-wing          , Imperial shuttle |\n",
       "| C-3PO          | 167 |  75 | NA          | gold        | yellow | 112 | none   | masculine | Tatooine | Droid | The Empire Strikes Back, Attack of the Clones   , The Phantom Menace     , Revenge of the Sith    , Return of the Jedi     , A New Hope              | <!----> | <!----> |\n",
       "| R2-D2          |  96 |  32 | NA          | white, blue | red    |  33 | none   | masculine | Naboo    | Droid | The Empire Strikes Back, Attack of the Clones   , The Phantom Menace     , Revenge of the Sith    , Return of the Jedi     , A New Hope             , The Force Awakens       | <!----> | <!----> |\n",
       "| Leia Organa    | 150 |  49 | brown       | light       | brown  |  19 | female | feminine  | Alderaan | Human | The Empire Strikes Back, Revenge of the Sith    , Return of the Jedi     , A New Hope             , The Force Awakens       | Imperial Speeder Bike | <!----> |\n",
       "| Owen Lars      | 178 | 120 | brown, grey | light       | blue   |  52 | male   | masculine | Tatooine | Human | Attack of the Clones, Revenge of the Sith , A New Hope           | <!----> | <!----> |\n",
       "| ... | ... | ... | ... | ... | ... | ... | ... | ... | ... | ... | ... | ... | ... |\n",
       "| Rey            |  NA | NA | brown   | light   | hazel   | NA | female | feminine  | NA    | Human | The Force Awakens | <!----> | <!----> |\n",
       "| Poe Dameron    |  NA | NA | brown   | light   | brown   | NA | male   | masculine | NA    | Human | The Force Awakens | <!----> | T-70 X-wing fighter |\n",
       "| BB8            |  NA | NA | none    | none    | black   | NA | none   | masculine | NA    | Droid | The Force Awakens | <!----> | <!----> |\n",
       "| Captain Phasma |  NA | NA | unknown | unknown | unknown | NA | NA     | NA        | NA    | NA    | The Force Awakens | <!----> | <!----> |\n",
       "| Padmé Amidala  | 165 | 45 | brown   | light   | brown   | 46 | female | feminine  | Naboo | Human | Attack of the Clones, The Phantom Menace  , Revenge of the Sith  | <!----> | H-type Nubian yacht, Naboo star skiff   , Naboo fighter       |\n",
       "\n"
      ],
      "text/plain": [
       "    name           height mass hair_color  skin_color  eye_color birth_year\n",
       "1   Luke Skywalker 172     77  blond       fair        blue       19       \n",
       "2   C-3PO          167     75  NA          gold        yellow    112       \n",
       "3   R2-D2           96     32  NA          white, blue red        33       \n",
       "4   Leia Organa    150     49  brown       light       brown      19       \n",
       "5   Owen Lars      178    120  brown, grey light       blue       52       \n",
       "... ...            ...    ...  ...         ...         ...       ...       \n",
       "82  Rey             NA    NA   brown       light       hazel     NA        \n",
       "83  Poe Dameron     NA    NA   brown       light       brown     NA        \n",
       "84  BB8             NA    NA   none        none        black     NA        \n",
       "85  Captain Phasma  NA    NA   unknown     unknown     unknown   NA        \n",
       "86  Padmé Amidala  165    45   brown       light       brown     46        \n",
       "    sex    gender    homeworld species\n",
       "1   male   masculine Tatooine  Human  \n",
       "2   none   masculine Tatooine  Droid  \n",
       "3   none   masculine Naboo     Droid  \n",
       "4   female feminine  Alderaan  Human  \n",
       "5   male   masculine Tatooine  Human  \n",
       "... ...    ...       ...       ...    \n",
       "82  female feminine  NA        Human  \n",
       "83  male   masculine NA        Human  \n",
       "84  none   masculine NA        Droid  \n",
       "85  NA     NA        NA        NA     \n",
       "86  female feminine  Naboo     Human  \n",
       "    films                                                                                                                                                                        \n",
       "1   The Empire Strikes Back, Revenge of the Sith    , Return of the Jedi     , A New Hope             , The Force Awakens                                                        \n",
       "2   The Empire Strikes Back, Attack of the Clones   , The Phantom Menace     , Revenge of the Sith    , Return of the Jedi     , A New Hope                                      \n",
       "3   The Empire Strikes Back, Attack of the Clones   , The Phantom Menace     , Revenge of the Sith    , Return of the Jedi     , A New Hope             , The Force Awakens      \n",
       "4   The Empire Strikes Back, Revenge of the Sith    , Return of the Jedi     , A New Hope             , The Force Awakens                                                        \n",
       "5   Attack of the Clones, Revenge of the Sith , A New Hope                                                                                                                       \n",
       "... ...                                                                                                                                                                          \n",
       "82  The Force Awakens                                                                                                                                                            \n",
       "83  The Force Awakens                                                                                                                                                            \n",
       "84  The Force Awakens                                                                                                                                                            \n",
       "85  The Force Awakens                                                                                                                                                            \n",
       "86  Attack of the Clones, The Phantom Menace  , Revenge of the Sith                                                                                                              \n",
       "    vehicles                                    \n",
       "1   Snowspeeder          , Imperial Speeder Bike\n",
       "2                                               \n",
       "3                                               \n",
       "4   Imperial Speeder Bike                       \n",
       "5                                               \n",
       "... ...                                         \n",
       "82                                              \n",
       "83                                              \n",
       "84                                              \n",
       "85                                              \n",
       "86                                              \n",
       "    starships                                                    \n",
       "1   X-wing          , Imperial shuttle                           \n",
       "2                                                                \n",
       "3                                                                \n",
       "4                                                                \n",
       "5                                                                \n",
       "... ...                                                          \n",
       "82                                                               \n",
       "83  T-70 X-wing fighter                                          \n",
       "84                                                               \n",
       "85                                                               \n",
       "86  H-type Nubian yacht, Naboo star skiff   , Naboo fighter      "
      ]
     },
     "metadata": {},
     "output_type": "display_data"
    }
   ],
   "source": [
    "filter(starwars, name!=\"Darth Vader\")"
   ]
  },
  {
   "cell_type": "code",
   "execution_count": 15,
   "metadata": {
    "tags": [
     "remove-input"
    ],
    "vscode": {
     "languageId": "r"
    }
   },
   "outputs": [
    {
     "name": "stdout",
     "output_type": "stream",
     "text": [
      "\u001b[90m# A tibble: 86 x 14\u001b[39m\n",
      "   name     height  mass hair_color skin_color eye_color birth_year sex   gender\n",
      "   \u001b[3m\u001b[90m<chr>\u001b[39m\u001b[23m     \u001b[3m\u001b[90m<int>\u001b[39m\u001b[23m \u001b[3m\u001b[90m<dbl>\u001b[39m\u001b[23m \u001b[3m\u001b[90m<chr>\u001b[39m\u001b[23m      \u001b[3m\u001b[90m<chr>\u001b[39m\u001b[23m      \u001b[3m\u001b[90m<chr>\u001b[39m\u001b[23m          \u001b[3m\u001b[90m<dbl>\u001b[39m\u001b[23m \u001b[3m\u001b[90m<chr>\u001b[39m\u001b[23m \u001b[3m\u001b[90m<chr>\u001b[39m\u001b[23m \n",
      "\u001b[90m 1\u001b[39m Luke Sk~    172    77 blond      fair       blue            19   male  mascu~\n",
      "\u001b[90m 2\u001b[39m C-3PO       167    75 \u001b[31mNA\u001b[39m         gold       yellow         112   none  mascu~\n",
      "\u001b[90m 3\u001b[39m R2-D2        96    32 \u001b[31mNA\u001b[39m         white, bl~ red             33   none  mascu~\n",
      "\u001b[90m 4\u001b[39m Leia Or~    150    49 brown      light      brown           19   fema~ femin~\n",
      "\u001b[90m 5\u001b[39m Owen La~    178   120 brown, gr~ light      blue            52   male  mascu~\n",
      "\u001b[90m 6\u001b[39m Beru Wh~    165    75 brown      light      blue            47   fema~ femin~\n",
      "\u001b[90m 7\u001b[39m R5-D4        97    32 \u001b[31mNA\u001b[39m         white, red red             \u001b[31mNA\u001b[39m   none  mascu~\n",
      "\u001b[90m 8\u001b[39m Biggs D~    183    84 black      light      brown           24   male  mascu~\n",
      "\u001b[90m 9\u001b[39m Obi-Wan~    182    77 auburn, w~ fair       blue-gray       57   male  mascu~\n",
      "\u001b[90m10\u001b[39m Anakin ~    188    84 blond      fair       blue            41.9 male  mascu~\n",
      "\u001b[90m# i 76 more rows\u001b[39m\n",
      "\u001b[90m# i 5 more variables: homeworld <chr>, species <chr>, films <list>,\u001b[39m\n",
      "\u001b[90m#   vehicles <list>, starships <list>\u001b[39m\n"
     ]
    }
   ],
   "source": [
    "filter(starwars, name!=\"Darth Vader\") |> print()"
   ]
  },
  {
   "cell_type": "markdown",
   "metadata": {},
   "source": [
    "We can also filter to include a list of characters. To do this, we first define a character vector of characters we wish to keep. We can then filter to only include characters whose `name` is in (`%in%`) that vector:"
   ]
  },
  {
   "cell_type": "code",
   "execution_count": 16,
   "metadata": {
    "tags": [
     "remove-output"
    ],
    "vscode": {
     "languageId": "r"
    }
   },
   "outputs": [
    {
     "data": {
      "text/html": [
       "<table class=\"dataframe\">\n",
       "<caption>A tibble: 3 × 14</caption>\n",
       "<thead>\n",
       "\t<tr><th scope=col>name</th><th scope=col>height</th><th scope=col>mass</th><th scope=col>hair_color</th><th scope=col>skin_color</th><th scope=col>eye_color</th><th scope=col>birth_year</th><th scope=col>sex</th><th scope=col>gender</th><th scope=col>homeworld</th><th scope=col>species</th><th scope=col>films</th><th scope=col>vehicles</th><th scope=col>starships</th></tr>\n",
       "\t<tr><th scope=col>&lt;chr&gt;</th><th scope=col>&lt;int&gt;</th><th scope=col>&lt;dbl&gt;</th><th scope=col>&lt;chr&gt;</th><th scope=col>&lt;chr&gt;</th><th scope=col>&lt;chr&gt;</th><th scope=col>&lt;dbl&gt;</th><th scope=col>&lt;chr&gt;</th><th scope=col>&lt;chr&gt;</th><th scope=col>&lt;chr&gt;</th><th scope=col>&lt;chr&gt;</th><th scope=col>&lt;list&gt;</th><th scope=col>&lt;list&gt;</th><th scope=col>&lt;list&gt;</th></tr>\n",
       "</thead>\n",
       "<tbody>\n",
       "\t<tr><td>C-3PO</td><td>167</td><td> 75</td><td>NA  </td><td>gold       </td><td>yellow</td><td>112</td><td>none</td><td>masculine</td><td>Tatooine</td><td>Droid</td><td>The Empire Strikes Back, Attack of the Clones   , The Phantom Menace     , Revenge of the Sith    , Return of the Jedi     , A New Hope             </td><td></td><td></td></tr>\n",
       "\t<tr><td>R2-D2</td><td> 96</td><td> 32</td><td>NA  </td><td>white, blue</td><td>red   </td><td> 33</td><td>none</td><td>masculine</td><td>Naboo   </td><td>Droid</td><td>The Empire Strikes Back, Attack of the Clones   , The Phantom Menace     , Revenge of the Sith    , Return of the Jedi     , A New Hope             , The Force Awakens      </td><td></td><td></td></tr>\n",
       "\t<tr><td>IG-88</td><td>200</td><td>140</td><td>none</td><td>metal      </td><td>red   </td><td> 15</td><td>none</td><td>masculine</td><td>NA      </td><td>Droid</td><td>The Empire Strikes Back</td><td></td><td></td></tr>\n",
       "</tbody>\n",
       "</table>\n"
      ],
      "text/latex": [
       "A tibble: 3 × 14\n",
       "\\begin{tabular}{llllllllllllll}\n",
       " name & height & mass & hair\\_color & skin\\_color & eye\\_color & birth\\_year & sex & gender & homeworld & species & films & vehicles & starships\\\\\n",
       " <chr> & <int> & <dbl> & <chr> & <chr> & <chr> & <dbl> & <chr> & <chr> & <chr> & <chr> & <list> & <list> & <list>\\\\\n",
       "\\hline\n",
       "\t C-3PO & 167 &  75 & NA   & gold        & yellow & 112 & none & masculine & Tatooine & Droid & The Empire Strikes Back, Attack of the Clones   , The Phantom Menace     , Revenge of the Sith    , Return of the Jedi     , A New Hope              &  & \\\\\n",
       "\t R2-D2 &  96 &  32 & NA   & white, blue & red    &  33 & none & masculine & Naboo    & Droid & The Empire Strikes Back, Attack of the Clones   , The Phantom Menace     , Revenge of the Sith    , Return of the Jedi     , A New Hope             , The Force Awakens       &  & \\\\\n",
       "\t IG-88 & 200 & 140 & none & metal       & red    &  15 & none & masculine & NA       & Droid & The Empire Strikes Back &  & \\\\\n",
       "\\end{tabular}\n"
      ],
      "text/markdown": [
       "\n",
       "A tibble: 3 × 14\n",
       "\n",
       "| name &lt;chr&gt; | height &lt;int&gt; | mass &lt;dbl&gt; | hair_color &lt;chr&gt; | skin_color &lt;chr&gt; | eye_color &lt;chr&gt; | birth_year &lt;dbl&gt; | sex &lt;chr&gt; | gender &lt;chr&gt; | homeworld &lt;chr&gt; | species &lt;chr&gt; | films &lt;list&gt; | vehicles &lt;list&gt; | starships &lt;list&gt; |\n",
       "|---|---|---|---|---|---|---|---|---|---|---|---|---|---|\n",
       "| C-3PO | 167 |  75 | NA   | gold        | yellow | 112 | none | masculine | Tatooine | Droid | The Empire Strikes Back, Attack of the Clones   , The Phantom Menace     , Revenge of the Sith    , Return of the Jedi     , A New Hope              | <!----> | <!----> |\n",
       "| R2-D2 |  96 |  32 | NA   | white, blue | red    |  33 | none | masculine | Naboo    | Droid | The Empire Strikes Back, Attack of the Clones   , The Phantom Menace     , Revenge of the Sith    , Return of the Jedi     , A New Hope             , The Force Awakens       | <!----> | <!----> |\n",
       "| IG-88 | 200 | 140 | none | metal       | red    |  15 | none | masculine | NA       | Droid | The Empire Strikes Back | <!----> | <!----> |\n",
       "\n"
      ],
      "text/plain": [
       "  name  height mass hair_color skin_color  eye_color birth_year sex  gender   \n",
       "1 C-3PO 167     75  NA         gold        yellow    112        none masculine\n",
       "2 R2-D2  96     32  NA         white, blue red        33        none masculine\n",
       "3 IG-88 200    140  none       metal       red        15        none masculine\n",
       "  homeworld species\n",
       "1 Tatooine  Droid  \n",
       "2 Naboo     Droid  \n",
       "3 NA        Droid  \n",
       "  films                                                                                                                                                                        \n",
       "1 The Empire Strikes Back, Attack of the Clones   , The Phantom Menace     , Revenge of the Sith    , Return of the Jedi     , A New Hope                                      \n",
       "2 The Empire Strikes Back, Attack of the Clones   , The Phantom Menace     , Revenge of the Sith    , Return of the Jedi     , A New Hope             , The Force Awakens      \n",
       "3 The Empire Strikes Back                                                                                                                                                      \n",
       "  vehicles starships\n",
       "1                   \n",
       "2                   \n",
       "3                   "
      ]
     },
     "metadata": {},
     "output_type": "display_data"
    }
   ],
   "source": [
    "cool_droids <- c(\"C-3PO\", \"R2-D2\", \"IG-88\")\n",
    "filter(starwars, name %in% cool_droids)"
   ]
  },
  {
   "cell_type": "code",
   "execution_count": 17,
   "metadata": {
    "tags": [
     "remove-input"
    ],
    "vscode": {
     "languageId": "r"
    }
   },
   "outputs": [
    {
     "name": "stdout",
     "output_type": "stream",
     "text": [
      "\u001b[90m# A tibble: 3 x 14\u001b[39m\n",
      "  name  height  mass hair_color skin_color  eye_color birth_year sex   gender   \n",
      "  \u001b[3m\u001b[90m<chr>\u001b[39m\u001b[23m  \u001b[3m\u001b[90m<int>\u001b[39m\u001b[23m \u001b[3m\u001b[90m<dbl>\u001b[39m\u001b[23m \u001b[3m\u001b[90m<chr>\u001b[39m\u001b[23m      \u001b[3m\u001b[90m<chr>\u001b[39m\u001b[23m       \u001b[3m\u001b[90m<chr>\u001b[39m\u001b[23m          \u001b[3m\u001b[90m<dbl>\u001b[39m\u001b[23m \u001b[3m\u001b[90m<chr>\u001b[39m\u001b[23m \u001b[3m\u001b[90m<chr>\u001b[39m\u001b[23m    \n",
      "\u001b[90m1\u001b[39m C-3PO    167    75 \u001b[31mNA\u001b[39m         gold        yellow           112 none  masculine\n",
      "\u001b[90m2\u001b[39m R2-D2     96    32 \u001b[31mNA\u001b[39m         white, blue red               33 none  masculine\n",
      "\u001b[90m3\u001b[39m IG-88    200   140 none       metal       red               15 none  masculine\n",
      "\u001b[90m# i 5 more variables: homeworld <chr>, species <chr>, films <list>,\u001b[39m\n",
      "\u001b[90m#   vehicles <list>, starships <list>\u001b[39m\n"
     ]
    }
   ],
   "source": [
    "filter(starwars, name %in% cool_droids) |> print()"
   ]
  },
  {
   "cell_type": "markdown",
   "metadata": {},
   "source": [
    "As with `==` and `!=`, we can invert `%in%` to only include characters who are *not* in the list. To do this, we put an exclamation mark (`!`) at the *start* of the statement:"
   ]
  },
  {
   "cell_type": "code",
   "execution_count": 18,
   "metadata": {
    "tags": [
     "remove-output"
    ],
    "vscode": {
     "languageId": "r"
    }
   },
   "outputs": [
    {
     "data": {
      "text/html": [
       "<table class=\"dataframe\">\n",
       "<caption>A tibble: 84 × 14</caption>\n",
       "<thead>\n",
       "\t<tr><th scope=col>name</th><th scope=col>height</th><th scope=col>mass</th><th scope=col>hair_color</th><th scope=col>skin_color</th><th scope=col>eye_color</th><th scope=col>birth_year</th><th scope=col>sex</th><th scope=col>gender</th><th scope=col>homeworld</th><th scope=col>species</th><th scope=col>films</th><th scope=col>vehicles</th><th scope=col>starships</th></tr>\n",
       "\t<tr><th scope=col>&lt;chr&gt;</th><th scope=col>&lt;int&gt;</th><th scope=col>&lt;dbl&gt;</th><th scope=col>&lt;chr&gt;</th><th scope=col>&lt;chr&gt;</th><th scope=col>&lt;chr&gt;</th><th scope=col>&lt;dbl&gt;</th><th scope=col>&lt;chr&gt;</th><th scope=col>&lt;chr&gt;</th><th scope=col>&lt;chr&gt;</th><th scope=col>&lt;chr&gt;</th><th scope=col>&lt;list&gt;</th><th scope=col>&lt;list&gt;</th><th scope=col>&lt;list&gt;</th></tr>\n",
       "</thead>\n",
       "<tbody>\n",
       "\t<tr><td>Luke Skywalker    </td><td>172</td><td> 77</td><td>blond      </td><td>fair </td><td>blue  </td><td>19.0</td><td>male  </td><td>masculine</td><td>Tatooine</td><td>Human</td><td>The Empire Strikes Back, Revenge of the Sith    , Return of the Jedi     , A New Hope             , The Force Awakens      </td><td>Snowspeeder          , Imperial Speeder Bike</td><td>X-wing          , Imperial shuttle</td></tr>\n",
       "\t<tr><td>Darth Vader       </td><td>202</td><td>136</td><td>none       </td><td>white</td><td>yellow</td><td>41.9</td><td>male  </td><td>masculine</td><td>Tatooine</td><td>Human</td><td>The Empire Strikes Back, Revenge of the Sith    , Return of the Jedi     , A New Hope             </td><td></td><td>TIE Advanced x1</td></tr>\n",
       "\t<tr><td>Leia Organa       </td><td>150</td><td> 49</td><td>brown      </td><td>light</td><td>brown </td><td>19.0</td><td>female</td><td>feminine </td><td>Alderaan</td><td>Human</td><td>The Empire Strikes Back, Revenge of the Sith    , Return of the Jedi     , A New Hope             , The Force Awakens      </td><td>Imperial Speeder Bike</td><td></td></tr>\n",
       "\t<tr><td>Owen Lars         </td><td>178</td><td>120</td><td>brown, grey</td><td>light</td><td>blue  </td><td>52.0</td><td>male  </td><td>masculine</td><td>Tatooine</td><td>Human</td><td>Attack of the Clones, Revenge of the Sith , A New Hope          </td><td></td><td></td></tr>\n",
       "\t<tr><td>Beru Whitesun lars</td><td>165</td><td> 75</td><td>brown      </td><td>light</td><td>blue  </td><td>47.0</td><td>female</td><td>feminine </td><td>Tatooine</td><td>Human</td><td>Attack of the Clones, Revenge of the Sith , A New Hope          </td><td></td><td></td></tr>\n",
       "\t<tr><td>...</td><td>...</td><td>...</td><td>...</td><td>...</td><td>...</td><td>...</td><td>...</td><td>...</td><td>...</td><td>...</td><td>...</td><td>...</td><td>...</td></tr>\n",
       "\t<tr><td>Rey           </td><td> NA</td><td>NA</td><td>brown  </td><td>light  </td><td>hazel  </td><td>NA</td><td>female</td><td>feminine </td><td>NA   </td><td>Human</td><td>The Force Awakens</td><td></td><td></td></tr>\n",
       "\t<tr><td>Poe Dameron   </td><td> NA</td><td>NA</td><td>brown  </td><td>light  </td><td>brown  </td><td>NA</td><td>male  </td><td>masculine</td><td>NA   </td><td>Human</td><td>The Force Awakens</td><td></td><td>T-70 X-wing fighter</td></tr>\n",
       "\t<tr><td>BB8           </td><td> NA</td><td>NA</td><td>none   </td><td>none   </td><td>black  </td><td>NA</td><td>none  </td><td>masculine</td><td>NA   </td><td>Droid</td><td>The Force Awakens</td><td></td><td></td></tr>\n",
       "\t<tr><td>Captain Phasma</td><td> NA</td><td>NA</td><td>unknown</td><td>unknown</td><td>unknown</td><td>NA</td><td>NA    </td><td>NA       </td><td>NA   </td><td>NA   </td><td>The Force Awakens</td><td></td><td></td></tr>\n",
       "\t<tr><td>Padmé Amidala </td><td>165</td><td>45</td><td>brown  </td><td>light  </td><td>brown  </td><td>46</td><td>female</td><td>feminine </td><td>Naboo</td><td>Human</td><td>Attack of the Clones, The Phantom Menace  , Revenge of the Sith </td><td></td><td>H-type Nubian yacht, Naboo star skiff   , Naboo fighter      </td></tr>\n",
       "</tbody>\n",
       "</table>\n"
      ],
      "text/latex": [
       "A tibble: 84 × 14\n",
       "\\begin{tabular}{llllllllllllll}\n",
       " name & height & mass & hair\\_color & skin\\_color & eye\\_color & birth\\_year & sex & gender & homeworld & species & films & vehicles & starships\\\\\n",
       " <chr> & <int> & <dbl> & <chr> & <chr> & <chr> & <dbl> & <chr> & <chr> & <chr> & <chr> & <list> & <list> & <list>\\\\\n",
       "\\hline\n",
       "\t Luke Skywalker     & 172 &  77 & blond       & fair  & blue   & 19.0 & male   & masculine & Tatooine & Human & The Empire Strikes Back, Revenge of the Sith    , Return of the Jedi     , A New Hope             , The Force Awakens       & Snowspeeder          , Imperial Speeder Bike & X-wing          , Imperial shuttle\\\\\n",
       "\t Darth Vader        & 202 & 136 & none        & white & yellow & 41.9 & male   & masculine & Tatooine & Human & The Empire Strikes Back, Revenge of the Sith    , Return of the Jedi     , A New Hope              &  & TIE Advanced x1\\\\\n",
       "\t Leia Organa        & 150 &  49 & brown       & light & brown  & 19.0 & female & feminine  & Alderaan & Human & The Empire Strikes Back, Revenge of the Sith    , Return of the Jedi     , A New Hope             , The Force Awakens       & Imperial Speeder Bike & \\\\\n",
       "\t Owen Lars          & 178 & 120 & brown, grey & light & blue   & 52.0 & male   & masculine & Tatooine & Human & Attack of the Clones, Revenge of the Sith , A New Hope           &  & \\\\\n",
       "\t Beru Whitesun lars & 165 &  75 & brown       & light & blue   & 47.0 & female & feminine  & Tatooine & Human & Attack of the Clones, Revenge of the Sith , A New Hope           &  & \\\\\n",
       "\t ... & ... & ... & ... & ... & ... & ... & ... & ... & ... & ... & ... & ... & ...\\\\\n",
       "\t Rey            &  NA & NA & brown   & light   & hazel   & NA & female & feminine  & NA    & Human & The Force Awakens &  & \\\\\n",
       "\t Poe Dameron    &  NA & NA & brown   & light   & brown   & NA & male   & masculine & NA    & Human & The Force Awakens &  & T-70 X-wing fighter\\\\\n",
       "\t BB8            &  NA & NA & none    & none    & black   & NA & none   & masculine & NA    & Droid & The Force Awakens &  & \\\\\n",
       "\t Captain Phasma &  NA & NA & unknown & unknown & unknown & NA & NA     & NA        & NA    & NA    & The Force Awakens &  & \\\\\n",
       "\t Padmé Amidala  & 165 & 45 & brown   & light   & brown   & 46 & female & feminine  & Naboo & Human & Attack of the Clones, The Phantom Menace  , Revenge of the Sith  &  & H-type Nubian yacht, Naboo star skiff   , Naboo fighter      \\\\\n",
       "\\end{tabular}\n"
      ],
      "text/markdown": [
       "\n",
       "A tibble: 84 × 14\n",
       "\n",
       "| name &lt;chr&gt; | height &lt;int&gt; | mass &lt;dbl&gt; | hair_color &lt;chr&gt; | skin_color &lt;chr&gt; | eye_color &lt;chr&gt; | birth_year &lt;dbl&gt; | sex &lt;chr&gt; | gender &lt;chr&gt; | homeworld &lt;chr&gt; | species &lt;chr&gt; | films &lt;list&gt; | vehicles &lt;list&gt; | starships &lt;list&gt; |\n",
       "|---|---|---|---|---|---|---|---|---|---|---|---|---|---|\n",
       "| Luke Skywalker     | 172 |  77 | blond       | fair  | blue   | 19.0 | male   | masculine | Tatooine | Human | The Empire Strikes Back, Revenge of the Sith    , Return of the Jedi     , A New Hope             , The Force Awakens       | Snowspeeder          , Imperial Speeder Bike | X-wing          , Imperial shuttle |\n",
       "| Darth Vader        | 202 | 136 | none        | white | yellow | 41.9 | male   | masculine | Tatooine | Human | The Empire Strikes Back, Revenge of the Sith    , Return of the Jedi     , A New Hope              | <!----> | TIE Advanced x1 |\n",
       "| Leia Organa        | 150 |  49 | brown       | light | brown  | 19.0 | female | feminine  | Alderaan | Human | The Empire Strikes Back, Revenge of the Sith    , Return of the Jedi     , A New Hope             , The Force Awakens       | Imperial Speeder Bike | <!----> |\n",
       "| Owen Lars          | 178 | 120 | brown, grey | light | blue   | 52.0 | male   | masculine | Tatooine | Human | Attack of the Clones, Revenge of the Sith , A New Hope           | <!----> | <!----> |\n",
       "| Beru Whitesun lars | 165 |  75 | brown       | light | blue   | 47.0 | female | feminine  | Tatooine | Human | Attack of the Clones, Revenge of the Sith , A New Hope           | <!----> | <!----> |\n",
       "| ... | ... | ... | ... | ... | ... | ... | ... | ... | ... | ... | ... | ... | ... |\n",
       "| Rey            |  NA | NA | brown   | light   | hazel   | NA | female | feminine  | NA    | Human | The Force Awakens | <!----> | <!----> |\n",
       "| Poe Dameron    |  NA | NA | brown   | light   | brown   | NA | male   | masculine | NA    | Human | The Force Awakens | <!----> | T-70 X-wing fighter |\n",
       "| BB8            |  NA | NA | none    | none    | black   | NA | none   | masculine | NA    | Droid | The Force Awakens | <!----> | <!----> |\n",
       "| Captain Phasma |  NA | NA | unknown | unknown | unknown | NA | NA     | NA        | NA    | NA    | The Force Awakens | <!----> | <!----> |\n",
       "| Padmé Amidala  | 165 | 45 | brown   | light   | brown   | 46 | female | feminine  | Naboo | Human | Attack of the Clones, The Phantom Menace  , Revenge of the Sith  | <!----> | H-type Nubian yacht, Naboo star skiff   , Naboo fighter       |\n",
       "\n"
      ],
      "text/plain": [
       "    name               height mass hair_color  skin_color eye_color birth_year\n",
       "1   Luke Skywalker     172     77  blond       fair       blue      19.0      \n",
       "2   Darth Vader        202    136  none        white      yellow    41.9      \n",
       "3   Leia Organa        150     49  brown       light      brown     19.0      \n",
       "4   Owen Lars          178    120  brown, grey light      blue      52.0      \n",
       "5   Beru Whitesun lars 165     75  brown       light      blue      47.0      \n",
       "... ...                ...    ...  ...         ...        ...       ...       \n",
       "80  Rey                 NA    NA   brown       light      hazel     NA        \n",
       "81  Poe Dameron         NA    NA   brown       light      brown     NA        \n",
       "82  BB8                 NA    NA   none        none       black     NA        \n",
       "83  Captain Phasma      NA    NA   unknown     unknown    unknown   NA        \n",
       "84  Padmé Amidala      165    45   brown       light      brown     46        \n",
       "    sex    gender    homeworld species\n",
       "1   male   masculine Tatooine  Human  \n",
       "2   male   masculine Tatooine  Human  \n",
       "3   female feminine  Alderaan  Human  \n",
       "4   male   masculine Tatooine  Human  \n",
       "5   female feminine  Tatooine  Human  \n",
       "... ...    ...       ...       ...    \n",
       "80  female feminine  NA        Human  \n",
       "81  male   masculine NA        Human  \n",
       "82  none   masculine NA        Droid  \n",
       "83  NA     NA        NA        NA     \n",
       "84  female feminine  Naboo     Human  \n",
       "    films                                                                                                                      \n",
       "1   The Empire Strikes Back, Revenge of the Sith    , Return of the Jedi     , A New Hope             , The Force Awakens      \n",
       "2   The Empire Strikes Back, Revenge of the Sith    , Return of the Jedi     , A New Hope                                      \n",
       "3   The Empire Strikes Back, Revenge of the Sith    , Return of the Jedi     , A New Hope             , The Force Awakens      \n",
       "4   Attack of the Clones, Revenge of the Sith , A New Hope                                                                     \n",
       "5   Attack of the Clones, Revenge of the Sith , A New Hope                                                                     \n",
       "... ...                                                                                                                        \n",
       "80  The Force Awakens                                                                                                          \n",
       "81  The Force Awakens                                                                                                          \n",
       "82  The Force Awakens                                                                                                          \n",
       "83  The Force Awakens                                                                                                          \n",
       "84  Attack of the Clones, The Phantom Menace  , Revenge of the Sith                                                            \n",
       "    vehicles                                    \n",
       "1   Snowspeeder          , Imperial Speeder Bike\n",
       "2                                               \n",
       "3   Imperial Speeder Bike                       \n",
       "4                                               \n",
       "5                                               \n",
       "... ...                                         \n",
       "80                                              \n",
       "81                                              \n",
       "82                                              \n",
       "83                                              \n",
       "84                                              \n",
       "    starships                                                    \n",
       "1   X-wing          , Imperial shuttle                           \n",
       "2   TIE Advanced x1                                              \n",
       "3                                                                \n",
       "4                                                                \n",
       "5                                                                \n",
       "... ...                                                          \n",
       "80                                                               \n",
       "81  T-70 X-wing fighter                                          \n",
       "82                                                               \n",
       "83                                                               \n",
       "84  H-type Nubian yacht, Naboo star skiff   , Naboo fighter      "
      ]
     },
     "metadata": {},
     "output_type": "display_data"
    }
   ],
   "source": [
    "filter(starwars, !(name %in% cool_droids))"
   ]
  },
  {
   "cell_type": "code",
   "execution_count": 19,
   "metadata": {
    "tags": [
     "remove-input"
    ],
    "vscode": {
     "languageId": "r"
    }
   },
   "outputs": [
    {
     "name": "stdout",
     "output_type": "stream",
     "text": [
      "\u001b[90m# A tibble: 84 x 14\u001b[39m\n",
      "   name     height  mass hair_color skin_color eye_color birth_year sex   gender\n",
      "   \u001b[3m\u001b[90m<chr>\u001b[39m\u001b[23m     \u001b[3m\u001b[90m<int>\u001b[39m\u001b[23m \u001b[3m\u001b[90m<dbl>\u001b[39m\u001b[23m \u001b[3m\u001b[90m<chr>\u001b[39m\u001b[23m      \u001b[3m\u001b[90m<chr>\u001b[39m\u001b[23m      \u001b[3m\u001b[90m<chr>\u001b[39m\u001b[23m          \u001b[3m\u001b[90m<dbl>\u001b[39m\u001b[23m \u001b[3m\u001b[90m<chr>\u001b[39m\u001b[23m \u001b[3m\u001b[90m<chr>\u001b[39m\u001b[23m \n",
      "\u001b[90m 1\u001b[39m Luke Sk~    172    77 blond      fair       blue            19   male  mascu~\n",
      "\u001b[90m 2\u001b[39m Darth V~    202   136 none       white      yellow          41.9 male  mascu~\n",
      "\u001b[90m 3\u001b[39m Leia Or~    150    49 brown      light      brown           19   fema~ femin~\n",
      "\u001b[90m 4\u001b[39m Owen La~    178   120 brown, gr~ light      blue            52   male  mascu~\n",
      "\u001b[90m 5\u001b[39m Beru Wh~    165    75 brown      light      blue            47   fema~ femin~\n",
      "\u001b[90m 6\u001b[39m R5-D4        97    32 \u001b[31mNA\u001b[39m         white, red red             \u001b[31mNA\u001b[39m   none  mascu~\n",
      "\u001b[90m 7\u001b[39m Biggs D~    183    84 black      light      brown           24   male  mascu~\n",
      "\u001b[90m 8\u001b[39m Obi-Wan~    182    77 auburn, w~ fair       blue-gray       57   male  mascu~\n",
      "\u001b[90m 9\u001b[39m Anakin ~    188    84 blond      fair       blue            41.9 male  mascu~\n",
      "\u001b[90m10\u001b[39m Wilhuff~    180    \u001b[31mNA\u001b[39m auburn, g~ fair       blue            64   male  mascu~\n",
      "\u001b[90m# i 74 more rows\u001b[39m\n",
      "\u001b[90m# i 5 more variables: homeworld <chr>, species <chr>, films <list>,\u001b[39m\n",
      "\u001b[90m#   vehicles <list>, starships <list>\u001b[39m\n"
     ]
    }
   ],
   "source": [
    "filter(starwars, !(name %in% cool_droids)) |> print()"
   ]
  },
  {
   "cell_type": "markdown",
   "metadata": {},
   "source": [
    "The `filter()` function can also deal with numeric values. For instance, we can filter to only include characters who are shorter than, or are exactly, 96 cm tall. To do this we use `<=`, which stands for \"less than or equal to\", or \"≤\"."
   ]
  },
  {
   "cell_type": "code",
   "execution_count": 20,
   "metadata": {
    "tags": [
     "remove-output"
    ],
    "vscode": {
     "languageId": "r"
    }
   },
   "outputs": [
    {
     "data": {
      "text/html": [
       "<table class=\"dataframe\">\n",
       "<caption>A tibble: 6 × 14</caption>\n",
       "<thead>\n",
       "\t<tr><th scope=col>name</th><th scope=col>height</th><th scope=col>mass</th><th scope=col>hair_color</th><th scope=col>skin_color</th><th scope=col>eye_color</th><th scope=col>birth_year</th><th scope=col>sex</th><th scope=col>gender</th><th scope=col>homeworld</th><th scope=col>species</th><th scope=col>films</th><th scope=col>vehicles</th><th scope=col>starships</th></tr>\n",
       "\t<tr><th scope=col>&lt;chr&gt;</th><th scope=col>&lt;int&gt;</th><th scope=col>&lt;dbl&gt;</th><th scope=col>&lt;chr&gt;</th><th scope=col>&lt;chr&gt;</th><th scope=col>&lt;chr&gt;</th><th scope=col>&lt;dbl&gt;</th><th scope=col>&lt;chr&gt;</th><th scope=col>&lt;chr&gt;</th><th scope=col>&lt;chr&gt;</th><th scope=col>&lt;chr&gt;</th><th scope=col>&lt;list&gt;</th><th scope=col>&lt;list&gt;</th><th scope=col>&lt;list&gt;</th></tr>\n",
       "</thead>\n",
       "<tbody>\n",
       "\t<tr><td>R2-D2                </td><td>96</td><td>32</td><td>NA   </td><td>white, blue</td><td>red      </td><td> 33</td><td>none</td><td>masculine</td><td>Naboo      </td><td>Droid         </td><td>The Empire Strikes Back, Attack of the Clones   , The Phantom Menace     , Revenge of the Sith    , Return of the Jedi     , A New Hope             , The Force Awakens      </td><td></td><td></td></tr>\n",
       "\t<tr><td>Yoda                 </td><td>66</td><td>17</td><td>white</td><td>green      </td><td>brown    </td><td>896</td><td>male</td><td>masculine</td><td>NA         </td><td>Yoda's species</td><td>The Empire Strikes Back, Attack of the Clones   , The Phantom Menace     , Revenge of the Sith    , Return of the Jedi     </td><td></td><td></td></tr>\n",
       "\t<tr><td>Wicket Systri Warrick</td><td>88</td><td>20</td><td>brown</td><td>brown      </td><td>brown    </td><td>  8</td><td>male</td><td>masculine</td><td>Endor      </td><td>Ewok          </td><td>Return of the Jedi</td><td></td><td></td></tr>\n",
       "\t<tr><td>Dud Bolt             </td><td>94</td><td>45</td><td>none </td><td>blue, grey </td><td>yellow   </td><td> NA</td><td>male</td><td>masculine</td><td>Vulpter    </td><td>Vulptereen    </td><td>The Phantom Menace</td><td></td><td></td></tr>\n",
       "\t<tr><td>Ratts Tyerell        </td><td>79</td><td>15</td><td>none </td><td>grey, blue </td><td>unknown  </td><td> NA</td><td>male</td><td>masculine</td><td>Aleen Minor</td><td>Aleena        </td><td>The Phantom Menace</td><td></td><td></td></tr>\n",
       "\t<tr><td>R4-P17               </td><td>96</td><td>NA</td><td>none </td><td>silver, red</td><td>red, blue</td><td> NA</td><td>none</td><td>feminine </td><td>NA         </td><td>Droid         </td><td>Attack of the Clones, Revenge of the Sith </td><td></td><td></td></tr>\n",
       "</tbody>\n",
       "</table>\n"
      ],
      "text/latex": [
       "A tibble: 6 × 14\n",
       "\\begin{tabular}{llllllllllllll}\n",
       " name & height & mass & hair\\_color & skin\\_color & eye\\_color & birth\\_year & sex & gender & homeworld & species & films & vehicles & starships\\\\\n",
       " <chr> & <int> & <dbl> & <chr> & <chr> & <chr> & <dbl> & <chr> & <chr> & <chr> & <chr> & <list> & <list> & <list>\\\\\n",
       "\\hline\n",
       "\t R2-D2                 & 96 & 32 & NA    & white, blue & red       &  33 & none & masculine & Naboo       & Droid          & The Empire Strikes Back, Attack of the Clones   , The Phantom Menace     , Revenge of the Sith    , Return of the Jedi     , A New Hope             , The Force Awakens       &  & \\\\\n",
       "\t Yoda                  & 66 & 17 & white & green       & brown     & 896 & male & masculine & NA          & Yoda's species & The Empire Strikes Back, Attack of the Clones   , The Phantom Menace     , Revenge of the Sith    , Return of the Jedi      &  & \\\\\n",
       "\t Wicket Systri Warrick & 88 & 20 & brown & brown       & brown     &   8 & male & masculine & Endor       & Ewok           & Return of the Jedi &  & \\\\\n",
       "\t Dud Bolt              & 94 & 45 & none  & blue, grey  & yellow    &  NA & male & masculine & Vulpter     & Vulptereen     & The Phantom Menace &  & \\\\\n",
       "\t Ratts Tyerell         & 79 & 15 & none  & grey, blue  & unknown   &  NA & male & masculine & Aleen Minor & Aleena         & The Phantom Menace &  & \\\\\n",
       "\t R4-P17                & 96 & NA & none  & silver, red & red, blue &  NA & none & feminine  & NA          & Droid          & Attack of the Clones, Revenge of the Sith  &  & \\\\\n",
       "\\end{tabular}\n"
      ],
      "text/markdown": [
       "\n",
       "A tibble: 6 × 14\n",
       "\n",
       "| name &lt;chr&gt; | height &lt;int&gt; | mass &lt;dbl&gt; | hair_color &lt;chr&gt; | skin_color &lt;chr&gt; | eye_color &lt;chr&gt; | birth_year &lt;dbl&gt; | sex &lt;chr&gt; | gender &lt;chr&gt; | homeworld &lt;chr&gt; | species &lt;chr&gt; | films &lt;list&gt; | vehicles &lt;list&gt; | starships &lt;list&gt; |\n",
       "|---|---|---|---|---|---|---|---|---|---|---|---|---|---|\n",
       "| R2-D2                 | 96 | 32 | NA    | white, blue | red       |  33 | none | masculine | Naboo       | Droid          | The Empire Strikes Back, Attack of the Clones   , The Phantom Menace     , Revenge of the Sith    , Return of the Jedi     , A New Hope             , The Force Awakens       | <!----> | <!----> |\n",
       "| Yoda                  | 66 | 17 | white | green       | brown     | 896 | male | masculine | NA          | Yoda's species | The Empire Strikes Back, Attack of the Clones   , The Phantom Menace     , Revenge of the Sith    , Return of the Jedi      | <!----> | <!----> |\n",
       "| Wicket Systri Warrick | 88 | 20 | brown | brown       | brown     |   8 | male | masculine | Endor       | Ewok           | Return of the Jedi | <!----> | <!----> |\n",
       "| Dud Bolt              | 94 | 45 | none  | blue, grey  | yellow    |  NA | male | masculine | Vulpter     | Vulptereen     | The Phantom Menace | <!----> | <!----> |\n",
       "| Ratts Tyerell         | 79 | 15 | none  | grey, blue  | unknown   |  NA | male | masculine | Aleen Minor | Aleena         | The Phantom Menace | <!----> | <!----> |\n",
       "| R4-P17                | 96 | NA | none  | silver, red | red, blue |  NA | none | feminine  | NA          | Droid          | Attack of the Clones, Revenge of the Sith  | <!----> | <!----> |\n",
       "\n"
      ],
      "text/plain": [
       "  name                  height mass hair_color skin_color  eye_color birth_year\n",
       "1 R2-D2                 96     32   NA         white, blue red        33       \n",
       "2 Yoda                  66     17   white      green       brown     896       \n",
       "3 Wicket Systri Warrick 88     20   brown      brown       brown       8       \n",
       "4 Dud Bolt              94     45   none       blue, grey  yellow     NA       \n",
       "5 Ratts Tyerell         79     15   none       grey, blue  unknown    NA       \n",
       "6 R4-P17                96     NA   none       silver, red red, blue  NA       \n",
       "  sex  gender    homeworld   species       \n",
       "1 none masculine Naboo       Droid         \n",
       "2 male masculine NA          Yoda's species\n",
       "3 male masculine Endor       Ewok          \n",
       "4 male masculine Vulpter     Vulptereen    \n",
       "5 male masculine Aleen Minor Aleena        \n",
       "6 none feminine  NA          Droid         \n",
       "  films                                                                                                                                                                        \n",
       "1 The Empire Strikes Back, Attack of the Clones   , The Phantom Menace     , Revenge of the Sith    , Return of the Jedi     , A New Hope             , The Force Awakens      \n",
       "2 The Empire Strikes Back, Attack of the Clones   , The Phantom Menace     , Revenge of the Sith    , Return of the Jedi                                                       \n",
       "3 Return of the Jedi                                                                                                                                                           \n",
       "4 The Phantom Menace                                                                                                                                                           \n",
       "5 The Phantom Menace                                                                                                                                                           \n",
       "6 Attack of the Clones, Revenge of the Sith                                                                                                                                    \n",
       "  vehicles starships\n",
       "1                   \n",
       "2                   \n",
       "3                   \n",
       "4                   \n",
       "5                   \n",
       "6                   "
      ]
     },
     "metadata": {},
     "output_type": "display_data"
    }
   ],
   "source": [
    "filter(starwars, height<=96)"
   ]
  },
  {
   "cell_type": "code",
   "execution_count": 21,
   "metadata": {
    "tags": [
     "remove-input"
    ],
    "vscode": {
     "languageId": "r"
    }
   },
   "outputs": [
    {
     "name": "stdout",
     "output_type": "stream",
     "text": [
      "\u001b[90m# A tibble: 6 x 14\u001b[39m\n",
      "  name      height  mass hair_color skin_color eye_color birth_year sex   gender\n",
      "  \u001b[3m\u001b[90m<chr>\u001b[39m\u001b[23m      \u001b[3m\u001b[90m<int>\u001b[39m\u001b[23m \u001b[3m\u001b[90m<dbl>\u001b[39m\u001b[23m \u001b[3m\u001b[90m<chr>\u001b[39m\u001b[23m      \u001b[3m\u001b[90m<chr>\u001b[39m\u001b[23m      \u001b[3m\u001b[90m<chr>\u001b[39m\u001b[23m          \u001b[3m\u001b[90m<dbl>\u001b[39m\u001b[23m \u001b[3m\u001b[90m<chr>\u001b[39m\u001b[23m \u001b[3m\u001b[90m<chr>\u001b[39m\u001b[23m \n",
      "\u001b[90m1\u001b[39m R2-D2         96    32 \u001b[31mNA\u001b[39m         white, bl~ red               33 none  mascu~\n",
      "\u001b[90m2\u001b[39m Yoda          66    17 white      green      brown            896 male  mascu~\n",
      "\u001b[90m3\u001b[39m Wicket S~     88    20 brown      brown      brown              8 male  mascu~\n",
      "\u001b[90m4\u001b[39m Dud Bolt      94    45 none       blue, grey yellow            \u001b[31mNA\u001b[39m male  mascu~\n",
      "\u001b[90m5\u001b[39m Ratts Ty~     79    15 none       grey, blue unknown           \u001b[31mNA\u001b[39m male  mascu~\n",
      "\u001b[90m6\u001b[39m R4-P17        96    \u001b[31mNA\u001b[39m none       silver, r~ red, blue         \u001b[31mNA\u001b[39m none  femin~\n",
      "\u001b[90m# i 5 more variables: homeworld <chr>, species <chr>, films <list>,\u001b[39m\n",
      "\u001b[90m#   vehicles <list>, starships <list>\u001b[39m\n"
     ]
    }
   ],
   "source": [
    "filter(starwars, height<=96) |> print()"
   ]
  },
  {
   "cell_type": "markdown",
   "metadata": {},
   "source": [
    "Finally, as in other `dplyr` functions, we can combine multiple comma-separated statements in one use of the `filter()` function. Here we filter to only include characters who:\n",
    "* come from Tatooine\n",
    "* are at least 100 cm tall\n",
    "* are human"
   ]
  },
  {
   "cell_type": "code",
   "execution_count": 22,
   "metadata": {
    "tags": [
     "remove-output"
    ],
    "vscode": {
     "languageId": "r"
    }
   },
   "outputs": [
    {
     "data": {
      "text/html": [
       "<table class=\"dataframe\">\n",
       "<caption>A tibble: 8 × 14</caption>\n",
       "<thead>\n",
       "\t<tr><th scope=col>name</th><th scope=col>height</th><th scope=col>mass</th><th scope=col>hair_color</th><th scope=col>skin_color</th><th scope=col>eye_color</th><th scope=col>birth_year</th><th scope=col>sex</th><th scope=col>gender</th><th scope=col>homeworld</th><th scope=col>species</th><th scope=col>films</th><th scope=col>vehicles</th><th scope=col>starships</th></tr>\n",
       "\t<tr><th scope=col>&lt;chr&gt;</th><th scope=col>&lt;int&gt;</th><th scope=col>&lt;dbl&gt;</th><th scope=col>&lt;chr&gt;</th><th scope=col>&lt;chr&gt;</th><th scope=col>&lt;chr&gt;</th><th scope=col>&lt;dbl&gt;</th><th scope=col>&lt;chr&gt;</th><th scope=col>&lt;chr&gt;</th><th scope=col>&lt;chr&gt;</th><th scope=col>&lt;chr&gt;</th><th scope=col>&lt;list&gt;</th><th scope=col>&lt;list&gt;</th><th scope=col>&lt;list&gt;</th></tr>\n",
       "</thead>\n",
       "<tbody>\n",
       "\t<tr><td>Luke Skywalker    </td><td>172</td><td> 77</td><td>blond      </td><td>fair </td><td>blue  </td><td>19.0</td><td>male  </td><td>masculine</td><td>Tatooine</td><td>Human</td><td>The Empire Strikes Back, Revenge of the Sith    , Return of the Jedi     , A New Hope             , The Force Awakens      </td><td>Snowspeeder          , Imperial Speeder Bike</td><td>X-wing          , Imperial shuttle</td></tr>\n",
       "\t<tr><td>Darth Vader       </td><td>202</td><td>136</td><td>none       </td><td>white</td><td>yellow</td><td>41.9</td><td>male  </td><td>masculine</td><td>Tatooine</td><td>Human</td><td>The Empire Strikes Back, Revenge of the Sith    , Return of the Jedi     , A New Hope             </td><td></td><td>TIE Advanced x1</td></tr>\n",
       "\t<tr><td>Owen Lars         </td><td>178</td><td>120</td><td>brown, grey</td><td>light</td><td>blue  </td><td>52.0</td><td>male  </td><td>masculine</td><td>Tatooine</td><td>Human</td><td>Attack of the Clones, Revenge of the Sith , A New Hope          </td><td></td><td></td></tr>\n",
       "\t<tr><td>Beru Whitesun lars</td><td>165</td><td> 75</td><td>brown      </td><td>light</td><td>blue  </td><td>47.0</td><td>female</td><td>feminine </td><td>Tatooine</td><td>Human</td><td>Attack of the Clones, Revenge of the Sith , A New Hope          </td><td></td><td></td></tr>\n",
       "\t<tr><td>Biggs Darklighter </td><td>183</td><td> 84</td><td>black      </td><td>light</td><td>brown </td><td>24.0</td><td>male  </td><td>masculine</td><td>Tatooine</td><td>Human</td><td>A New Hope</td><td></td><td>X-wing</td></tr>\n",
       "\t<tr><td>Anakin Skywalker  </td><td>188</td><td> 84</td><td>blond      </td><td>fair </td><td>blue  </td><td>41.9</td><td>male  </td><td>masculine</td><td>Tatooine</td><td>Human</td><td>Attack of the Clones, The Phantom Menace  , Revenge of the Sith </td><td>Zephyr-G swoop bike, XJ-6 airspeeder    </td><td>Trade Federation cruiser, Jedi Interceptor        , Naboo fighter           </td></tr>\n",
       "\t<tr><td>Shmi Skywalker    </td><td>163</td><td> NA</td><td>black      </td><td>fair </td><td>brown </td><td>72.0</td><td>female</td><td>feminine </td><td>Tatooine</td><td>Human</td><td>Attack of the Clones, The Phantom Menace  </td><td></td><td></td></tr>\n",
       "\t<tr><td>Cliegg Lars       </td><td>183</td><td> NA</td><td>brown      </td><td>fair </td><td>blue  </td><td>82.0</td><td>male  </td><td>masculine</td><td>Tatooine</td><td>Human</td><td>Attack of the Clones</td><td></td><td></td></tr>\n",
       "</tbody>\n",
       "</table>\n"
      ],
      "text/latex": [
       "A tibble: 8 × 14\n",
       "\\begin{tabular}{llllllllllllll}\n",
       " name & height & mass & hair\\_color & skin\\_color & eye\\_color & birth\\_year & sex & gender & homeworld & species & films & vehicles & starships\\\\\n",
       " <chr> & <int> & <dbl> & <chr> & <chr> & <chr> & <dbl> & <chr> & <chr> & <chr> & <chr> & <list> & <list> & <list>\\\\\n",
       "\\hline\n",
       "\t Luke Skywalker     & 172 &  77 & blond       & fair  & blue   & 19.0 & male   & masculine & Tatooine & Human & The Empire Strikes Back, Revenge of the Sith    , Return of the Jedi     , A New Hope             , The Force Awakens       & Snowspeeder          , Imperial Speeder Bike & X-wing          , Imperial shuttle\\\\\n",
       "\t Darth Vader        & 202 & 136 & none        & white & yellow & 41.9 & male   & masculine & Tatooine & Human & The Empire Strikes Back, Revenge of the Sith    , Return of the Jedi     , A New Hope              &  & TIE Advanced x1\\\\\n",
       "\t Owen Lars          & 178 & 120 & brown, grey & light & blue   & 52.0 & male   & masculine & Tatooine & Human & Attack of the Clones, Revenge of the Sith , A New Hope           &  & \\\\\n",
       "\t Beru Whitesun lars & 165 &  75 & brown       & light & blue   & 47.0 & female & feminine  & Tatooine & Human & Attack of the Clones, Revenge of the Sith , A New Hope           &  & \\\\\n",
       "\t Biggs Darklighter  & 183 &  84 & black       & light & brown  & 24.0 & male   & masculine & Tatooine & Human & A New Hope &  & X-wing\\\\\n",
       "\t Anakin Skywalker   & 188 &  84 & blond       & fair  & blue   & 41.9 & male   & masculine & Tatooine & Human & Attack of the Clones, The Phantom Menace  , Revenge of the Sith  & Zephyr-G swoop bike, XJ-6 airspeeder     & Trade Federation cruiser, Jedi Interceptor        , Naboo fighter           \\\\\n",
       "\t Shmi Skywalker     & 163 &  NA & black       & fair  & brown  & 72.0 & female & feminine  & Tatooine & Human & Attack of the Clones, The Phantom Menace   &  & \\\\\n",
       "\t Cliegg Lars        & 183 &  NA & brown       & fair  & blue   & 82.0 & male   & masculine & Tatooine & Human & Attack of the Clones &  & \\\\\n",
       "\\end{tabular}\n"
      ],
      "text/markdown": [
       "\n",
       "A tibble: 8 × 14\n",
       "\n",
       "| name &lt;chr&gt; | height &lt;int&gt; | mass &lt;dbl&gt; | hair_color &lt;chr&gt; | skin_color &lt;chr&gt; | eye_color &lt;chr&gt; | birth_year &lt;dbl&gt; | sex &lt;chr&gt; | gender &lt;chr&gt; | homeworld &lt;chr&gt; | species &lt;chr&gt; | films &lt;list&gt; | vehicles &lt;list&gt; | starships &lt;list&gt; |\n",
       "|---|---|---|---|---|---|---|---|---|---|---|---|---|---|\n",
       "| Luke Skywalker     | 172 |  77 | blond       | fair  | blue   | 19.0 | male   | masculine | Tatooine | Human | The Empire Strikes Back, Revenge of the Sith    , Return of the Jedi     , A New Hope             , The Force Awakens       | Snowspeeder          , Imperial Speeder Bike | X-wing          , Imperial shuttle |\n",
       "| Darth Vader        | 202 | 136 | none        | white | yellow | 41.9 | male   | masculine | Tatooine | Human | The Empire Strikes Back, Revenge of the Sith    , Return of the Jedi     , A New Hope              | <!----> | TIE Advanced x1 |\n",
       "| Owen Lars          | 178 | 120 | brown, grey | light | blue   | 52.0 | male   | masculine | Tatooine | Human | Attack of the Clones, Revenge of the Sith , A New Hope           | <!----> | <!----> |\n",
       "| Beru Whitesun lars | 165 |  75 | brown       | light | blue   | 47.0 | female | feminine  | Tatooine | Human | Attack of the Clones, Revenge of the Sith , A New Hope           | <!----> | <!----> |\n",
       "| Biggs Darklighter  | 183 |  84 | black       | light | brown  | 24.0 | male   | masculine | Tatooine | Human | A New Hope | <!----> | X-wing |\n",
       "| Anakin Skywalker   | 188 |  84 | blond       | fair  | blue   | 41.9 | male   | masculine | Tatooine | Human | Attack of the Clones, The Phantom Menace  , Revenge of the Sith  | Zephyr-G swoop bike, XJ-6 airspeeder     | Trade Federation cruiser, Jedi Interceptor        , Naboo fighter            |\n",
       "| Shmi Skywalker     | 163 |  NA | black       | fair  | brown  | 72.0 | female | feminine  | Tatooine | Human | Attack of the Clones, The Phantom Menace   | <!----> | <!----> |\n",
       "| Cliegg Lars        | 183 |  NA | brown       | fair  | blue   | 82.0 | male   | masculine | Tatooine | Human | Attack of the Clones | <!----> | <!----> |\n",
       "\n"
      ],
      "text/plain": [
       "  name               height mass hair_color  skin_color eye_color birth_year\n",
       "1 Luke Skywalker     172     77  blond       fair       blue      19.0      \n",
       "2 Darth Vader        202    136  none        white      yellow    41.9      \n",
       "3 Owen Lars          178    120  brown, grey light      blue      52.0      \n",
       "4 Beru Whitesun lars 165     75  brown       light      blue      47.0      \n",
       "5 Biggs Darklighter  183     84  black       light      brown     24.0      \n",
       "6 Anakin Skywalker   188     84  blond       fair       blue      41.9      \n",
       "7 Shmi Skywalker     163     NA  black       fair       brown     72.0      \n",
       "8 Cliegg Lars        183     NA  brown       fair       blue      82.0      \n",
       "  sex    gender    homeworld species\n",
       "1 male   masculine Tatooine  Human  \n",
       "2 male   masculine Tatooine  Human  \n",
       "3 male   masculine Tatooine  Human  \n",
       "4 female feminine  Tatooine  Human  \n",
       "5 male   masculine Tatooine  Human  \n",
       "6 male   masculine Tatooine  Human  \n",
       "7 female feminine  Tatooine  Human  \n",
       "8 male   masculine Tatooine  Human  \n",
       "  films                                                                                                                      \n",
       "1 The Empire Strikes Back, Revenge of the Sith    , Return of the Jedi     , A New Hope             , The Force Awakens      \n",
       "2 The Empire Strikes Back, Revenge of the Sith    , Return of the Jedi     , A New Hope                                      \n",
       "3 Attack of the Clones, Revenge of the Sith , A New Hope                                                                     \n",
       "4 Attack of the Clones, Revenge of the Sith , A New Hope                                                                     \n",
       "5 A New Hope                                                                                                                 \n",
       "6 Attack of the Clones, The Phantom Menace  , Revenge of the Sith                                                            \n",
       "7 Attack of the Clones, The Phantom Menace                                                                                   \n",
       "8 Attack of the Clones                                                                                                       \n",
       "  vehicles                                    \n",
       "1 Snowspeeder          , Imperial Speeder Bike\n",
       "2                                             \n",
       "3                                             \n",
       "4                                             \n",
       "5                                             \n",
       "6 Zephyr-G swoop bike, XJ-6 airspeeder        \n",
       "7                                             \n",
       "8                                             \n",
       "  starships                                                                   \n",
       "1 X-wing          , Imperial shuttle                                          \n",
       "2 TIE Advanced x1                                                             \n",
       "3                                                                             \n",
       "4                                                                             \n",
       "5 X-wing                                                                      \n",
       "6 Trade Federation cruiser, Jedi Interceptor        , Naboo fighter           \n",
       "7                                                                             \n",
       "8                                                                             "
      ]
     },
     "metadata": {},
     "output_type": "display_data"
    }
   ],
   "source": [
    "filter(starwars, homeworld==\"Tatooine\", height>=100, species==\"Human\")"
   ]
  },
  {
   "cell_type": "code",
   "execution_count": 23,
   "metadata": {
    "tags": [
     "remove-input"
    ],
    "vscode": {
     "languageId": "r"
    }
   },
   "outputs": [
    {
     "name": "stdout",
     "output_type": "stream",
     "text": [
      "\u001b[90m# A tibble: 8 x 14\u001b[39m\n",
      "  name      height  mass hair_color skin_color eye_color birth_year sex   gender\n",
      "  \u001b[3m\u001b[90m<chr>\u001b[39m\u001b[23m      \u001b[3m\u001b[90m<int>\u001b[39m\u001b[23m \u001b[3m\u001b[90m<dbl>\u001b[39m\u001b[23m \u001b[3m\u001b[90m<chr>\u001b[39m\u001b[23m      \u001b[3m\u001b[90m<chr>\u001b[39m\u001b[23m      \u001b[3m\u001b[90m<chr>\u001b[39m\u001b[23m          \u001b[3m\u001b[90m<dbl>\u001b[39m\u001b[23m \u001b[3m\u001b[90m<chr>\u001b[39m\u001b[23m \u001b[3m\u001b[90m<chr>\u001b[39m\u001b[23m \n",
      "\u001b[90m1\u001b[39m Luke Sky~    172    77 blond      fair       blue            19   male  mascu~\n",
      "\u001b[90m2\u001b[39m Darth Va~    202   136 none       white      yellow          41.9 male  mascu~\n",
      "\u001b[90m3\u001b[39m Owen Lars    178   120 brown, gr~ light      blue            52   male  mascu~\n",
      "\u001b[90m4\u001b[39m Beru Whi~    165    75 brown      light      blue            47   fema~ femin~\n",
      "\u001b[90m5\u001b[39m Biggs Da~    183    84 black      light      brown           24   male  mascu~\n",
      "\u001b[90m6\u001b[39m Anakin S~    188    84 blond      fair       blue            41.9 male  mascu~\n",
      "\u001b[90m7\u001b[39m Shmi Sky~    163    \u001b[31mNA\u001b[39m black      fair       brown           72   fema~ femin~\n",
      "\u001b[90m8\u001b[39m Cliegg L~    183    \u001b[31mNA\u001b[39m brown      fair       blue            82   male  mascu~\n",
      "\u001b[90m# i 5 more variables: homeworld <chr>, species <chr>, films <list>,\u001b[39m\n",
      "\u001b[90m#   vehicles <list>, starships <list>\u001b[39m\n"
     ]
    }
   ],
   "source": [
    "filter(starwars, homeworld==\"Tatooine\", height>=100, species==\"Human\") |> print()"
   ]
  }
 ],
 "metadata": {
  "kernelspec": {
   "display_name": "R",
   "language": "R",
   "name": "ir"
  },
  "language_info": {
   "codemirror_mode": "r",
   "file_extension": ".r",
   "mimetype": "text/x-r-source",
   "name": "R",
   "pygments_lexer": "r",
   "version": "4.1.3"
  }
 },
 "nbformat": 4,
 "nbformat_minor": 5
}
