{
 "cells": [
  {
   "cell_type": "markdown",
   "id": "34e9fb44",
   "metadata": {},
   "source": [
    "# Data Wrangling\n",
    "\n",
    "![https://commons.wikimedia.org/wiki/File:Pioneer_Day_Wrangler.jpg](https://upload.wikimedia.org/wikipedia/commons/thumb/8/83/Pioneer_Day_Wrangler.jpg/640px-Pioneer_Day_Wrangler.jpg)\n",
    "\n",
    "**Wrangling** /ˈræŋ.ɡəl.ɪŋ/\n",
    "\n",
    "the activity of taking care of, controlling, or moving animals, especially large animals such as cows or horses\n",
    "\n",
    "([Cambridge Dictionary](https://dictionary.cambridge.org/dictionary/english/wrangling))\n",
    "\n",
    "[Data wrangling](https://en.wikipedia.org/wiki/Data_wrangling) commonly refers to the transformation of data from one \"input\" format (e.g., `.csv` files from an experiment), to a different format (e.g., a tidy dataframe) that is more appropriate to the needs of an analysis. In the context of the ExPra experiments, you will use data wrangling techniques to implement the transformations and data cleaning steps specified in your preregistrations.\n",
    "\n",
    "## Setup\n",
    "\n",
    "### Setup Part 1: Install Packages\n",
    "\n",
    "We will use [`tidyverse`](https://www.tidyverse.org/) packages to implement our data wrangling. The \"tidyverse\" is a series of packages which share a philosphy based around code and data structures that are (a) tidy, and (b) readable. You can install the tidyverse packages like so:\n",
    "\n",
    "```\n",
    "install.packages(\"tidyverse\")\n",
    "```\n",
    "\n",
    "This includes many packages that we won't be using today, but which will be useful in other parts of the course (e.g., on Data Visualisation).\n",
    "\n",
    "### Setup Part 2: Check the Packages Load\n",
    "\n",
    "Now, we can test that the packages we will be using today actually load. You should be able to run this code without any errors:"
   ]
  },
  {
   "cell_type": "code",
   "execution_count": null,
   "id": "8d6a0e92",
   "metadata": {
    "tags": [
     "remove-input"
    ],
    "vscode": {
     "languageId": "r"
    }
   },
   "outputs": [],
   "source": [
    "options(repr.plot.width=3.5, repr.plot.height=3)"
   ]
  },
  {
   "cell_type": "code",
   "execution_count": null,
   "id": "165b6408",
   "metadata": {
    "tags": [],
    "vscode": {
     "languageId": "r"
    }
   },
   "outputs": [],
   "source": [
    "library(dplyr)\n",
    "library(tidyr)"
   ]
  }
 ],
 "metadata": {
  "kernelspec": {
   "display_name": "R",
   "language": "R",
   "name": "ir"
  },
  "language_info": {
   "codemirror_mode": "r",
   "file_extension": ".r",
   "mimetype": "text/x-r-source",
   "name": "R",
   "pygments_lexer": "r",
   "version": "4.1.3"
  }
 },
 "nbformat": 4,
 "nbformat_minor": 5
}
