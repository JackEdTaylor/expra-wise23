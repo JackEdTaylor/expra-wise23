{
 "cells": [
  {
   "cell_type": "markdown",
   "id": "54f43b5e",
   "metadata": {},
   "source": [
    "# Introduction 2"
   ]
  },
  {
   "cell_type": "markdown",
   "id": "f6f67f05",
   "metadata": {},
   "source": [
    "## Introduction to Model Appropriateness\n",
    "\n",
    "One of the key themes of this ExPra will be the idea of **model appropriateness**. In this example, we briefly consider sine waves. Sine waves are very relevant to much of Psychology and Neuroscience - for example in describing [neural oscillations](https://en.wikipedia.org/wiki/Neural_oscillation).\n",
    "\n",
    "We'll show that a simple linear model is inappropriate for describing the data, but that a more appropriate model can describe these data much better.\n",
    "\n",
    "### 1: Generate the Data\n",
    "\n",
    "First of all, we need to generate the data we will use. We will also be using the packages `tibble` and `ggplot2`, so make sure these are loaded!"
   ]
  },
  {
   "cell_type": "code",
   "execution_count": null,
   "id": "7ecfcf56",
   "metadata": {},
   "outputs": [],
   "source": [
    "# load libraries used in the examples\n",
    "library(tibble)\n",
    "library(ggplot2)\n",
    "\n",
    "# set the ggplot2 theme\n",
    "theme_set(theme_classic())\n",
    "\n",
    "# set a seed for reproducibility\n",
    "set.seed(999)"
   ]
  },
  {
   "cell_type": "markdown",
   "id": "6dd71a42",
   "metadata": {},
   "source": [
    "Here we generate 250 observations from a Sine wave, with amplitude of 3.7 and with normally distributed noise of SD=1. We'll also offset the sine wave from 0, by 2.3."
   ]
  },
  {
   "cell_type": "code",
   "execution_count": null,
   "id": "a7226fcb",
   "metadata": {
    "scrolled": true
   },
   "outputs": [],
   "source": [
    "n <- 250  # number of observations\n",
    "amplitude <- 3.7  # amplitude of the sine wave\n",
    "offset <- 2.3  # offset from 0\n",
    "noise_sd <- 1  # SD of noise\n",
    "\n",
    "data <- tibble(\n",
    "  # randomly sample x values from 0 to 25\n",
    "  x = runif(n=n, min=0, max=25),\n",
    "  # generate the perfect sine wave\n",
    "  s = offset + amplitude * sin(x),\n",
    "  # generate random noise of desired sd\n",
    "  e = rnorm(n=n, mean=0, sd=noise_sd),\n",
    "  # add the sine wave to the noise to simulate observations\n",
    "  y = s + e\n",
    ")\n",
    "\n",
    "# plot the observations\n",
    "ggplot(data, aes(x, y)) +\n",
    "  geom_point()"
   ]
  },
  {
   "cell_type": "markdown",
   "id": "7a0a3a47",
   "metadata": {},
   "source": [
    "This shows that the pattern is clearly non-random - there is an obvious relationship between x and y."
   ]
  },
  {
   "cell_type": "markdown",
   "id": "a93cc809",
   "metadata": {},
   "source": [
    "### 2: Try a Simple Linear Model / Pearson Correlation\n",
    "\n",
    "Let's get the Pearson correlation coefficient for our data."
   ]
  },
  {
   "cell_type": "code",
   "execution_count": null,
   "id": "a901791f",
   "metadata": {},
   "outputs": [],
   "source": [
    "# get the Pearson's correlation\n",
    "cor(data$x, data$y)"
   ]
  },
  {
   "cell_type": "markdown",
   "id": "4fdd5c72",
   "metadata": {},
   "source": [
    "The Pearson's correlation is very close to zero - why do you think that is?\n",
    "\n",
    "The Pearson's correlation is based on a linear model. Here is what that looks like using the `lm()` function:"
   ]
  },
  {
   "cell_type": "code",
   "execution_count": null,
   "id": "5d6f8f84",
   "metadata": {},
   "outputs": [],
   "source": [
    "lm(y ~ x, data=data)"
   ]
  },
  {
   "cell_type": "markdown",
   "id": "638e7b40",
   "metadata": {},
   "source": [
    "The `Intercept` has very roughly estimated our `offset` of 2.3, estimating it to equal about 3. `x` is an estimate for a linear slope.\n",
    "\n",
    "To better understand this, we can also visualise the linear relationship that the Pearson's correlation is based on..."
   ]
  },
  {
   "cell_type": "code",
   "execution_count": null,
   "id": "d9a3a559",
   "metadata": {},
   "outputs": [],
   "source": [
    "# superimpose the simple linear model\n",
    "ggplot(data, aes(x, y)) +\n",
    "  geom_point() +\n",
    "  geom_smooth(method=\"lm\", formula=y~x)"
   ]
  },
  {
   "cell_type": "markdown",
   "id": "f9b4d6dd",
   "metadata": {},
   "source": [
    "Clearly, a simple Pearson's correlation, and the associated simple linear model, are completely inappropriate in this case! It's missing important information that we know about the data.\n",
    "\n",
    "One solution could be to use a measure of association that makes minimal assumptions about the nature of the relationship. For example, we could use [mutual information](https://en.wikipedia.org/wiki/Mutual_information) to quantify the degree to which we learn information about one variable by observing the other. If you're interested in trying out mutual information, you might want to try the R package [`infotheo`](https://cran.r-project.org/web/packages/infotheo/index.html).\n",
    "\n",
    "**However, a better approach may be to fit a more specific model**, which allows us to incorporate our knowledge about how the data were generated - via a sine function."
   ]
  },
  {
   "cell_type": "markdown",
   "id": "d4aba488",
   "metadata": {},
   "source": [
    "### 3: Fit a more Appropriate Model\n",
    "\n",
    "If we happen know that a the data is generated from a sine function with a certain amplitude (and zero phase), we could fit a model that accounts for this. Here, instead of `y ~ x`, our formula would be `y ~ sin(x)`"
   ]
  },
  {
   "cell_type": "code",
   "execution_count": null,
   "id": "cd9ca6c5",
   "metadata": {},
   "outputs": [],
   "source": [
    "ggplot(data, aes(x, y)) +\n",
    "  geom_point() +\n",
    "  geom_smooth(method=\"lm\", formula = y ~ sin(x))"
   ]
  },
  {
   "cell_type": "markdown",
   "id": "00b7f681",
   "metadata": {},
   "source": [
    "This is looking like a much better description of the data!\n",
    "\n",
    "Here is what the `lm()` output looks like."
   ]
  },
  {
   "cell_type": "code",
   "execution_count": null,
   "id": "01c70f58",
   "metadata": {
    "scrolled": true
   },
   "outputs": [],
   "source": [
    "lm(y ~ sin(x), data=data)"
   ]
  },
  {
   "cell_type": "markdown",
   "id": "e0df1a49",
   "metadata": {},
   "source": [
    "How cool! Notice that this model is now able to estimate our parameters from before!\n",
    "\n",
    "* The `Intercept` estimates our offset parameter of 2.3\n",
    "* The `sin(x)` part estimates our amplitude of 3.7\n",
    "\n",
    "If we wanted to, we could also calculate an equivalent of the Pearson's correlation for this more appropriate model, which is much better at capturing the strength of the clear relationship that we can see in the data."
   ]
  },
  {
   "cell_type": "code",
   "execution_count": null,
   "id": "f1e54ed5",
   "metadata": {},
   "outputs": [],
   "source": [
    "cor(sin(data$x), data$y)"
   ]
  }
 ],
 "metadata": {
  "kernelspec": {
   "display_name": "R",
   "language": "R",
   "name": "ir"
  },
  "language_info": {
   "codemirror_mode": "r",
   "file_extension": ".r",
   "mimetype": "text/x-r-source",
   "name": "R",
   "pygments_lexer": "r",
   "version": "4.1.3"
  }
 },
 "nbformat": 4,
 "nbformat_minor": 5
}
