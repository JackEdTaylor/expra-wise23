{
 "cells": [
  {
   "cell_type": "markdown",
   "id": "54f43b5e",
   "metadata": {},
   "source": [
    "# Test with R Notebook\n",
    "\n",
    "Hurray!"
   ]
  },
  {
   "cell_type": "code",
   "execution_count": null,
   "id": "a7226fcb",
   "metadata": {},
   "outputs": [],
   "source": [
    "library(ggplot2)\n",
    "\n",
    "pl <- ggplot(iris, aes(Sepal.Length, Sepal.Width, colour=Species)) +\n",
    "    geom_point()\n",
    "\n",
    "pl"
   ]
  }
 ],
 "metadata": {
  "kernelspec": {
   "display_name": "R",
   "language": "R",
   "name": "ir"
  },
  "language_info": {
   "codemirror_mode": "r",
   "file_extension": ".r",
   "mimetype": "text/x-r-source",
   "name": "R",
   "pygments_lexer": "r",
   "version": "4.1.3"
  }
 },
 "nbformat": 4,
 "nbformat_minor": 5
}
