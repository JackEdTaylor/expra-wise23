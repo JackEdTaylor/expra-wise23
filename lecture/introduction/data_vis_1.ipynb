{
 "cells": [
  {
   "cell_type": "markdown",
   "id": "34e9fb44",
   "metadata": {},
   "source": [
    "# Data Visualisation 1\n",
    "\n",
    "Data visualisation is an incredibly useful skill to develop! It can be an invaluable way to explore your data and present your findings.\n",
    "\n",
    "In the first half of this session, we will discuss what makes a good figure.\n",
    "\n",
    "In the second half, we will see how we apply these principles of data visualisation in practice, using `ggplot2` in R.\n",
    "\n",
    "## Slides\n",
    "\n",
    "<iframe src=\"https://docs.google.com/presentation/d/e/2PACX-1vQ2Axzq7HMzOUqhjaekUAA399otP3LAsJFk3-OclQya5nk9-bFYesMbXwa6faf98cOrp1ChNL_8H_Lc/embed?start=false&loop=false&delayms=60000\" frameborder=\"0\" width=\"960\" height=\"569\" allowfullscreen=\"true\" mozallowfullscreen=\"true\" webkitallowfullscreen=\"true\"></iframe>\n",
    "\n",
    "<h5>\n",
    "<a href=https://docs.google.com/presentation/d/1BCrbXmNgxQuRpLZEgJUspxtbSs_sFel1I0Bs_gbd9ZM/export/pdf><i class=\"fa-solid fa-file-pdf\"></i> Download .pdf</a>\n",
    "&nbsp;\n",
    "<a href=https://docs.google.com/presentation/d/1BCrbXmNgxQuRpLZEgJUspxtbSs_sFel1I0Bs_gbd9ZM/export/pptx><i class=\"fa-solid fa-file-powerpoint\"></i> Download .pptx</a>\n",
    "</h5>"
   ]
  },
  {
   "cell_type": "markdown",
   "id": "2aef95e1",
   "metadata": {},
   "source": [
    "## Try it Out!\n",
    "\n",
    "### Setup\n",
    "\n",
    "We will be using `ggplot2` for data visualisation in R. This is the most popular package for data visualisation in R, and is extremely flexible."
   ]
  },
  {
   "cell_type": "code",
   "execution_count": 4,
   "id": "d1fd0ca8",
   "metadata": {
    "tags": [
     "remove-input"
    ],
    "vscode": {
     "languageId": "r"
    }
   },
   "outputs": [],
   "source": [
    "options(repr.plot.width=4, repr.plot.height=4)"
   ]
  },
  {
   "cell_type": "code",
   "execution_count": 5,
   "id": "6b9addb7",
   "metadata": {
    "tags": [
     "remove-output"
    ],
    "vscode": {
     "languageId": "r"
    }
   },
   "outputs": [],
   "source": [
    "library(ggplot2)\n",
    "library(dplyr)\n",
    "library(tidyr)\n",
    "library(readr)"
   ]
  },
  {
   "cell_type": "markdown",
   "id": "9b1295d1",
   "metadata": {},
   "source": [
    "You can import the data we will be using like so:"
   ]
  },
  {
   "cell_type": "code",
   "execution_count": 6,
   "id": "eb988ca8",
   "metadata": {
    "tags": [
     "remove-output"
    ],
    "vscode": {
     "languageId": "r"
    }
   },
   "outputs": [
    {
     "name": "stderr",
     "output_type": "stream",
     "text": [
      "\u001b[1mRows: \u001b[22m\u001b[34m201\u001b[39m \u001b[1mColumns: \u001b[22m\u001b[34m4\u001b[39m\n",
      "\u001b[36m--\u001b[39m \u001b[1mColumn specification\u001b[22m \u001b[36m--------------------------------------------------------\u001b[39m\n",
      "\u001b[1mDelimiter:\u001b[22m \",\"\n",
      "\u001b[31mchr\u001b[39m (2): subj_id, time\n",
      "\u001b[32mdbl\u001b[39m (2): read_score, memory_score\n",
      "\n",
      "\u001b[36mi\u001b[39m Use `spec()` to retrieve the full column specification for this data.\n",
      "\u001b[36mi\u001b[39m Specify the column types or set `show_col_types = FALSE` to quiet this message.\n"
     ]
    }
   ],
   "source": [
    "exp_dat <- read_csv(\"https://raw.githubusercontent.com/JackEdTaylor/expra-wise23/master/lecture/static/data_vis_dat.csv\")"
   ]
  },
  {
   "cell_type": "markdown",
   "id": "b528741c",
   "metadata": {},
   "source": [
    "This simulated dataset contains reading scores and memory scores from *N*=67 participants at three times in the day: morning, midday, and evening."
   ]
  },
  {
   "cell_type": "code",
   "execution_count": 7,
   "id": "c8a4e595",
   "metadata": {
    "vscode": {
     "languageId": "r"
    }
   },
   "outputs": [
    {
     "name": "stdout",
     "output_type": "stream",
     "text": [
      "\u001b[90m# A tibble: 201 x 4\u001b[39m\n",
      "   subj_id time    read_score memory_score\n",
      "   \u001b[3m\u001b[90m<chr>\u001b[39m\u001b[23m   \u001b[3m\u001b[90m<chr>\u001b[39m\u001b[23m        \u001b[3m\u001b[90m<dbl>\u001b[39m\u001b[23m        \u001b[3m\u001b[90m<dbl>\u001b[39m\u001b[23m\n",
      "\u001b[90m 1\u001b[39m s01     morning       70.7         84.5\n",
      "\u001b[90m 2\u001b[39m s02     morning       78.8         79.7\n",
      "\u001b[90m 3\u001b[39m s03     morning       68.6         89.4\n",
      "\u001b[90m 4\u001b[39m s04     morning       93.0         97.5\n",
      "\u001b[90m 5\u001b[39m s05     morning       80.3         72.6\n",
      "\u001b[90m 6\u001b[39m s06     morning       68.8         74.0\n",
      "\u001b[90m 7\u001b[39m s07     morning       81.9         72.0\n",
      "\u001b[90m 8\u001b[39m s08     morning       84.4         71.4\n",
      "\u001b[90m 9\u001b[39m s09     morning       82.8         85.2\n",
      "\u001b[90m10\u001b[39m s10     morning       74.0         68.7\n",
      "\u001b[90m# i 191 more rows\u001b[39m\n"
     ]
    }
   ],
   "source": [
    "print(exp_dat)"
   ]
  }
 ],
 "metadata": {
  "kernelspec": {
   "display_name": "R",
   "language": "R",
   "name": "ir"
  },
  "language_info": {
   "codemirror_mode": "r",
   "file_extension": ".r",
   "mimetype": "text/x-r-source",
   "name": "R",
   "pygments_lexer": "r",
   "version": "4.1.3"
  }
 },
 "nbformat": 4,
 "nbformat_minor": 5
}
