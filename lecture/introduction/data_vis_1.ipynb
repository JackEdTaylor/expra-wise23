{
 "cells": [
  {
   "cell_type": "markdown",
   "id": "34e9fb44",
   "metadata": {},
   "source": [
    "# Data Visualisation 1\n",
    "\n",
    "Data visualisation is an incredibly useful skill to develop! It can be an invaluable way to explore your data and present your findings.\n",
    "\n",
    "In the first half of this session, we will discuss what makes a good figure.\n",
    "\n",
    "In the second half, we will see how we apply these principles of data visualisation in practice, using `ggplot2` in R.\n",
    "\n",
    "Finally, in [Data Visualisation Part 2](https://jackedtaylor.github.io/expra-wise23/introduction/data_vis_2), we will look at how to make your figures pretty and publication-ready.\n",
    "\n",
    "## Slides\n",
    "\n",
    "<iframe src=\"https://docs.google.com/presentation/d/e/2PACX-1vQ2Axzq7HMzOUqhjaekUAA399otP3LAsJFk3-OclQya5nk9-bFYesMbXwa6faf98cOrp1ChNL_8H_Lc/embed?start=false&loop=false&delayms=60000\" frameborder=\"0\" width=\"960\" height=\"569\" allowfullscreen=\"true\" mozallowfullscreen=\"true\" webkitallowfullscreen=\"true\"></iframe>\n",
    "\n",
    "<h5>\n",
    "<a href=https://docs.google.com/presentation/d/1BCrbXmNgxQuRpLZEgJUspxtbSs_sFel1I0Bs_gbd9ZM/export/pdf><i class=\"fa-solid fa-file-pdf\"></i> Download .pdf</a>\n",
    "&nbsp;\n",
    "<a href=https://docs.google.com/presentation/d/1BCrbXmNgxQuRpLZEgJUspxtbSs_sFel1I0Bs_gbd9ZM/export/pptx><i class=\"fa-solid fa-file-powerpoint\"></i> Download .pptx</a>\n",
    "</h5>"
   ]
  },
  {
   "cell_type": "markdown",
   "id": "2aef95e1",
   "metadata": {},
   "source": [
    "## Try it Out!\n",
    "\n",
    "### Setup\n",
    "\n",
    "We will be using `ggplot2` for data visualisation in R. This is the most popular package for data visualisation in R, and is extremely flexible."
   ]
  },
  {
   "cell_type": "code",
   "execution_count": 1,
   "id": "d1fd0ca8",
   "metadata": {
    "tags": [
     "remove-input"
    ],
    "vscode": {
     "languageId": "r"
    }
   },
   "outputs": [],
   "source": [
    "options(repr.plot.width=5, repr.plot.height=4)"
   ]
  },
  {
   "cell_type": "code",
   "execution_count": 2,
   "id": "6b9addb7",
   "metadata": {
    "tags": [
     "remove-output"
    ],
    "vscode": {
     "languageId": "r"
    }
   },
   "outputs": [
    {
     "name": "stderr",
     "output_type": "stream",
     "text": [
      "\n",
      "Attaching package: 'dplyr'\n",
      "\n",
      "\n",
      "The following objects are masked from 'package:stats':\n",
      "\n",
      "    filter, lag\n",
      "\n",
      "\n",
      "The following objects are masked from 'package:base':\n",
      "\n",
      "    intersect, setdiff, setequal, union\n",
      "\n",
      "\n"
     ]
    }
   ],
   "source": [
    "library(ggplot2)\n",
    "library(dplyr)\n",
    "library(tidyr)\n",
    "library(readr)"
   ]
  },
  {
   "cell_type": "markdown",
   "id": "9b1295d1",
   "metadata": {},
   "source": [
    "You can import the data we will be using like so:"
   ]
  },
  {
   "cell_type": "code",
   "execution_count": 3,
   "id": "eb988ca8",
   "metadata": {
    "tags": [
     "remove-output"
    ],
    "vscode": {
     "languageId": "r"
    }
   },
   "outputs": [
    {
     "name": "stderr",
     "output_type": "stream",
     "text": [
      "\u001b[1mRows: \u001b[22m\u001b[34m201\u001b[39m \u001b[1mColumns: \u001b[22m\u001b[34m4\u001b[39m\n",
      "\u001b[36m--\u001b[39m \u001b[1mColumn specification\u001b[22m \u001b[36m--------------------------------------------------------\u001b[39m\n",
      "\u001b[1mDelimiter:\u001b[22m \",\"\n",
      "\u001b[31mchr\u001b[39m (2): subj_id, time\n",
      "\u001b[32mdbl\u001b[39m (2): read_score, memory_score\n",
      "\n",
      "\u001b[36mi\u001b[39m Use `spec()` to retrieve the full column specification for this data.\n",
      "\u001b[36mi\u001b[39m Specify the column types or set `show_col_types = FALSE` to quiet this message.\n"
     ]
    }
   ],
   "source": [
    "exp_dat <- read_csv(\"https://raw.githubusercontent.com/JackEdTaylor/expra-wise23/master/lecture/static/data_vis_dat.csv\")"
   ]
  },
  {
   "cell_type": "markdown",
   "id": "b528741c",
   "metadata": {},
   "source": [
    "This simulated dataset contains scores in a reading task and a memory task from *N*=67 participants at three times in the day: morning, midday, and evening."
   ]
  },
  {
   "cell_type": "code",
   "execution_count": 4,
   "id": "c8a4e595",
   "metadata": {
    "vscode": {
     "languageId": "r"
    }
   },
   "outputs": [
    {
     "name": "stdout",
     "output_type": "stream",
     "text": [
      "\u001b[90m# A tibble: 201 x 4\u001b[39m\n",
      "   subj_id time    read_score memory_score\n",
      "   \u001b[3m\u001b[90m<chr>\u001b[39m\u001b[23m   \u001b[3m\u001b[90m<chr>\u001b[39m\u001b[23m        \u001b[3m\u001b[90m<dbl>\u001b[39m\u001b[23m        \u001b[3m\u001b[90m<dbl>\u001b[39m\u001b[23m\n",
      "\u001b[90m 1\u001b[39m s01     morning       76.8         67.2\n",
      "\u001b[90m 2\u001b[39m s01     midday        95.7         98.4\n",
      "\u001b[90m 3\u001b[39m s01     evening       94.3         95.0\n",
      "\u001b[90m 4\u001b[39m s02     morning       79.5         54.2\n",
      "\u001b[90m 5\u001b[39m s02     midday        97.2         88.5\n",
      "\u001b[90m 6\u001b[39m s02     evening       98.1         91.1\n",
      "\u001b[90m 7\u001b[39m s03     morning       76.2         69.1\n",
      "\u001b[90m 8\u001b[39m s03     midday        91.1         98.2\n",
      "\u001b[90m 9\u001b[39m s03     evening       85.2         94.9\n",
      "\u001b[90m10\u001b[39m s04     morning       89.5         92.5\n",
      "\u001b[90m# i 191 more rows\u001b[39m\n"
     ]
    }
   ],
   "source": [
    "print(exp_dat)"
   ]
  },
  {
   "cell_type": "markdown",
   "id": "2cfa53ce",
   "metadata": {},
   "source": [
    "### The `ggplot2` \"Canvas\"\n",
    "\n",
    "When we create a `ggplot2` object, the first function we use is `ggplot()`. The first argument is the dataframe we would like to plot. The second argument contains the `aes()` specifications, which says which variables in the data should be mapped to which aesthetics.\n",
    "\n",
    "Let's see an example, where we say we want to plot reading scores from `exp_dat` on the x axis."
   ]
  },
  {
   "cell_type": "code",
   "execution_count": 5,
   "id": "6c4066c3",
   "metadata": {
    "vscode": {
     "languageId": "r"
    }
   },
   "outputs": [
    {
     "data": {
      "image/png": "[encoded data removed]",
      "text/plain": [
       "plot without title"
      ]
     },
     "metadata": {
      "image/png": {
       "height": 240,
       "width": 300
      }
     },
     "output_type": "display_data"
    }
   ],
   "source": [
    "ggplot(exp_dat, aes(x = read_score))"
   ]
  },
  {
   "cell_type": "markdown",
   "id": "98cca31f",
   "metadata": {},
   "source": [
    "What gives - where is our plot?\n",
    "\n",
    "Well, we've told `ggplot2` what to put on the x axis, but we haven't said what to actually do with it!\n",
    "\n",
    "We've created a \"blank canvas\" - now we need to add plot objects. In `ggplot2` these are referred to as *Geoms*, and we add them with `geom_*` functions."
   ]
  },
  {
   "cell_type": "markdown",
   "id": "db231ef9",
   "metadata": {},
   "source": [
    "### Plotting Distributions\n",
    "\n",
    "We can plot a histogram with the `geom_histogram()` function. We can simply add this to our code from before. `ggplot2` will then automatically know that the y axis should contain counts."
   ]
  },
  {
   "cell_type": "code",
   "execution_count": 6,
   "id": "0705dd7f",
   "metadata": {
    "vscode": {
     "languageId": "r"
    }
   },
   "outputs": [
    {
     "name": "stderr",
     "output_type": "stream",
     "text": [
      "\u001b[1m\u001b[22m`stat_bin()` using `bins = 30`. Pick better value with `binwidth`.\n"
     ]
    },
    {
     "data": {
      "image/png": "[encoded data removed]",
      "text/plain": [
       "plot without title"
      ]
     },
     "metadata": {
      "image/png": {
       "height": 240,
       "width": 300
      }
     },
     "output_type": "display_data"
    }
   ],
   "source": [
    "ggplot(exp_dat, aes(x = read_score)) +\n",
    "  geom_histogram()"
   ]
  },
  {
   "cell_type": "markdown",
   "id": "41b979bb",
   "metadata": {},
   "source": [
    "Notice that we get a warning from `ggplot2` that it is using the default of `bins = 30` for the `geom_histogram()` function, which means there are a total of 30 bins. It is recommended to pick a number of bins, or a bin width, that makes sense for your data. For example, if we want each bin to have a width of 10, we could write:"
   ]
  },
  {
   "cell_type": "code",
   "execution_count": 7,
   "id": "e7bf6ef0",
   "metadata": {
    "vscode": {
     "languageId": "r"
    }
   },
   "outputs": [
    {
     "data": {
      "image/png": "[encoded data removed]",
      "text/plain": [
       "plot without title"
      ]
     },
     "metadata": {
      "image/png": {
       "height": 240,
       "width": 300
      }
     },
     "output_type": "display_data"
    }
   ],
   "source": [
    "ggplot(exp_dat, aes(x = read_score)) +\n",
    "  geom_histogram(binwidth = 10)"
   ]
  },
  {
   "cell_type": "markdown",
   "id": "d0c0e7b3",
   "metadata": {},
   "source": [
    "Similarly, we can plot the empirical probability density with the `geom_density()` function."
   ]
  },
  {
   "cell_type": "code",
   "execution_count": 8,
   "id": "a07c82e9",
   "metadata": {
    "vscode": {
     "languageId": "r"
    }
   },
   "outputs": [
    {
     "data": {
      "image/png": "[encoded data removed]",
      "text/plain": [
       "plot without title"
      ]
     },
     "metadata": {
      "image/png": {
       "height": 240,
       "width": 300
      }
     },
     "output_type": "display_data"
    }
   ],
   "source": [
    "ggplot(exp_dat, aes(x = read_score)) +\n",
    "  geom_density()"
   ]
  },
  {
   "cell_type": "markdown",
   "id": "484c05ac",
   "metadata": {},
   "source": [
    "#### Check your Knowledge!\n",
    "\n",
    "**a)** Plot the density of memory scores.\n",
    "\n",
    "**b)** Plot a histogram of memory scores, with a bin width of 5.\n",
    "\n",
    "**c)** Plot a histogram of memory scores, with 5 bins overall.\n",
    "\n",
    "#### Solutions"
   ]
  },
  {
   "cell_type": "code",
   "execution_count": 9,
   "id": "fe64c568",
   "metadata": {
    "tags": [
     "hide-cell"
    ],
    "vscode": {
     "languageId": "r"
    }
   },
   "outputs": [
    {
     "data": {
      "image/png": "[encoded data removed]",
      "text/plain": [
       "plot without title"
      ]
     },
     "metadata": {
      "image/png": {
       "height": 240,
       "width": 300
      }
     },
     "output_type": "display_data"
    },
    {
     "data": {
      "image/png": "[encoded data removed]",
      "text/plain": [
       "plot without title"
      ]
     },
     "metadata": {
      "image/png": {
       "height": 240,
       "width": 300
      }
     },
     "output_type": "display_data"
    },
    {
     "data": {
      "image/png": "[encoded data removed]",
      "text/plain": [
       "plot without title"
      ]
     },
     "metadata": {
      "image/png": {
       "height": 240,
       "width": 300
      }
     },
     "output_type": "display_data"
    }
   ],
   "source": [
    "# a\n",
    "ggplot(exp_dat, aes(x = memory_score)) +\n",
    "  geom_density()\n",
    "\n",
    "# b\n",
    "ggplot(exp_dat, aes(x = memory_score)) +\n",
    "  geom_histogram(binwidth = 5)\n",
    "\n",
    "# c\n",
    "ggplot(exp_dat, aes(x = memory_score)) +\n",
    "  geom_histogram(bins = 5)"
   ]
  },
  {
   "cell_type": "markdown",
   "id": "aaaaef3b",
   "metadata": {},
   "source": [
    "### Comparing Distributions by Group\n",
    "\n",
    "Let's say we also want to plot the distribution of reading scores for each experimental session separately. We can do this by saying we want the `time` variable (`\"morning\"`, `\"midday\"`, `\"evening\"`) to be mapped to the `colour` aesthetic."
   ]
  },
  {
   "cell_type": "code",
   "execution_count": 10,
   "id": "8fd25ea9",
   "metadata": {
    "vscode": {
     "languageId": "r"
    }
   },
   "outputs": [
    {
     "data": {
      "image/png": "[encoded data removed]",
      "text/plain": [
       "plot without title"
      ]
     },
     "metadata": {
      "image/png": {
       "height": 240,
       "width": 300
      }
     },
     "output_type": "display_data"
    }
   ],
   "source": [
    "ggplot(exp_dat, aes(x = read_score, colour = time)) +\n",
    "  geom_density()"
   ]
  },
  {
   "cell_type": "markdown",
   "id": "52fffb18",
   "metadata": {},
   "source": [
    "This shows us that reading scores were poorest in the morning, and best at midday. Other useful ways to compare distributions include the violin plot. A violin plot is a density plot mirrored across zero.\n",
    "\n",
    "This time, we want the time of day to be on the `x` axis, and the reading scores to be on the `y` axis."
   ]
  },
  {
   "cell_type": "code",
   "execution_count": 11,
   "id": "2ea1702e",
   "metadata": {
    "vscode": {
     "languageId": "r"
    }
   },
   "outputs": [
    {
     "data": {
      "image/png": "[encoded data removed]",
      "text/plain": [
       "plot without title"
      ]
     },
     "metadata": {
      "image/png": {
       "height": 240,
       "width": 300
      }
     },
     "output_type": "display_data"
    }
   ],
   "source": [
    "ggplot(exp_dat, aes(x=time, y=read_score)) +\n",
    "  geom_violin()"
   ]
  },
  {
   "cell_type": "markdown",
   "id": "51908bab",
   "metadata": {},
   "source": [
    "One of the nice things about `ggplot2` is that the `geom_*` functions are additive. We can just add geom objects on top of one another. For example, you may want to place a [boxplot](https://en.wikipedia.org/wiki/Box_plot) on top of a violin plot. You can see the `ggplot2` documentation for details on [how to interpret the boxplot](https://ggplot2.tidyverse.org/reference/geom_boxplot.html#summary-statistics)."
   ]
  },
  {
   "cell_type": "code",
   "execution_count": 12,
   "id": "c6c3e46a",
   "metadata": {
    "vscode": {
     "languageId": "r"
    }
   },
   "outputs": [
    {
     "data": {
      "image/png": "[encoded data removed]",
      "text/plain": [
       "plot without title"
      ]
     },
     "metadata": {
      "image/png": {
       "height": 240,
       "width": 300
      }
     },
     "output_type": "display_data"
    }
   ],
   "source": [
    "ggplot(exp_dat, aes(x=time, y=read_score)) +\n",
    "  geom_violin() +\n",
    "  geom_boxplot()"
   ]
  },
  {
   "cell_type": "markdown",
   "id": "61f64459",
   "metadata": {},
   "source": [
    "Finally, we can also just create a categorical scatter plot, plotting individual points in the data with `geom_point()`."
   ]
  },
  {
   "cell_type": "code",
   "execution_count": 13,
   "id": "87391dcb",
   "metadata": {
    "vscode": {
     "languageId": "r"
    }
   },
   "outputs": [
    {
     "data": {
      "image/png": "[encoded data removed]",
      "text/plain": [
       "plot without title"
      ]
     },
     "metadata": {
      "image/png": {
       "height": 240,
       "width": 300
      }
     },
     "output_type": "display_data"
    }
   ],
   "source": [
    "ggplot(exp_dat, aes(x=time, y=read_score)) +\n",
    "  geom_point()"
   ]
  },
  {
   "cell_type": "markdown",
   "id": "12140a82",
   "metadata": {},
   "source": [
    "This is sometimes easier to read if we add \"jitter\" (random noise) to the x axis, rather than plotting all points in a line. We can do this with the `position_jiter()` function. The `width` argument tells `ggplot2` how wide we want the jittered points to be."
   ]
  },
  {
   "cell_type": "code",
   "execution_count": 14,
   "id": "834152a0",
   "metadata": {
    "vscode": {
     "languageId": "r"
    }
   },
   "outputs": [
    {
     "data": {
      "image/png": "[encoded data removed]",
      "text/plain": [
       "plot without title"
      ]
     },
     "metadata": {
      "image/png": {
       "height": 240,
       "width": 300
      }
     },
     "output_type": "display_data"
    }
   ],
   "source": [
    "ggplot(exp_dat, aes(x=time, y=read_score)) +\n",
    "  geom_point(position = position_jitter(width = 0.2))"
   ]
  },
  {
   "cell_type": "markdown",
   "id": "d4dc8abe",
   "metadata": {},
   "source": [
    "#### Check your Knowledge!\n",
    "\n",
    "**a)** Overlay density plots of memory scores for each experimental session. Notice any similarities/differences to the pattern with reading scores?\n",
    "\n",
    "**b)** Create a categorical scatter plot of memory scores for each session, with a small amount of random jitter, and overly on top of a violin plot.\n",
    "\n",
    "#### Solutions"
   ]
  },
  {
   "cell_type": "code",
   "execution_count": 15,
   "id": "302ca476",
   "metadata": {
    "tags": [
     "hide-cell"
    ],
    "vscode": {
     "languageId": "r"
    }
   },
   "outputs": [
    {
     "data": {
      "image/png": "[encoded data removed]",
      "text/plain": [
       "plot without title"
      ]
     },
     "metadata": {
      "image/png": {
       "height": 240,
       "width": 300
      }
     },
     "output_type": "display_data"
    },
    {
     "data": {
      "image/png": "[encoded data removed]",
      "text/plain": [
       "plot without title"
      ]
     },
     "metadata": {
      "image/png": {
       "height": 240,
       "width": 300
      }
     },
     "output_type": "display_data"
    }
   ],
   "source": [
    "# a\n",
    "ggplot(exp_dat, aes(x = memory_score, colour = time)) +\n",
    "  geom_density()\n",
    "\n",
    "# b\n",
    "ggplot(exp_dat, aes(x=time, y=memory_score)) +\n",
    "  geom_violin() +\n",
    "  geom_point(position = position_jitter(width=0.1))"
   ]
  },
  {
   "cell_type": "markdown",
   "id": "55f70b00",
   "metadata": {},
   "source": [
    "### Scatter Plots\n",
    "\n",
    "Let's look at the relationship between reading scores and memory scores with `geom_point()`."
   ]
  },
  {
   "cell_type": "code",
   "execution_count": 16,
   "id": "d5c1e4d1",
   "metadata": {
    "vscode": {
     "languageId": "r"
    }
   },
   "outputs": [
    {
     "data": {
      "image/png": "[encoded data removed]",
      "text/plain": [
       "plot without title"
      ]
     },
     "metadata": {
      "image/png": {
       "height": 240,
       "width": 300
      }
     },
     "output_type": "display_data"
    }
   ],
   "source": [
    "ggplot(exp_dat, aes(x=read_score, y=memory_score)) +\n",
    "  geom_point()"
   ]
  },
  {
   "cell_type": "markdown",
   "id": "d920b00f",
   "metadata": {},
   "source": [
    "This looks like a positive correlation! It seems to say that participants' reading scores and memory scores are correlated. We can plot this relationship with the `geom_smooth()` function."
   ]
  },
  {
   "cell_type": "code",
   "execution_count": 17,
   "id": "9072fede",
   "metadata": {
    "vscode": {
     "languageId": "r"
    }
   },
   "outputs": [
    {
     "name": "stderr",
     "output_type": "stream",
     "text": [
      "\u001b[1m\u001b[22m`geom_smooth()` using method = 'loess' and formula = 'y ~ x'\n"
     ]
    },
    {
     "data": {
      "image/png": "[encoded data removed]",
      "text/plain": [
       "plot without title"
      ]
     },
     "metadata": {
      "image/png": {
       "height": 240,
       "width": 300
      }
     },
     "output_type": "display_data"
    }
   ],
   "source": [
    "ggplot(exp_dat, aes(x=read_score, y=memory_score)) +\n",
    "  geom_smooth()"
   ]
  },
  {
   "cell_type": "markdown",
   "id": "f637c351",
   "metadata": {},
   "source": [
    "This plots a [LOESS model](https://www.rdocumentation.org/packages/stats/versions/3.6.2/topics/loess) to predict memory score as a function of reading score - this is a non-linear estimate of the local relationship. The middle blue line shows the estimated relationship, and the 95% confidence interval.\n",
    "\n",
    "If we want to fit a simple linear model instead, we can just pass `method = \"lm\"` to the function."
   ]
  },
  {
   "cell_type": "code",
   "execution_count": 18,
   "id": "d843081d",
   "metadata": {
    "vscode": {
     "languageId": "r"
    }
   },
   "outputs": [
    {
     "name": "stderr",
     "output_type": "stream",
     "text": [
      "\u001b[1m\u001b[22m`geom_smooth()` using formula = 'y ~ x'\n"
     ]
    },
    {
     "data": {
      "image/png": "[encoded data removed]",
      "text/plain": [
       "plot without title"
      ]
     },
     "metadata": {
      "image/png": {
       "height": 240,
       "width": 300
      }
     },
     "output_type": "display_data"
    }
   ],
   "source": [
    "ggplot(exp_dat, aes(x=read_score, y=memory_score)) +\n",
    "  geom_smooth(method = \"lm\")"
   ]
  },
  {
   "cell_type": "markdown",
   "id": "f14e65f3",
   "metadata": {},
   "source": [
    "#### Check your Knowledge!\n",
    "\n",
    "**a)** Overlay the linear model estimates from `geom_smooth()` on top of a scatter plot of all points.\n",
    "\n",
    "**b)** Does this correlation differ by experimental session time? Find a way to plot the scatter plot with linear models fit to each experimental session time separately. What conclusion do you draw from this plot?\n",
    "\n",
    "**c)** Would you reach the same conclusion with a `loess` model?\n",
    "\n",
    "#### Solutions"
   ]
  },
  {
   "cell_type": "code",
   "execution_count": 19,
   "id": "259badf7",
   "metadata": {
    "tags": [
     "hide-cell"
    ],
    "vscode": {
     "languageId": "r"
    }
   },
   "outputs": [
    {
     "name": "stderr",
     "output_type": "stream",
     "text": [
      "\u001b[1m\u001b[22m`geom_smooth()` using method = 'loess' and formula = 'y ~ x'\n",
      "\u001b[1m\u001b[22m`geom_smooth()` using formula = 'y ~ x'\n"
     ]
    },
    {
     "data": {
      "image/png": "[encoded data removed]",
      "text/plain": [
       "plot without title"
      ]
     },
     "metadata": {
      "image/png": {
       "height": 240,
       "width": 300
      }
     },
     "output_type": "display_data"
    },
    {
     "name": "stderr",
     "output_type": "stream",
     "text": [
      "\u001b[1m\u001b[22m`geom_smooth()` using formula = 'y ~ x'\n"
     ]
    },
    {
     "data": {
      "image/png": "[encoded data removed]",
      "text/plain": [
       "plot without title"
      ]
     },
     "metadata": {
      "image/png": {
       "height": 240,
       "width": 300
      }
     },
     "output_type": "display_data"
    },
    {
     "data": {
      "image/png": "[encoded data removed]",
      "text/plain": [
       "plot without title"
      ]
     },
     "metadata": {
      "image/png": {
       "height": 240,
       "width": 300
      }
     },
     "output_type": "display_data"
    }
   ],
   "source": [
    "# a\n",
    "ggplot(exp_dat, aes(x=read_score, y=memory_score)) +\n",
    "  geom_point() +\n",
    "  geom_smooth()\n",
    "\n",
    "# b\n",
    "ggplot(exp_dat, aes(x=read_score, y=memory_score, colour=time)) +\n",
    "  geom_point() +\n",
    "  geom_smooth(method=\"lm\")\n",
    "\n",
    "# c\n",
    "ggplot(exp_dat, aes(x=read_score, y=memory_score, colour=time)) +\n",
    "  geom_point() +\n",
    "  geom_smooth(method=\"loess\")"
   ]
  },
  {
   "cell_type": "markdown",
   "id": "36059b71",
   "metadata": {},
   "source": [
    "### Combining Data Visualisation with Data Wrangling\n",
    "\n",
    "Let's have another look at the data. Notice that each participant occurs multiple times - we have one row for each combination of `subj_id` and `time`."
   ]
  },
  {
   "cell_type": "code",
   "execution_count": 20,
   "id": "238fd81a",
   "metadata": {
    "vscode": {
     "languageId": "r"
    }
   },
   "outputs": [
    {
     "name": "stdout",
     "output_type": "stream",
     "text": [
      "\u001b[90m# A tibble: 201 x 4\u001b[39m\n",
      "   subj_id time    read_score memory_score\n",
      "   \u001b[3m\u001b[90m<chr>\u001b[39m\u001b[23m   \u001b[3m\u001b[90m<chr>\u001b[39m\u001b[23m        \u001b[3m\u001b[90m<dbl>\u001b[39m\u001b[23m        \u001b[3m\u001b[90m<dbl>\u001b[39m\u001b[23m\n",
      "\u001b[90m 1\u001b[39m s01     morning       76.8         67.2\n",
      "\u001b[90m 2\u001b[39m s01     midday        95.7         98.4\n",
      "\u001b[90m 3\u001b[39m s01     evening       94.3         95.0\n",
      "\u001b[90m 4\u001b[39m s02     morning       79.5         54.2\n",
      "\u001b[90m 5\u001b[39m s02     midday        97.2         88.5\n",
      "\u001b[90m 6\u001b[39m s02     evening       98.1         91.1\n",
      "\u001b[90m 7\u001b[39m s03     morning       76.2         69.1\n",
      "\u001b[90m 8\u001b[39m s03     midday        91.1         98.2\n",
      "\u001b[90m 9\u001b[39m s03     evening       85.2         94.9\n",
      "\u001b[90m10\u001b[39m s04     morning       89.5         92.5\n",
      "\u001b[90m# i 191 more rows\u001b[39m\n"
     ]
    }
   ],
   "source": [
    "print(exp_dat)"
   ]
  },
  {
   "cell_type": "markdown",
   "id": "db9a3724",
   "metadata": {},
   "source": [
    "Let's imagine we want to plot the correlation between each participants reading scores at different times of day. How would we do this?\n",
    "\n",
    "The problem is that the reading scores from all times of day are in the same column - we are in *Long Format*. We can simply [pivot our data](https://jackedtaylor.github.io/expra-wise23/introduction/data_wrangling_2.html#wide-and-long-data-formatting) into *Wide Format*."
   ]
  },
  {
   "cell_type": "code",
   "execution_count": 21,
   "id": "5ba2b6e6",
   "metadata": {
    "tags": [
     "remove-output"
    ],
    "vscode": {
     "languageId": "r"
    }
   },
   "outputs": [
    {
     "data": {
      "text/html": [
       "<table class=\"dataframe\">\n",
       "<caption>A tibble: 67 × 4</caption>\n",
       "<thead>\n",
       "\t<tr><th scope=col>subj_id</th><th scope=col>morning</th><th scope=col>midday</th><th scope=col>evening</th></tr>\n",
       "\t<tr><th scope=col>&lt;chr&gt;</th><th scope=col>&lt;dbl&gt;</th><th scope=col>&lt;dbl&gt;</th><th scope=col>&lt;dbl&gt;</th></tr>\n",
       "</thead>\n",
       "<tbody>\n",
       "\t<tr><td>s01</td><td>76.82</td><td> 95.68</td><td> 94.29</td></tr>\n",
       "\t<tr><td>s02</td><td>79.46</td><td> 97.18</td><td> 98.14</td></tr>\n",
       "\t<tr><td>s03</td><td>76.17</td><td> 91.06</td><td> 85.20</td></tr>\n",
       "\t<tr><td>s04</td><td>89.52</td><td>110.21</td><td>100.13</td></tr>\n",
       "\t<tr><td>s05</td><td>76.70</td><td>100.53</td><td>102.96</td></tr>\n",
       "\t<tr><td>s06</td><td>73.14</td><td> 92.67</td><td> 98.39</td></tr>\n",
       "\t<tr><td>s07</td><td>76.84</td><td> 99.74</td><td> 97.02</td></tr>\n",
       "\t<tr><td>s08</td><td>79.58</td><td>107.54</td><td> 99.82</td></tr>\n",
       "\t<tr><td>s09</td><td>81.62</td><td> 99.94</td><td> 99.87</td></tr>\n",
       "\t<tr><td>s10</td><td>68.50</td><td>101.64</td><td> 93.19</td></tr>\n",
       "\t<tr><td>s11</td><td>87.19</td><td>109.25</td><td>106.25</td></tr>\n",
       "\t<tr><td>s12</td><td>87.33</td><td> 99.66</td><td> 95.50</td></tr>\n",
       "\t<tr><td>s13</td><td>70.49</td><td> 99.91</td><td> 84.72</td></tr>\n",
       "\t<tr><td>s14</td><td>60.40</td><td> 91.77</td><td> 79.33</td></tr>\n",
       "\t<tr><td>s15</td><td>86.91</td><td>106.04</td><td>105.96</td></tr>\n",
       "\t<tr><td>s16</td><td>80.97</td><td> 93.23</td><td> 97.83</td></tr>\n",
       "\t<tr><td>s17</td><td>73.67</td><td> 97.93</td><td> 93.51</td></tr>\n",
       "\t<tr><td>s18</td><td>85.88</td><td>116.84</td><td>102.53</td></tr>\n",
       "\t<tr><td>s19</td><td>83.85</td><td>106.19</td><td> 99.05</td></tr>\n",
       "\t<tr><td>s20</td><td>86.58</td><td>101.65</td><td> 93.18</td></tr>\n",
       "\t<tr><td>s21</td><td>83.61</td><td>102.83</td><td>101.91</td></tr>\n",
       "\t<tr><td>s22</td><td>81.78</td><td>101.17</td><td> 96.93</td></tr>\n",
       "\t<tr><td>s23</td><td>77.59</td><td>104.54</td><td> 96.60</td></tr>\n",
       "\t<tr><td>s24</td><td>59.07</td><td> 88.43</td><td> 63.94</td></tr>\n",
       "\t<tr><td>s25</td><td>83.74</td><td> 98.97</td><td>103.27</td></tr>\n",
       "\t<tr><td>s26</td><td>67.62</td><td>102.12</td><td> 97.22</td></tr>\n",
       "\t<tr><td>s27</td><td>80.36</td><td> 99.25</td><td> 86.04</td></tr>\n",
       "\t<tr><td>s28</td><td>69.59</td><td> 87.71</td><td> 83.65</td></tr>\n",
       "\t<tr><td>s29</td><td>73.92</td><td> 95.40</td><td> 90.16</td></tr>\n",
       "\t<tr><td>s30</td><td>76.83</td><td>105.91</td><td> 95.49</td></tr>\n",
       "\t<tr><td>...</td><td>...</td><td>...</td><td>...</td></tr>\n",
       "\t<tr><td>s38</td><td>74.39</td><td>100.33</td><td> 90.45</td></tr>\n",
       "\t<tr><td>s39</td><td>89.60</td><td>108.94</td><td>101.57</td></tr>\n",
       "\t<tr><td>s40</td><td>83.87</td><td>111.11</td><td>103.77</td></tr>\n",
       "\t<tr><td>s41</td><td>78.04</td><td> 97.88</td><td> 93.89</td></tr>\n",
       "\t<tr><td>s42</td><td>76.30</td><td>101.90</td><td> 87.32</td></tr>\n",
       "\t<tr><td>s43</td><td>86.18</td><td>107.79</td><td> 94.01</td></tr>\n",
       "\t<tr><td>s44</td><td>79.35</td><td>106.72</td><td>100.48</td></tr>\n",
       "\t<tr><td>s45</td><td>74.67</td><td> 95.98</td><td> 83.88</td></tr>\n",
       "\t<tr><td>s46</td><td>75.75</td><td> 96.91</td><td> 87.05</td></tr>\n",
       "\t<tr><td>s47</td><td>79.16</td><td>100.03</td><td> 96.45</td></tr>\n",
       "\t<tr><td>s48</td><td>76.36</td><td>106.89</td><td> 99.12</td></tr>\n",
       "\t<tr><td>s49</td><td>75.30</td><td>105.56</td><td> 96.32</td></tr>\n",
       "\t<tr><td>s50</td><td>87.35</td><td>102.42</td><td>100.20</td></tr>\n",
       "\t<tr><td>s51</td><td>79.25</td><td>103.05</td><td>100.04</td></tr>\n",
       "\t<tr><td>s52</td><td>72.64</td><td> 92.42</td><td> 88.31</td></tr>\n",
       "\t<tr><td>s53</td><td>79.35</td><td>103.81</td><td> 96.19</td></tr>\n",
       "\t<tr><td>s54</td><td>63.05</td><td> 89.66</td><td> 86.25</td></tr>\n",
       "\t<tr><td>s55</td><td>90.34</td><td>112.03</td><td>108.01</td></tr>\n",
       "\t<tr><td>s56</td><td>92.73</td><td>105.57</td><td>102.78</td></tr>\n",
       "\t<tr><td>s57</td><td>76.59</td><td> 96.03</td><td> 90.19</td></tr>\n",
       "\t<tr><td>s58</td><td>69.68</td><td> 93.98</td><td> 86.95</td></tr>\n",
       "\t<tr><td>s59</td><td>83.42</td><td>100.85</td><td> 99.26</td></tr>\n",
       "\t<tr><td>s60</td><td>75.70</td><td>104.93</td><td> 98.32</td></tr>\n",
       "\t<tr><td>s61</td><td>92.53</td><td>117.37</td><td>111.29</td></tr>\n",
       "\t<tr><td>s62</td><td>77.31</td><td> 98.07</td><td> 92.15</td></tr>\n",
       "\t<tr><td>s63</td><td>81.40</td><td>108.78</td><td>104.41</td></tr>\n",
       "\t<tr><td>s64</td><td>76.31</td><td> 97.82</td><td> 98.56</td></tr>\n",
       "\t<tr><td>s65</td><td>71.54</td><td> 94.95</td><td> 88.59</td></tr>\n",
       "\t<tr><td>s66</td><td>80.53</td><td>104.63</td><td> 96.32</td></tr>\n",
       "\t<tr><td>s67</td><td>61.94</td><td> 89.07</td><td> 76.38</td></tr>\n",
       "</tbody>\n",
       "</table>\n"
      ],
      "text/latex": [
       "A tibble: 67 × 4\n",
       "\\begin{tabular}{llll}\n",
       " subj\\_id & morning & midday & evening\\\\\n",
       " <chr> & <dbl> & <dbl> & <dbl>\\\\\n",
       "\\hline\n",
       "\t s01 & 76.82 &  95.68 &  94.29\\\\\n",
       "\t s02 & 79.46 &  97.18 &  98.14\\\\\n",
       "\t s03 & 76.17 &  91.06 &  85.20\\\\\n",
       "\t s04 & 89.52 & 110.21 & 100.13\\\\\n",
       "\t s05 & 76.70 & 100.53 & 102.96\\\\\n",
       "\t s06 & 73.14 &  92.67 &  98.39\\\\\n",
       "\t s07 & 76.84 &  99.74 &  97.02\\\\\n",
       "\t s08 & 79.58 & 107.54 &  99.82\\\\\n",
       "\t s09 & 81.62 &  99.94 &  99.87\\\\\n",
       "\t s10 & 68.50 & 101.64 &  93.19\\\\\n",
       "\t s11 & 87.19 & 109.25 & 106.25\\\\\n",
       "\t s12 & 87.33 &  99.66 &  95.50\\\\\n",
       "\t s13 & 70.49 &  99.91 &  84.72\\\\\n",
       "\t s14 & 60.40 &  91.77 &  79.33\\\\\n",
       "\t s15 & 86.91 & 106.04 & 105.96\\\\\n",
       "\t s16 & 80.97 &  93.23 &  97.83\\\\\n",
       "\t s17 & 73.67 &  97.93 &  93.51\\\\\n",
       "\t s18 & 85.88 & 116.84 & 102.53\\\\\n",
       "\t s19 & 83.85 & 106.19 &  99.05\\\\\n",
       "\t s20 & 86.58 & 101.65 &  93.18\\\\\n",
       "\t s21 & 83.61 & 102.83 & 101.91\\\\\n",
       "\t s22 & 81.78 & 101.17 &  96.93\\\\\n",
       "\t s23 & 77.59 & 104.54 &  96.60\\\\\n",
       "\t s24 & 59.07 &  88.43 &  63.94\\\\\n",
       "\t s25 & 83.74 &  98.97 & 103.27\\\\\n",
       "\t s26 & 67.62 & 102.12 &  97.22\\\\\n",
       "\t s27 & 80.36 &  99.25 &  86.04\\\\\n",
       "\t s28 & 69.59 &  87.71 &  83.65\\\\\n",
       "\t s29 & 73.92 &  95.40 &  90.16\\\\\n",
       "\t s30 & 76.83 & 105.91 &  95.49\\\\\n",
       "\t ... & ... & ... & ...\\\\\n",
       "\t s38 & 74.39 & 100.33 &  90.45\\\\\n",
       "\t s39 & 89.60 & 108.94 & 101.57\\\\\n",
       "\t s40 & 83.87 & 111.11 & 103.77\\\\\n",
       "\t s41 & 78.04 &  97.88 &  93.89\\\\\n",
       "\t s42 & 76.30 & 101.90 &  87.32\\\\\n",
       "\t s43 & 86.18 & 107.79 &  94.01\\\\\n",
       "\t s44 & 79.35 & 106.72 & 100.48\\\\\n",
       "\t s45 & 74.67 &  95.98 &  83.88\\\\\n",
       "\t s46 & 75.75 &  96.91 &  87.05\\\\\n",
       "\t s47 & 79.16 & 100.03 &  96.45\\\\\n",
       "\t s48 & 76.36 & 106.89 &  99.12\\\\\n",
       "\t s49 & 75.30 & 105.56 &  96.32\\\\\n",
       "\t s50 & 87.35 & 102.42 & 100.20\\\\\n",
       "\t s51 & 79.25 & 103.05 & 100.04\\\\\n",
       "\t s52 & 72.64 &  92.42 &  88.31\\\\\n",
       "\t s53 & 79.35 & 103.81 &  96.19\\\\\n",
       "\t s54 & 63.05 &  89.66 &  86.25\\\\\n",
       "\t s55 & 90.34 & 112.03 & 108.01\\\\\n",
       "\t s56 & 92.73 & 105.57 & 102.78\\\\\n",
       "\t s57 & 76.59 &  96.03 &  90.19\\\\\n",
       "\t s58 & 69.68 &  93.98 &  86.95\\\\\n",
       "\t s59 & 83.42 & 100.85 &  99.26\\\\\n",
       "\t s60 & 75.70 & 104.93 &  98.32\\\\\n",
       "\t s61 & 92.53 & 117.37 & 111.29\\\\\n",
       "\t s62 & 77.31 &  98.07 &  92.15\\\\\n",
       "\t s63 & 81.40 & 108.78 & 104.41\\\\\n",
       "\t s64 & 76.31 &  97.82 &  98.56\\\\\n",
       "\t s65 & 71.54 &  94.95 &  88.59\\\\\n",
       "\t s66 & 80.53 & 104.63 &  96.32\\\\\n",
       "\t s67 & 61.94 &  89.07 &  76.38\\\\\n",
       "\\end{tabular}\n"
      ],
      "text/markdown": [
       "\n",
       "A tibble: 67 × 4\n",
       "\n",
       "| subj_id &lt;chr&gt; | morning &lt;dbl&gt; | midday &lt;dbl&gt; | evening &lt;dbl&gt; |\n",
       "|---|---|---|---|\n",
       "| s01 | 76.82 |  95.68 |  94.29 |\n",
       "| s02 | 79.46 |  97.18 |  98.14 |\n",
       "| s03 | 76.17 |  91.06 |  85.20 |\n",
       "| s04 | 89.52 | 110.21 | 100.13 |\n",
       "| s05 | 76.70 | 100.53 | 102.96 |\n",
       "| s06 | 73.14 |  92.67 |  98.39 |\n",
       "| s07 | 76.84 |  99.74 |  97.02 |\n",
       "| s08 | 79.58 | 107.54 |  99.82 |\n",
       "| s09 | 81.62 |  99.94 |  99.87 |\n",
       "| s10 | 68.50 | 101.64 |  93.19 |\n",
       "| s11 | 87.19 | 109.25 | 106.25 |\n",
       "| s12 | 87.33 |  99.66 |  95.50 |\n",
       "| s13 | 70.49 |  99.91 |  84.72 |\n",
       "| s14 | 60.40 |  91.77 |  79.33 |\n",
       "| s15 | 86.91 | 106.04 | 105.96 |\n",
       "| s16 | 80.97 |  93.23 |  97.83 |\n",
       "| s17 | 73.67 |  97.93 |  93.51 |\n",
       "| s18 | 85.88 | 116.84 | 102.53 |\n",
       "| s19 | 83.85 | 106.19 |  99.05 |\n",
       "| s20 | 86.58 | 101.65 |  93.18 |\n",
       "| s21 | 83.61 | 102.83 | 101.91 |\n",
       "| s22 | 81.78 | 101.17 |  96.93 |\n",
       "| s23 | 77.59 | 104.54 |  96.60 |\n",
       "| s24 | 59.07 |  88.43 |  63.94 |\n",
       "| s25 | 83.74 |  98.97 | 103.27 |\n",
       "| s26 | 67.62 | 102.12 |  97.22 |\n",
       "| s27 | 80.36 |  99.25 |  86.04 |\n",
       "| s28 | 69.59 |  87.71 |  83.65 |\n",
       "| s29 | 73.92 |  95.40 |  90.16 |\n",
       "| s30 | 76.83 | 105.91 |  95.49 |\n",
       "| ... | ... | ... | ... |\n",
       "| s38 | 74.39 | 100.33 |  90.45 |\n",
       "| s39 | 89.60 | 108.94 | 101.57 |\n",
       "| s40 | 83.87 | 111.11 | 103.77 |\n",
       "| s41 | 78.04 |  97.88 |  93.89 |\n",
       "| s42 | 76.30 | 101.90 |  87.32 |\n",
       "| s43 | 86.18 | 107.79 |  94.01 |\n",
       "| s44 | 79.35 | 106.72 | 100.48 |\n",
       "| s45 | 74.67 |  95.98 |  83.88 |\n",
       "| s46 | 75.75 |  96.91 |  87.05 |\n",
       "| s47 | 79.16 | 100.03 |  96.45 |\n",
       "| s48 | 76.36 | 106.89 |  99.12 |\n",
       "| s49 | 75.30 | 105.56 |  96.32 |\n",
       "| s50 | 87.35 | 102.42 | 100.20 |\n",
       "| s51 | 79.25 | 103.05 | 100.04 |\n",
       "| s52 | 72.64 |  92.42 |  88.31 |\n",
       "| s53 | 79.35 | 103.81 |  96.19 |\n",
       "| s54 | 63.05 |  89.66 |  86.25 |\n",
       "| s55 | 90.34 | 112.03 | 108.01 |\n",
       "| s56 | 92.73 | 105.57 | 102.78 |\n",
       "| s57 | 76.59 |  96.03 |  90.19 |\n",
       "| s58 | 69.68 |  93.98 |  86.95 |\n",
       "| s59 | 83.42 | 100.85 |  99.26 |\n",
       "| s60 | 75.70 | 104.93 |  98.32 |\n",
       "| s61 | 92.53 | 117.37 | 111.29 |\n",
       "| s62 | 77.31 |  98.07 |  92.15 |\n",
       "| s63 | 81.40 | 108.78 | 104.41 |\n",
       "| s64 | 76.31 |  97.82 |  98.56 |\n",
       "| s65 | 71.54 |  94.95 |  88.59 |\n",
       "| s66 | 80.53 | 104.63 |  96.32 |\n",
       "| s67 | 61.94 |  89.07 |  76.38 |\n",
       "\n"
      ],
      "text/plain": [
       "    subj_id morning midday evening\n",
       "1   s01     76.82    95.68  94.29 \n",
       "2   s02     79.46    97.18  98.14 \n",
       "3   s03     76.17    91.06  85.20 \n",
       "4   s04     89.52   110.21 100.13 \n",
       "5   s05     76.70   100.53 102.96 \n",
       "6   s06     73.14    92.67  98.39 \n",
       "7   s07     76.84    99.74  97.02 \n",
       "8   s08     79.58   107.54  99.82 \n",
       "9   s09     81.62    99.94  99.87 \n",
       "10  s10     68.50   101.64  93.19 \n",
       "11  s11     87.19   109.25 106.25 \n",
       "12  s12     87.33    99.66  95.50 \n",
       "13  s13     70.49    99.91  84.72 \n",
       "14  s14     60.40    91.77  79.33 \n",
       "15  s15     86.91   106.04 105.96 \n",
       "16  s16     80.97    93.23  97.83 \n",
       "17  s17     73.67    97.93  93.51 \n",
       "18  s18     85.88   116.84 102.53 \n",
       "19  s19     83.85   106.19  99.05 \n",
       "20  s20     86.58   101.65  93.18 \n",
       "21  s21     83.61   102.83 101.91 \n",
       "22  s22     81.78   101.17  96.93 \n",
       "23  s23     77.59   104.54  96.60 \n",
       "24  s24     59.07    88.43  63.94 \n",
       "25  s25     83.74    98.97 103.27 \n",
       "26  s26     67.62   102.12  97.22 \n",
       "27  s27     80.36    99.25  86.04 \n",
       "28  s28     69.59    87.71  83.65 \n",
       "29  s29     73.92    95.40  90.16 \n",
       "30  s30     76.83   105.91  95.49 \n",
       "... ...     ...     ...    ...    \n",
       "38  s38     74.39   100.33  90.45 \n",
       "39  s39     89.60   108.94 101.57 \n",
       "40  s40     83.87   111.11 103.77 \n",
       "41  s41     78.04    97.88  93.89 \n",
       "42  s42     76.30   101.90  87.32 \n",
       "43  s43     86.18   107.79  94.01 \n",
       "44  s44     79.35   106.72 100.48 \n",
       "45  s45     74.67    95.98  83.88 \n",
       "46  s46     75.75    96.91  87.05 \n",
       "47  s47     79.16   100.03  96.45 \n",
       "48  s48     76.36   106.89  99.12 \n",
       "49  s49     75.30   105.56  96.32 \n",
       "50  s50     87.35   102.42 100.20 \n",
       "51  s51     79.25   103.05 100.04 \n",
       "52  s52     72.64    92.42  88.31 \n",
       "53  s53     79.35   103.81  96.19 \n",
       "54  s54     63.05    89.66  86.25 \n",
       "55  s55     90.34   112.03 108.01 \n",
       "56  s56     92.73   105.57 102.78 \n",
       "57  s57     76.59    96.03  90.19 \n",
       "58  s58     69.68    93.98  86.95 \n",
       "59  s59     83.42   100.85  99.26 \n",
       "60  s60     75.70   104.93  98.32 \n",
       "61  s61     92.53   117.37 111.29 \n",
       "62  s62     77.31    98.07  92.15 \n",
       "63  s63     81.40   108.78 104.41 \n",
       "64  s64     76.31    97.82  98.56 \n",
       "65  s65     71.54    94.95  88.59 \n",
       "66  s66     80.53   104.63  96.32 \n",
       "67  s67     61.94    89.07  76.38 "
      ]
     },
     "metadata": {},
     "output_type": "display_data"
    }
   ],
   "source": [
    "pivot_wider(exp_dat, id_cols=subj_id, names_from=time, values_from=read_score)"
   ]
  },
  {
   "cell_type": "code",
   "execution_count": 22,
   "id": "700123c9",
   "metadata": {
    "tags": [
     "remove-input"
    ],
    "vscode": {
     "languageId": "r"
    }
   },
   "outputs": [
    {
     "name": "stdout",
     "output_type": "stream",
     "text": [
      "\u001b[90m# A tibble: 67 x 4\u001b[39m\n",
      "   subj_id morning midday evening\n",
      "   \u001b[3m\u001b[90m<chr>\u001b[39m\u001b[23m     \u001b[3m\u001b[90m<dbl>\u001b[39m\u001b[23m  \u001b[3m\u001b[90m<dbl>\u001b[39m\u001b[23m   \u001b[3m\u001b[90m<dbl>\u001b[39m\u001b[23m\n",
      "\u001b[90m 1\u001b[39m s01        76.8   95.7    94.3\n",
      "\u001b[90m 2\u001b[39m s02        79.5   97.2    98.1\n",
      "\u001b[90m 3\u001b[39m s03        76.2   91.1    85.2\n",
      "\u001b[90m 4\u001b[39m s04        89.5  110.    100. \n",
      "\u001b[90m 5\u001b[39m s05        76.7  101.    103. \n",
      "\u001b[90m 6\u001b[39m s06        73.1   92.7    98.4\n",
      "\u001b[90m 7\u001b[39m s07        76.8   99.7    97.0\n",
      "\u001b[90m 8\u001b[39m s08        79.6  108.     99.8\n",
      "\u001b[90m 9\u001b[39m s09        81.6   99.9    99.9\n",
      "\u001b[90m10\u001b[39m s10        68.5  102.     93.2\n",
      "\u001b[90m# i 57 more rows\u001b[39m\n"
     ]
    }
   ],
   "source": [
    "pivot_wider(exp_dat, id_cols=subj_id, names_from=time, values_from=read_score) |>\n",
    "  print()"
   ]
  },
  {
   "cell_type": "markdown",
   "id": "f915e32b",
   "metadata": {},
   "source": [
    "If we pipe this into our plot, we can plot the correlation between participants' morning and evening reading scores like so:"
   ]
  },
  {
   "cell_type": "code",
   "execution_count": 23,
   "id": "77023bce",
   "metadata": {
    "vscode": {
     "languageId": "r"
    }
   },
   "outputs": [
    {
     "name": "stderr",
     "output_type": "stream",
     "text": [
      "\u001b[1m\u001b[22m`geom_smooth()` using formula = 'y ~ x'\n"
     ]
    },
    {
     "data": {
      "image/png": "[encoded data removed]",
      "text/plain": [
       "plot without title"
      ]
     },
     "metadata": {
      "image/png": {
       "height": 240,
       "width": 300
      }
     },
     "output_type": "display_data"
    }
   ],
   "source": [
    "exp_dat |>\n",
    "  pivot_wider(id_cols=subj_id, names_from=time, values_from=read_score) |>\n",
    "  ggplot(aes(morning, evening)) +\n",
    "  geom_point() +\n",
    "  geom_smooth(method=\"lm\")"
   ]
  },
  {
   "cell_type": "markdown",
   "id": "71df7281",
   "metadata": {},
   "source": [
    "This shows that participants' scores are somewhat correlated. This is related to the idea of test-retest reliability.\n",
    "\n",
    "#### Check your Knowledge!\n",
    "\n",
    "**a)** Plot the correlation between participants' morning and midday memory scores.\n",
    "\n",
    "**b)** Tricky! Plot the correlation between morning scores in the reading test and evening scores in the memory test.\n",
    "\n",
    "How would you interpret these results?\n",
    "\n",
    "#### Solutions\n"
   ]
  },
  {
   "cell_type": "code",
   "execution_count": 24,
   "id": "bff0b48e",
   "metadata": {
    "tags": [
     "hide-cell"
    ],
    "vscode": {
     "languageId": "r"
    }
   },
   "outputs": [
    {
     "name": "stderr",
     "output_type": "stream",
     "text": [
      "\u001b[1m\u001b[22m`geom_smooth()` using formula = 'y ~ x'\n",
      "\u001b[1m\u001b[22m`geom_smooth()` using formula = 'y ~ x'\n"
     ]
    },
    {
     "data": {
      "image/png": "[encoded data removed]",
      "text/plain": [
       "plot without title"
      ]
     },
     "metadata": {
      "image/png": {
       "height": 240,
       "width": 300
      }
     },
     "output_type": "display_data"
    },
    {
     "data": {
      "image/png": "[encoded data removed]",
      "text/plain": [
       "plot without title"
      ]
     },
     "metadata": {
      "image/png": {
       "height": 240,
       "width": 300
      }
     },
     "output_type": "display_data"
    }
   ],
   "source": [
    "# a\n",
    "exp_dat |>\n",
    "  pivot_wider(id_cols=subj_id, names_from=time, values_from=memory_score) |>\n",
    "  ggplot(aes(midday, morning)) +\n",
    "  geom_point() +\n",
    "  geom_smooth(method=\"lm\")\n",
    "\n",
    "# b\n",
    "exp_dat |>\n",
    "  pivot_wider(id_cols=subj_id, names_from=time, values_from=c(read_score, memory_score)) |>\n",
    "  ggplot(aes(read_score_morning, memory_score_evening)) +\n",
    "  geom_point() +\n",
    "  geom_smooth(method=\"lm\")"
   ]
  }
 ],
 "metadata": {
  "kernelspec": {
   "display_name": "R",
   "language": "R",
   "name": "ir"
  },
  "language_info": {
   "codemirror_mode": "r",
   "file_extension": ".r",
   "mimetype": "text/x-r-source",
   "name": "R",
   "pygments_lexer": "r",
   "version": "4.1.3"
  }
 },
 "nbformat": 4,
 "nbformat_minor": 5
}
