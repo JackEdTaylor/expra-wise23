{
 "cells": [
  {
   "cell_type": "markdown",
   "metadata": {},
   "source": [
    "# Stimuli"
   ]
  },
  {
   "cell_type": "markdown",
   "metadata": {},
   "source": [
    "One of the things you should include in your LIFOS repository is a reproducible script that shows how you selected your stimuli. This example shows how the Demo Experiment stimuli were selected.\n",
    "\n",
    "<br>\n",
    "\n",
    "The stimuli we used in the Demo Experiment were sampled from a previous, larger dataset of rating norms: Kanske & Kotz ([2010](https://doi.org/10.3758/brm.42.4.987)).\n",
    "\n",
    "* You can download the version of the dataset that we used here: [kanske_kotz.csv](kanske_kotz.csv). This is not identical to the original, so go to the ([original paper](https://doi.org/10.3758/brm.42.4.987)) to download the full dataset.\n",
    "\n",
    "* You can download the demo stimuli here: [demo_words.csv](demo_words.csv)\n",
    "\n",
    "## Generating the Stimuli\n",
    "\n",
    "Here is the code for how the stimuli were selected.\n",
    "\n",
    "First, we imported the relevant packages:"
   ]
  },
  {
   "cell_type": "code",
   "execution_count": null,
   "metadata": {
    "tags": [
     "remove-input"
    ],
    "vscode": {
     "languageId": "r"
    }
   },
   "outputs": [],
   "source": [
    "options(repr.plot.width=3.5, repr.plot.height=3)"
   ]
  },
  {
   "cell_type": "code",
   "execution_count": null,
   "metadata": {
    "vscode": {
     "languageId": "r"
    }
   },
   "outputs": [],
   "source": [
    "library(readr)    # for reading the csv file\n",
    "library(dplyr)    # for working with dataframes\n",
    "\n",
    "library(ggplot2)  # for visualisation\n",
    "theme_set(theme_classic() + theme(legend.position=\"top\"))"
   ]
  },
  {
   "cell_type": "markdown",
   "metadata": {},
   "source": [
    "Next, we set a seed, for reproducibility."
   ]
  },
  {
   "cell_type": "code",
   "execution_count": null,
   "metadata": {
    "vscode": {
     "languageId": "r"
    }
   },
   "outputs": [],
   "source": [
    "set.seed(42)"
   ]
  },
  {
   "cell_type": "markdown",
   "metadata": {},
   "source": [
    "We import the larger norms dataset as a csv:"
   ]
  },
  {
   "cell_type": "code",
   "execution_count": null,
   "metadata": {
    "vscode": {
     "languageId": "r"
    }
   },
   "outputs": [],
   "source": [
    "kk <- read_csv(\"kanske_kotz.csv\")"
   ]
  },
  {
   "cell_type": "markdown",
   "metadata": {},
   "source": [
    "Now we define some \"stop words\". These are words which we deem inappropriate or unsuitable for our experiment. This is justifiable because (1) we are not researching offensive or taboo words specifically, and (2) we do not have ethical approval to present words which may cause distress."
   ]
  },
  {
   "cell_type": "code",
   "execution_count": null,
   "metadata": {
    "vscode": {
     "languageId": "r"
    }
   },
   "outputs": [],
   "source": [
    "stop_words <- c(\"Nazi\", \"Wichser\")"
   ]
  },
  {
   "cell_type": "markdown",
   "metadata": {},
   "source": [
    "Finally, we sample randomly from these stimuli to select the words for the Demo Stimuli:"
   ]
  },
  {
   "cell_type": "code",
   "execution_count": null,
   "metadata": {
    "vscode": {
     "languageId": "r"
    }
   },
   "outputs": [],
   "source": [
    "# number of stimuli to select\n",
    "n_stim <- 100\n",
    "\n",
    "# get a vector of words we want to use with sample()\n",
    "stim_words <- kk |>\n",
    "  filter(!word %in% stop_words) |>\n",
    "  pull(word) |>\n",
    "  sample(size = n_stim)"
   ]
  },
  {
   "cell_type": "markdown",
   "metadata": {},
   "source": [
    "Now finally, we can filter the original dataset. Using this method we keep the columns in the original dataset (in case they are useful later)."
   ]
  },
  {
   "cell_type": "code",
   "execution_count": null,
   "metadata": {
    "vscode": {
     "languageId": "r"
    }
   },
   "outputs": [],
   "source": [
    "stim <- filter(kk, word %in% stim_words)"
   ]
  },
  {
   "cell_type": "markdown",
   "metadata": {},
   "source": [
    "We can write this to file like so:"
   ]
  },
  {
   "cell_type": "raw",
   "metadata": {},
   "source": [
    "write_csv(stim, \"demo_stim.csv\")"
   ]
  },
  {
   "cell_type": "markdown",
   "metadata": {},
   "source": [
    "## Reporting Stimuli Selection\n",
    "\n",
    "Remember that as well as sharing your code for stimuli selection on LIFOS, you will need to include a description of how the stimuli were selected in your report. For example...\n",
    "\n",
    "*Stimuli were selected from words in the LANG dataset collected by Kanske and Kotz (2010). We first excluded 2 words that were inappropriate for our experiment: Nazi and Wichser, as these words were not covered by our ethical approval, and because we were not interested in offensive or taboo words specifically for our hypotheses. We then selected N=100 words randomly from the words presented by Kanske and Kotz. The script used to generate our stimuli is included in the LIFOS repository associated with this report (LINK TO RELEVANT SECTION OF LIFOS REPOSITORY HERE).*"
   ]
  }
 ],
 "metadata": {
  "kernelspec": {
   "display_name": "R",
   "language": "R",
   "name": "ir"
  },
  "language_info": {
   "codemirror_mode": "r",
   "file_extension": ".r",
   "mimetype": "text/x-r-source",
   "name": "R",
   "pygments_lexer": "r",
   "version": "3.9.0"
  },
  "orig_nbformat": 4
 },
 "nbformat": 4,
 "nbformat_minor": 2
}
