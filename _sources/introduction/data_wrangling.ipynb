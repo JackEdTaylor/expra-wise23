{
 "cells": [
  {
   "cell_type": "markdown",
   "id": "34e9fb44",
   "metadata": {},
   "source": [
    "# Data Wrangling\n",
    "\n",
    "<h5>\n",
    "\n",
    "**Wrangling** /ˈræŋ.ɡəl.ɪŋ/\n",
    "\n",
    "the activity of taking care of, controlling, or moving animals, especially large animals such as cows or horses\n",
    "\n",
    "([Cambridge Dictionary](https://dictionary.cambridge.org/dictionary/english/wrangling))\n",
    "\n",
    "</h5>\n",
    "\n",
    "![Cattle Wrangler - image from https://commons.wikimedia.org/wiki/File:Pioneer_Day_Wrangler.jpg](https://upload.wikimedia.org/wikipedia/commons/thumb/8/83/Pioneer_Day_Wrangler.jpg/320px-Pioneer_Day_Wrangler.jpg)\n",
    "\n",
    "**[Data wrangling](https://en.wikipedia.org/wiki/Data_wrangling)** commonly refers to the transformation of data from one \"input\" format (e.g., `.csv` files from an experiment), to a different format (e.g., a tidy dataframe) that is more appropriate to the needs of an analysis. In the context of the ExPra experiments, you will use data wrangling techniques to implement the transformations and data cleaning steps specified in your preregistrations.\n",
    "\n",
    "## Setup\n",
    "\n",
    "### Setup Part 1: Install Packages\n",
    "\n",
    "We will use [`tidyverse`](https://www.tidyverse.org/) packages to implement our data wrangling. The \"tidyverse\" is a series of packages which share a philosphy based around code and data structures that are (a) tidy, and (b) readable. You can install the tidyverse packages like so:\n",
    "\n",
    "```\n",
    "install.packages(\"tidyverse\")\n",
    "```\n",
    "\n",
    "This includes many packages that we won't be using today, but which will be useful in other parts of the course (e.g., on Data Visualisation).\n",
    "\n",
    "Remember, you should install packages in the console - never in a script that your share with others. This is because otherwise, your script will go to the effort of reinstalling a package *every time* it is run!\n",
    "\n",
    "### Setup Part 2: Check the Packages Load\n",
    "\n",
    "Now, we can test that the packages we will be using today actually load. You should be able to run this code without any errors:"
   ]
  },
  {
   "cell_type": "code",
   "execution_count": 1,
   "id": "8d6a0e92",
   "metadata": {
    "tags": [
     "remove-input"
    ],
    "vscode": {
     "languageId": "r"
    }
   },
   "outputs": [],
   "source": [
    "options(repr.plot.width=3.5, repr.plot.height=3)"
   ]
  },
  {
   "cell_type": "code",
   "execution_count": 2,
   "id": "165b6408",
   "metadata": {
    "tags": [
     "remove-output"
    ],
    "vscode": {
     "languageId": "r"
    }
   },
   "outputs": [
    {
     "name": "stderr",
     "output_type": "stream",
     "text": [
      "\n",
      "Attaching package: 'dplyr'\n",
      "\n",
      "\n",
      "The following objects are masked from 'package:stats':\n",
      "\n",
      "    filter, lag\n",
      "\n",
      "\n",
      "The following objects are masked from 'package:base':\n",
      "\n",
      "    intersect, setdiff, setequal, union\n",
      "\n",
      "\n"
     ]
    }
   ],
   "source": [
    "library(dplyr)\n",
    "library(tidyr)"
   ]
  },
  {
   "cell_type": "markdown",
   "id": "e1da8f7c-308f-4217-9192-9bfc1191ff0e",
   "metadata": {},
   "source": [
    "### Setup Part 3\n",
    "\n",
    "Finally, check that you can access the dataset we'll be using in this session. The `starwars` dataset is a dataset built into R that contains details of characters from the Star Wars films:"
   ]
  },
  {
   "cell_type": "code",
   "execution_count": 4,
   "id": "f0b8ba46-98b5-45f1-83e3-cfaad7b2206d",
   "metadata": {
    "vscode": {
     "languageId": "r"
    }
   },
   "outputs": [
    {
     "name": "stdout",
     "output_type": "stream",
     "text": [
      "\u001b[90m# A tibble: 87 x 14\u001b[39m\n",
      "   name     height  mass hair_color skin_color eye_color birth_year sex   gender\n",
      "   \u001b[3m\u001b[90m<chr>\u001b[39m\u001b[23m     \u001b[3m\u001b[90m<int>\u001b[39m\u001b[23m \u001b[3m\u001b[90m<dbl>\u001b[39m\u001b[23m \u001b[3m\u001b[90m<chr>\u001b[39m\u001b[23m      \u001b[3m\u001b[90m<chr>\u001b[39m\u001b[23m      \u001b[3m\u001b[90m<chr>\u001b[39m\u001b[23m          \u001b[3m\u001b[90m<dbl>\u001b[39m\u001b[23m \u001b[3m\u001b[90m<chr>\u001b[39m\u001b[23m \u001b[3m\u001b[90m<chr>\u001b[39m\u001b[23m \n",
      "\u001b[90m 1\u001b[39m Luke Sk~    172    77 blond      fair       blue            19   male  mascu~\n",
      "\u001b[90m 2\u001b[39m C-3PO       167    75 \u001b[31mNA\u001b[39m         gold       yellow         112   none  mascu~\n",
      "\u001b[90m 3\u001b[39m R2-D2        96    32 \u001b[31mNA\u001b[39m         white, bl~ red             33   none  mascu~\n",
      "\u001b[90m 4\u001b[39m Darth V~    202   136 none       white      yellow          41.9 male  mascu~\n",
      "\u001b[90m 5\u001b[39m Leia Or~    150    49 brown      light      brown           19   fema~ femin~\n",
      "\u001b[90m 6\u001b[39m Owen La~    178   120 brown, gr~ light      blue            52   male  mascu~\n",
      "\u001b[90m 7\u001b[39m Beru Wh~    165    75 brown      light      blue            47   fema~ femin~\n",
      "\u001b[90m 8\u001b[39m R5-D4        97    32 \u001b[31mNA\u001b[39m         white, red red             \u001b[31mNA\u001b[39m   none  mascu~\n",
      "\u001b[90m 9\u001b[39m Biggs D~    183    84 black      light      brown           24   male  mascu~\n",
      "\u001b[90m10\u001b[39m Obi-Wan~    182    77 auburn, w~ fair       blue-gray       57   male  mascu~\n",
      "\u001b[90m# i 77 more rows\u001b[39m\n",
      "\u001b[90m# i 5 more variables: homeworld <chr>, species <chr>, films <list>,\u001b[39m\n",
      "\u001b[90m#   vehicles <list>, starships <list>\u001b[39m\n"
     ]
    }
   ],
   "source": [
    "print(starwars)"
   ]
  },
  {
   "cell_type": "markdown",
   "id": "0183fe00-4c0e-4a26-8bd7-a439e818fe27",
   "metadata": {},
   "source": [
    "This is snapshot shows an example of tidy data - a philosophy of organising data such that each observation (*character*) has a single row, with all variables tied to that character as a single column.\n",
    "\n",
    "Now that we're all set up, let's dig into the data...\n",
    "\n",
    "## Arranging\n",
    "\n",
    "We can use the `arrange()` function to sort by variables in the dataframe. For example, we can arrange all characters in order of height (shortest to tallest) like so:"
   ]
  },
  {
   "cell_type": "code",
   "execution_count": null,
   "id": "77ff073a-20a0-47a4-a618-5735a2ca9655",
   "metadata": {
    "tags": [
     "remove-output"
    ],
    "vscode": {
     "languageId": "r"
    }
   },
   "outputs": [],
   "source": [
    "arrange(starwars, height)"
   ]
  },
  {
   "cell_type": "code",
   "execution_count": null,
   "metadata": {
    "tags": [
     "remove-input"
    ],
    "vscode": {
     "languageId": "r"
    }
   },
   "outputs": [],
   "source": [
    "arrange(starwars, height) |> print()"
   ]
  }
 ],
 "metadata": {
  "kernelspec": {
   "display_name": "R",
   "language": "R",
   "name": "ir"
  },
  "language_info": {
   "codemirror_mode": "r",
   "file_extension": ".r",
   "mimetype": "text/x-r-source",
   "name": "R",
   "pygments_lexer": "r",
   "version": "4.1.3"
  }
 },
 "nbformat": 4,
 "nbformat_minor": 5
}
