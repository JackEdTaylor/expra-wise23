{
 "cells": [
  {
   "cell_type": "markdown",
   "id": "34e9fb44",
   "metadata": {},
   "source": [
    "# Data Visualisation 1\n",
    "\n",
    "Data visualisation is an incredibly useful skill to develop! It can be an invaluable way to explore your data and present your findings.\n",
    "\n",
    "In the first half of this session, we will discuss what makes a good figure.\n",
    "\n",
    "In the second half, we will see how we apply these principles of data visualisation in practice, using `ggplot2` in R.\n",
    "\n",
    "Finally, in [Data Visualisation Part 2](https://jackedtaylor.github.io/expra-wise23/introduction/data_vis_2), we will look at how to make your figures pretty and publication-ready.\n",
    "\n",
    "## Slides\n",
    "\n",
    "<iframe src=\"https://docs.google.com/presentation/d/e/2PACX-1vQ2Axzq7HMzOUqhjaekUAA399otP3LAsJFk3-OclQya5nk9-bFYesMbXwa6faf98cOrp1ChNL_8H_Lc/embed?start=false&loop=false&delayms=60000\" frameborder=\"0\" width=\"960\" height=\"569\" allowfullscreen=\"true\" mozallowfullscreen=\"true\" webkitallowfullscreen=\"true\"></iframe>\n",
    "\n",
    "<h5>\n",
    "<a href=https://docs.google.com/presentation/d/1BCrbXmNgxQuRpLZEgJUspxtbSs_sFel1I0Bs_gbd9ZM/export/pdf><i class=\"fa-solid fa-file-pdf\"></i> Download .pdf</a>\n",
    "&nbsp;\n",
    "<a href=https://docs.google.com/presentation/d/1BCrbXmNgxQuRpLZEgJUspxtbSs_sFel1I0Bs_gbd9ZM/export/pptx><i class=\"fa-solid fa-file-powerpoint\"></i> Download .pptx</a>\n",
    "</h5>"
   ]
  },
  {
   "cell_type": "markdown",
   "id": "2aef95e1",
   "metadata": {},
   "source": [
    "## Try it Out!\n",
    "\n",
    "### Setup\n",
    "\n",
    "We will be using `ggplot2` for data visualisation in R. This is the most popular package for data visualisation in R, and is extremely flexible."
   ]
  },
  {
   "cell_type": "code",
   "execution_count": 1,
   "id": "d1fd0ca8",
   "metadata": {
    "tags": [
     "remove-input"
    ],
    "vscode": {
     "languageId": "r"
    }
   },
   "outputs": [],
   "source": [
    "options(repr.plot.width=5, repr.plot.height=4)"
   ]
  },
  {
   "cell_type": "code",
   "execution_count": 2,
   "id": "6b9addb7",
   "metadata": {
    "tags": [
     "remove-output"
    ],
    "vscode": {
     "languageId": "r"
    }
   },
   "outputs": [
    {
     "name": "stderr",
     "output_type": "stream",
     "text": [
      "\n",
      "Attaching package: 'dplyr'\n",
      "\n",
      "\n",
      "The following objects are masked from 'package:stats':\n",
      "\n",
      "    filter, lag\n",
      "\n",
      "\n",
      "The following objects are masked from 'package:base':\n",
      "\n",
      "    intersect, setdiff, setequal, union\n",
      "\n",
      "\n"
     ]
    }
   ],
   "source": [
    "library(ggplot2)\n",
    "library(dplyr)\n",
    "library(tidyr)\n",
    "library(readr)"
   ]
  },
  {
   "cell_type": "markdown",
   "id": "9b1295d1",
   "metadata": {},
   "source": [
    "You can import the data we will be using like so:"
   ]
  },
  {
   "cell_type": "code",
   "execution_count": 3,
   "id": "eb988ca8",
   "metadata": {
    "tags": [
     "remove-output"
    ],
    "vscode": {
     "languageId": "r"
    }
   },
   "outputs": [
    {
     "name": "stderr",
     "output_type": "stream",
     "text": [
      "\u001b[1mRows: \u001b[22m\u001b[34m201\u001b[39m \u001b[1mColumns: \u001b[22m\u001b[34m4\u001b[39m\n",
      "\u001b[36m--\u001b[39m \u001b[1mColumn specification\u001b[22m \u001b[36m--------------------------------------------------------\u001b[39m\n",
      "\u001b[1mDelimiter:\u001b[22m \",\"\n",
      "\u001b[31mchr\u001b[39m (2): subj_id, time\n",
      "\u001b[32mdbl\u001b[39m (2): read_score, memory_score\n",
      "\n",
      "\u001b[36mi\u001b[39m Use `spec()` to retrieve the full column specification for this data.\n",
      "\u001b[36mi\u001b[39m Specify the column types or set `show_col_types = FALSE` to quiet this message.\n"
     ]
    }
   ],
   "source": [
    "exp_dat <- read_csv(\"https://raw.githubusercontent.com/JackEdTaylor/expra-wise23/master/lecture/static/data_vis_dat.csv\")"
   ]
  },
  {
   "cell_type": "markdown",
   "id": "b528741c",
   "metadata": {},
   "source": [
    "This simulated dataset contains scores in a reading task and a memory task from *N*=67 participants at three times in the day: morning, midday, and evening."
   ]
  },
  {
   "cell_type": "code",
   "execution_count": 4,
   "id": "c8a4e595",
   "metadata": {
    "vscode": {
     "languageId": "r"
    }
   },
   "outputs": [
    {
     "name": "stdout",
     "output_type": "stream",
     "text": [
      "\u001b[90m# A tibble: 201 x 4\u001b[39m\n",
      "   subj_id time    read_score memory_score\n",
      "   \u001b[3m\u001b[90m<chr>\u001b[39m\u001b[23m   \u001b[3m\u001b[90m<chr>\u001b[39m\u001b[23m        \u001b[3m\u001b[90m<dbl>\u001b[39m\u001b[23m        \u001b[3m\u001b[90m<dbl>\u001b[39m\u001b[23m\n",
      "\u001b[90m 1\u001b[39m s01     morning       82.0         73.5\n",
      "\u001b[90m 2\u001b[39m s01     midday        98.0         98.4\n",
      "\u001b[90m 3\u001b[39m s01     evening      100.          96.4\n",
      "\u001b[90m 4\u001b[39m s02     morning       79.4         54.1\n",
      "\u001b[90m 5\u001b[39m s02     midday        92.9         88.5\n",
      "\u001b[90m 6\u001b[39m s02     evening      102.          92.0\n",
      "\u001b[90m 7\u001b[39m s03     morning       83.7         78.1\n",
      "\u001b[90m 8\u001b[39m s03     midday        92.4         98.2\n",
      "\u001b[90m 9\u001b[39m s03     evening       86.5         95.2\n",
      "\u001b[90m10\u001b[39m s04     morning       86.7         89.1\n",
      "\u001b[90m# i 191 more rows\u001b[39m\n"
     ]
    }
   ],
   "source": [
    "print(exp_dat)"
   ]
  },
  {
   "cell_type": "markdown",
   "id": "2cfa53ce",
   "metadata": {},
   "source": [
    "### The `ggplot2` \"Canvas\"\n",
    "\n",
    "When we create a `ggplot2` object, the first function we use is `ggplot()`. The first argument is the dataframe we would like to plot. The second argument contains the `aes()` specifications, which says which variables in the data should be mapped to which aesthetics.\n",
    "\n",
    "Let's see an example, where we say we want to plot reading scores from `exp_dat` on the x axis."
   ]
  },
  {
   "cell_type": "code",
   "execution_count": 5,
   "id": "6c4066c3",
   "metadata": {
    "vscode": {
     "languageId": "r"
    }
   },
   "outputs": [
    {
     "data": {
      "image/png": "[encoded data removed]",
      "text/plain": [
       "plot without title"
      ]
     },
     "metadata": {
      "image/png": {
       "height": 240,
       "width": 300
      }
     },
     "output_type": "display_data"
    }
   ],
   "source": [
    "ggplot(exp_dat, aes(x = read_score))"
   ]
  },
  {
   "cell_type": "markdown",
   "id": "98cca31f",
   "metadata": {},
   "source": [
    "What gives - where is our plot?\n",
    "\n",
    "Well, we've told `ggplot2` what to put on the x axis, but we haven't said what to actually do with it!\n",
    "\n",
    "We've created a \"blank canvas\" - now we need to add plot objects. In `ggplot2` these are referred to as *Geoms*, and we add them with `geom_*` functions."
   ]
  },
  {
   "cell_type": "markdown",
   "id": "db231ef9",
   "metadata": {},
   "source": [
    "### Plotting Distributions\n",
    "\n",
    "We can plot a histogram with the `geom_histogram()` function. We can simply add this to our code from before. `ggplot2` will then automatically know that the y axis should contain counts."
   ]
  },
  {
   "cell_type": "code",
   "execution_count": 6,
   "id": "0705dd7f",
   "metadata": {
    "vscode": {
     "languageId": "r"
    }
   },
   "outputs": [
    {
     "name": "stderr",
     "output_type": "stream",
     "text": [
      "\u001b[1m\u001b[22m`stat_bin()` using `bins = 30`. Pick better value with `binwidth`.\n"
     ]
    },
    {
     "data": {
      "image/png": "[encoded data removed]",
      "text/plain": [
       "plot without title"
      ]
     },
     "metadata": {
      "image/png": {
       "height": 240,
       "width": 300
      }
     },
     "output_type": "display_data"
    }
   ],
   "source": [
    "ggplot(exp_dat, aes(x = read_score)) +\n",
    "  geom_histogram()"
   ]
  },
  {
   "cell_type": "markdown",
   "id": "41b979bb",
   "metadata": {},
   "source": [
    "Notice that we get a warning from `ggplot2` that it is using the default of `bins = 30` for the `geom_histogram()` function, which means there are a total of 30 bins. It is recommended to pick a number of bins, or a bin width, that makes sense for your data. For example, if we want each bin to have a width of 10, we could write:"
   ]
  },
  {
   "cell_type": "code",
   "execution_count": 7,
   "id": "e7bf6ef0",
   "metadata": {
    "vscode": {
     "languageId": "r"
    }
   },
   "outputs": [
    {
     "data": {
      "image/png": "[encoded data removed]",
      "text/plain": [
       "plot without title"
      ]
     },
     "metadata": {
      "image/png": {
       "height": 240,
       "width": 300
      }
     },
     "output_type": "display_data"
    }
   ],
   "source": [
    "ggplot(exp_dat, aes(x = read_score)) +\n",
    "  geom_histogram(binwidth = 10)"
   ]
  },
  {
   "cell_type": "markdown",
   "id": "d0c0e7b3",
   "metadata": {},
   "source": [
    "Similarly, we can plot the empirical probability density with the `geom_density()` function."
   ]
  },
  {
   "cell_type": "code",
   "execution_count": 8,
   "id": "a07c82e9",
   "metadata": {
    "vscode": {
     "languageId": "r"
    }
   },
   "outputs": [
    {
     "data": {
      "image/png": "[encoded data removed]",
      "text/plain": [
       "plot without title"
      ]
     },
     "metadata": {
      "image/png": {
       "height": 240,
       "width": 300
      }
     },
     "output_type": "display_data"
    }
   ],
   "source": [
    "ggplot(exp_dat, aes(x = read_score)) +\n",
    "  geom_density()"
   ]
  },
  {
   "cell_type": "markdown",
   "id": "484c05ac",
   "metadata": {},
   "source": [
    "#### Check your Knowledge!\n",
    "\n",
    "**a)** Plot the density of memory scores.\n",
    "\n",
    "**b)** Plot a histogram of memory scores, with a bin width of 5.\n",
    "\n",
    "**c)** Plot a histogram of memory scores, with 5 bins overall.\n",
    "\n",
    "#### Solutions"
   ]
  },
  {
   "cell_type": "code",
   "execution_count": null,
   "id": "fe64c568",
   "metadata": {
    "tags": [
     "hide-cell",
     "remove-output"
    ],
    "vscode": {
     "languageId": "r"
    }
   },
   "outputs": [],
   "source": [
    "# a\n",
    "ggplot(exp_dat, aes(x = memory_score)) +\n",
    "  geom_density()\n",
    "\n",
    "# b\n",
    "ggplot(exp_dat, aes(x = memory_score)) +\n",
    "  geom_histogram(binwidth = 5)\n",
    "\n",
    "# c\n",
    "ggplot(exp_dat, aes(x = memory_score)) +\n",
    "  geom_histogram(bins = 5)"
   ]
  },
  {
   "cell_type": "markdown",
   "id": "aaaaef3b",
   "metadata": {},
   "source": [
    "### Comparing Distributions by Group\n",
    "\n",
    "Let's say we also want to plot the distribution of reading scores for each experimental session separately. We can do this by saying we want the `time` variable (`\"morning\"`, `\"midday\"`, `\"evening\"`) to be mapped to the `colour` aesthetic."
   ]
  },
  {
   "cell_type": "code",
   "execution_count": 9,
   "id": "8fd25ea9",
   "metadata": {
    "vscode": {
     "languageId": "r"
    }
   },
   "outputs": [
    {
     "data": {
      "image/png": "[encoded data removed]",
      "text/plain": [
       "plot without title"
      ]
     },
     "metadata": {
      "image/png": {
       "height": 240,
       "width": 300
      }
     },
     "output_type": "display_data"
    }
   ],
   "source": [
    "ggplot(exp_dat, aes(x = read_score, colour = time)) +\n",
    "  geom_density()"
   ]
  },
  {
   "cell_type": "markdown",
   "id": "52fffb18",
   "metadata": {},
   "source": [
    "This shows us that reading scores were poorest in the morning, and best at midday. Other useful ways to compare distributions include the violin plot. A violin plot is a density plot mirrored across zero.\n",
    "\n",
    "This time, we want the time of day to be on the `x` axis, and the reading scores to be on the `y` axis."
   ]
  },
  {
   "cell_type": "code",
   "execution_count": 10,
   "id": "2ea1702e",
   "metadata": {
    "vscode": {
     "languageId": "r"
    }
   },
   "outputs": [
    {
     "data": {
      "image/png": "[encoded data removed]",
      "text/plain": [
       "plot without title"
      ]
     },
     "metadata": {
      "image/png": {
       "height": 240,
       "width": 300
      }
     },
     "output_type": "display_data"
    }
   ],
   "source": [
    "ggplot(exp_dat, aes(x=time, y=read_score)) +\n",
    "  geom_violin()"
   ]
  },
  {
   "cell_type": "markdown",
   "id": "51908bab",
   "metadata": {},
   "source": [
    "One of the nice things about `ggplot2` is that the `geom_*` functions are additive. We can just add geom objects on top of one another. For example, you may want to place a [boxplot](https://en.wikipedia.org/wiki/Box_plot) on top of a violin plot. You can see the `ggplot2` documentation for details on [how to interpret the boxplot](https://ggplot2.tidyverse.org/reference/geom_boxplot.html#summary-statistics)."
   ]
  },
  {
   "cell_type": "code",
   "execution_count": 11,
   "id": "c6c3e46a",
   "metadata": {
    "vscode": {
     "languageId": "r"
    }
   },
   "outputs": [
    {
     "data": {
      "image/png": "[encoded data removed]",
      "text/plain": [
       "plot without title"
      ]
     },
     "metadata": {
      "image/png": {
       "height": 240,
       "width": 300
      }
     },
     "output_type": "display_data"
    }
   ],
   "source": [
    "ggplot(exp_dat, aes(x=time, y=read_score)) +\n",
    "  geom_violin() +\n",
    "  geom_boxplot()"
   ]
  },
  {
   "cell_type": "markdown",
   "id": "61f64459",
   "metadata": {},
   "source": [
    "Finally, we can also just create a categorical scatter plot, plotting individual points in the data with `geom_point()`."
   ]
  },
  {
   "cell_type": "code",
   "execution_count": 12,
   "id": "87391dcb",
   "metadata": {
    "vscode": {
     "languageId": "r"
    }
   },
   "outputs": [
    {
     "data": {
      "image/png": "[encoded data removed]",
      "text/plain": [
       "plot without title"
      ]
     },
     "metadata": {
      "image/png": {
       "height": 240,
       "width": 300
      }
     },
     "output_type": "display_data"
    }
   ],
   "source": [
    "ggplot(exp_dat, aes(x=time, y=read_score)) +\n",
    "  geom_point()"
   ]
  },
  {
   "cell_type": "markdown",
   "id": "12140a82",
   "metadata": {},
   "source": [
    "This is sometimes easier to read if we add \"jitter\" (random noise) to the x axis, rather than plotting all points in a line. We can do this with the `position_jiter()` function. The `width` argument tells `ggplot2` how wide we want the jittered points to be."
   ]
  },
  {
   "cell_type": "code",
   "execution_count": 13,
   "id": "834152a0",
   "metadata": {
    "vscode": {
     "languageId": "r"
    }
   },
   "outputs": [
    {
     "data": {
      "image/png": "[encoded data removed]",
      "text/plain": [
       "plot without title"
      ]
     },
     "metadata": {
      "image/png": {
       "height": 240,
       "width": 300
      }
     },
     "output_type": "display_data"
    }
   ],
   "source": [
    "ggplot(exp_dat, aes(x=time, y=read_score)) +\n",
    "  geom_point(position = position_jitter(width = 0.2))"
   ]
  },
  {
   "cell_type": "markdown",
   "id": "d4dc8abe",
   "metadata": {},
   "source": [
    "#### Check your Knowledge!\n",
    "\n",
    "**a)** Overlay density plots of memory scores for each experimental session. Notice any similarities/differences to the pattern with reading scores?\n",
    "\n",
    "**b)** Overlay a categorical scatter plot of memory scores for each session, with a small amount of random jitter, on top of a violin plot."
   ]
  },
  {
   "cell_type": "markdown",
   "id": "55f70b00",
   "metadata": {},
   "source": [
    "### Scatter Plots\n",
    "\n",
    "Let's look at the relationship between reading scores and memory scores with `geom_point()`."
   ]
  },
  {
   "cell_type": "code",
   "execution_count": 14,
   "id": "d5c1e4d1",
   "metadata": {
    "vscode": {
     "languageId": "r"
    }
   },
   "outputs": [
    {
     "data": {
      "image/png": "[encoded data removed]",
      "text/plain": [
       "plot without title"
      ]
     },
     "metadata": {
      "image/png": {
       "height": 240,
       "width": 300
      }
     },
     "output_type": "display_data"
    }
   ],
   "source": [
    "ggplot(exp_dat, aes(x=read_score, y=memory_score)) +\n",
    "  geom_point()"
   ]
  },
  {
   "cell_type": "markdown",
   "id": "d920b00f",
   "metadata": {},
   "source": [
    "This looks like a positive correlation! It seems to say that participants' reading scores and memory scores are correlated. We can plot this relationship with the `geom_smooth()` function."
   ]
  },
  {
   "cell_type": "code",
   "execution_count": 15,
   "id": "9072fede",
   "metadata": {
    "vscode": {
     "languageId": "r"
    }
   },
   "outputs": [
    {
     "name": "stderr",
     "output_type": "stream",
     "text": [
      "\u001b[1m\u001b[22m`geom_smooth()` using method = 'loess' and formula = 'y ~ x'\n"
     ]
    },
    {
     "data": {
      "image/png": "[encoded data removed]",
      "text/plain": [
       "plot without title"
      ]
     },
     "metadata": {
      "image/png": {
       "height": 240,
       "width": 300
      }
     },
     "output_type": "display_data"
    }
   ],
   "source": [
    "ggplot(exp_dat, aes(x=read_score, y=memory_score)) +\n",
    "  geom_smooth()"
   ]
  },
  {
   "cell_type": "markdown",
   "id": "f637c351",
   "metadata": {},
   "source": [
    "This plots a [LOESS model](https://www.rdocumentation.org/packages/stats/versions/3.6.2/topics/loess) to predict memory score as a function of reading score - this is a non-linear estimate of the local relationship. The middle blue line shows the estimated relationship, and the 95% confidence interval.\n",
    "\n",
    "If we want to fit a simple linear model instead, we can just pass `method = \"lm\"` to the function."
   ]
  },
  {
   "cell_type": "code",
   "execution_count": 16,
   "id": "d843081d",
   "metadata": {
    "vscode": {
     "languageId": "r"
    }
   },
   "outputs": [
    {
     "name": "stderr",
     "output_type": "stream",
     "text": [
      "\u001b[1m\u001b[22m`geom_smooth()` using formula = 'y ~ x'\n"
     ]
    },
    {
     "data": {
      "image/png": "[encoded data removed]",
      "text/plain": [
       "plot without title"
      ]
     },
     "metadata": {
      "image/png": {
       "height": 240,
       "width": 300
      }
     },
     "output_type": "display_data"
    }
   ],
   "source": [
    "ggplot(exp_dat, aes(x=read_score, y=memory_score)) +\n",
    "  geom_smooth(method = \"lm\")"
   ]
  },
  {
   "cell_type": "markdown",
   "id": "f14e65f3",
   "metadata": {},
   "source": [
    "#### Check your Knowledge!\n",
    "\n",
    "**a)** Overlay the linear model estimates from `geom_smooth()` on top of a scatter plot of all points.\n",
    "\n",
    "**b)** Does this correlation differ by experimental session time? Find a way to plot the scatter plot with linear models fit to each experimental session time separately. What conclusion do you draw from this plot?\n",
    "\n",
    "**c)** Would you reach the same conclusion with a `loess` model?"
   ]
  },
  {
   "cell_type": "markdown",
   "id": "36059b71",
   "metadata": {},
   "source": [
    "### Combining Data Visualisation with Data Wrangling\n",
    "\n",
    "Let's have another look at the data. Notice that each participant occurs multiple times - we have one row for each combination of `subj_id` and `time`."
   ]
  },
  {
   "cell_type": "code",
   "execution_count": 17,
   "id": "238fd81a",
   "metadata": {
    "vscode": {
     "languageId": "r"
    }
   },
   "outputs": [
    {
     "name": "stdout",
     "output_type": "stream",
     "text": [
      "\u001b[90m# A tibble: 201 x 4\u001b[39m\n",
      "   subj_id time    read_score memory_score\n",
      "   \u001b[3m\u001b[90m<chr>\u001b[39m\u001b[23m   \u001b[3m\u001b[90m<chr>\u001b[39m\u001b[23m        \u001b[3m\u001b[90m<dbl>\u001b[39m\u001b[23m        \u001b[3m\u001b[90m<dbl>\u001b[39m\u001b[23m\n",
      "\u001b[90m 1\u001b[39m s01     morning       82.0         73.5\n",
      "\u001b[90m 2\u001b[39m s01     midday        98.0         98.4\n",
      "\u001b[90m 3\u001b[39m s01     evening      100.          96.4\n",
      "\u001b[90m 4\u001b[39m s02     morning       79.4         54.1\n",
      "\u001b[90m 5\u001b[39m s02     midday        92.9         88.5\n",
      "\u001b[90m 6\u001b[39m s02     evening      102.          92.0\n",
      "\u001b[90m 7\u001b[39m s03     morning       83.7         78.1\n",
      "\u001b[90m 8\u001b[39m s03     midday        92.4         98.2\n",
      "\u001b[90m 9\u001b[39m s03     evening       86.5         95.2\n",
      "\u001b[90m10\u001b[39m s04     morning       86.7         89.1\n",
      "\u001b[90m# i 191 more rows\u001b[39m\n"
     ]
    }
   ],
   "source": [
    "print(exp_dat)"
   ]
  },
  {
   "cell_type": "markdown",
   "id": "db9a3724",
   "metadata": {},
   "source": [
    "Let's imagine we want to plot the correlation between each participants reading scores at different times of day. How would we do this?\n",
    "\n",
    "The problem is that the reading scores from all times of day are in the same column - we are in *Long Format*. We can simply [pivot our data](https://jackedtaylor.github.io/expra-wise23/introduction/data_wrangling_2.html#wide-and-long-data-formatting) into *Wide Format*."
   ]
  },
  {
   "cell_type": "code",
   "execution_count": 18,
   "id": "5ba2b6e6",
   "metadata": {
    "tags": [
     "remove-output"
    ],
    "vscode": {
     "languageId": "r"
    }
   },
   "outputs": [
    {
     "data": {
      "text/html": [
       "<table class=\"dataframe\">\n",
       "<caption>A tibble: 67 × 4</caption>\n",
       "<thead>\n",
       "\t<tr><th scope=col>subj_id</th><th scope=col>morning</th><th scope=col>midday</th><th scope=col>evening</th></tr>\n",
       "\t<tr><th scope=col>&lt;chr&gt;</th><th scope=col>&lt;dbl&gt;</th><th scope=col>&lt;dbl&gt;</th><th scope=col>&lt;dbl&gt;</th></tr>\n",
       "</thead>\n",
       "<tbody>\n",
       "\t<tr><td>s01</td><td>82.05</td><td> 98.01</td><td>100.08</td></tr>\n",
       "\t<tr><td>s02</td><td>79.39</td><td> 92.88</td><td>101.65</td></tr>\n",
       "\t<tr><td>s03</td><td>83.69</td><td> 92.39</td><td> 86.46</td></tr>\n",
       "\t<tr><td>s04</td><td>86.72</td><td>104.90</td><td> 90.43</td></tr>\n",
       "\t<tr><td>s05</td><td>74.11</td><td> 98.08</td><td>108.38</td></tr>\n",
       "\t<tr><td>s06</td><td>76.72</td><td> 94.58</td><td>102.11</td></tr>\n",
       "\t<tr><td>s07</td><td>73.28</td><td> 93.74</td><td> 97.16</td></tr>\n",
       "\t<tr><td>s08</td><td>74.60</td><td>108.64</td><td> 97.94</td></tr>\n",
       "\t<tr><td>s09</td><td>80.91</td><td> 94.34</td><td> 99.70</td></tr>\n",
       "\t<tr><td>s10</td><td>68.16</td><td>101.24</td><td> 93.54</td></tr>\n",
       "\t<tr><td>s11</td><td>83.42</td><td>102.68</td><td>103.52</td></tr>\n",
       "\t<tr><td>s12</td><td>86.55</td><td> 96.81</td><td> 93.53</td></tr>\n",
       "\t<tr><td>s13</td><td>70.57</td><td>106.68</td><td> 82.85</td></tr>\n",
       "\t<tr><td>s14</td><td>64.52</td><td> 97.35</td><td> 87.33</td></tr>\n",
       "\t<tr><td>s15</td><td>83.76</td><td>100.01</td><td>106.95</td></tr>\n",
       "\t<tr><td>s16</td><td>84.03</td><td> 89.24</td><td> 97.17</td></tr>\n",
       "\t<tr><td>s17</td><td>69.90</td><td> 99.10</td><td> 90.42</td></tr>\n",
       "\t<tr><td>s18</td><td>85.01</td><td>114.44</td><td>101.77</td></tr>\n",
       "\t<tr><td>s19</td><td>82.63</td><td>103.34</td><td> 96.88</td></tr>\n",
       "\t<tr><td>s20</td><td>87.75</td><td> 97.84</td><td> 87.36</td></tr>\n",
       "\t<tr><td>s21</td><td>80.55</td><td> 96.81</td><td> 99.62</td></tr>\n",
       "\t<tr><td>s22</td><td>80.75</td><td> 96.53</td><td> 93.39</td></tr>\n",
       "\t<tr><td>s23</td><td>78.07</td><td>106.86</td><td> 95.56</td></tr>\n",
       "\t<tr><td>s24</td><td>62.68</td><td> 91.85</td><td> 66.02</td></tr>\n",
       "\t<tr><td>s25</td><td>85.21</td><td> 93.96</td><td>106.23</td></tr>\n",
       "\t<tr><td>s26</td><td>70.66</td><td>106.94</td><td> 96.53</td></tr>\n",
       "\t<tr><td>s27</td><td>82.50</td><td>100.70</td><td> 82.42</td></tr>\n",
       "\t<tr><td>s28</td><td>77.24</td><td> 90.79</td><td> 87.82</td></tr>\n",
       "\t<tr><td>s29</td><td>76.52</td><td> 99.24</td><td> 92.01</td></tr>\n",
       "\t<tr><td>s30</td><td>72.60</td><td>107.08</td><td> 91.98</td></tr>\n",
       "\t<tr><td>...</td><td>...</td><td>...</td><td>...</td></tr>\n",
       "\t<tr><td>s38</td><td>72.90</td><td>100.75</td><td> 93.34</td></tr>\n",
       "\t<tr><td>s39</td><td>91.27</td><td>107.33</td><td> 98.81</td></tr>\n",
       "\t<tr><td>s40</td><td>83.76</td><td>109.01</td><td>103.63</td></tr>\n",
       "\t<tr><td>s41</td><td>80.72</td><td> 97.46</td><td> 96.88</td></tr>\n",
       "\t<tr><td>s42</td><td>77.90</td><td>102.45</td><td> 88.51</td></tr>\n",
       "\t<tr><td>s43</td><td>88.65</td><td>108.02</td><td> 90.07</td></tr>\n",
       "\t<tr><td>s44</td><td>76.37</td><td>110.52</td><td>102.00</td></tr>\n",
       "\t<tr><td>s45</td><td>75.24</td><td>100.27</td><td> 80.60</td></tr>\n",
       "\t<tr><td>s46</td><td>81.10</td><td>101.70</td><td> 87.46</td></tr>\n",
       "\t<tr><td>s47</td><td>76.63</td><td> 96.04</td><td> 94.90</td></tr>\n",
       "\t<tr><td>s48</td><td>73.92</td><td>107.43</td><td> 96.78</td></tr>\n",
       "\t<tr><td>s49</td><td>74.60</td><td>106.39</td><td> 99.15</td></tr>\n",
       "\t<tr><td>s50</td><td>84.35</td><td> 96.55</td><td> 98.34</td></tr>\n",
       "\t<tr><td>s51</td><td>77.55</td><td>103.36</td><td>100.07</td></tr>\n",
       "\t<tr><td>s52</td><td>75.41</td><td> 93.55</td><td> 89.66</td></tr>\n",
       "\t<tr><td>s53</td><td>78.05</td><td>106.62</td><td> 94.72</td></tr>\n",
       "\t<tr><td>s54</td><td>64.61</td><td> 90.57</td><td> 90.81</td></tr>\n",
       "\t<tr><td>s55</td><td>90.12</td><td>107.37</td><td>107.29</td></tr>\n",
       "\t<tr><td>s56</td><td>87.24</td><td> 98.31</td><td> 91.82</td></tr>\n",
       "\t<tr><td>s57</td><td>77.06</td><td> 96.51</td><td> 92.54</td></tr>\n",
       "\t<tr><td>s58</td><td>72.04</td><td> 97.60</td><td> 90.49</td></tr>\n",
       "\t<tr><td>s59</td><td>83.78</td><td> 97.60</td><td> 96.77</td></tr>\n",
       "\t<tr><td>s60</td><td>75.85</td><td>107.35</td><td>101.04</td></tr>\n",
       "\t<tr><td>s61</td><td>86.43</td><td>108.35</td><td>104.32</td></tr>\n",
       "\t<tr><td>s62</td><td>75.71</td><td> 95.55</td><td> 91.53</td></tr>\n",
       "\t<tr><td>s63</td><td>78.86</td><td>110.66</td><td>104.83</td></tr>\n",
       "\t<tr><td>s64</td><td>76.39</td><td> 95.21</td><td>102.79</td></tr>\n",
       "\t<tr><td>s65</td><td>71.93</td><td> 97.84</td><td> 91.13</td></tr>\n",
       "\t<tr><td>s66</td><td>81.39</td><td>103.20</td><td> 94.79</td></tr>\n",
       "\t<tr><td>s67</td><td>62.66</td><td> 94.60</td><td> 77.92</td></tr>\n",
       "</tbody>\n",
       "</table>\n"
      ],
      "text/latex": [
       "A tibble: 67 × 4\n",
       "\\begin{tabular}{llll}\n",
       " subj\\_id & morning & midday & evening\\\\\n",
       " <chr> & <dbl> & <dbl> & <dbl>\\\\\n",
       "\\hline\n",
       "\t s01 & 82.05 &  98.01 & 100.08\\\\\n",
       "\t s02 & 79.39 &  92.88 & 101.65\\\\\n",
       "\t s03 & 83.69 &  92.39 &  86.46\\\\\n",
       "\t s04 & 86.72 & 104.90 &  90.43\\\\\n",
       "\t s05 & 74.11 &  98.08 & 108.38\\\\\n",
       "\t s06 & 76.72 &  94.58 & 102.11\\\\\n",
       "\t s07 & 73.28 &  93.74 &  97.16\\\\\n",
       "\t s08 & 74.60 & 108.64 &  97.94\\\\\n",
       "\t s09 & 80.91 &  94.34 &  99.70\\\\\n",
       "\t s10 & 68.16 & 101.24 &  93.54\\\\\n",
       "\t s11 & 83.42 & 102.68 & 103.52\\\\\n",
       "\t s12 & 86.55 &  96.81 &  93.53\\\\\n",
       "\t s13 & 70.57 & 106.68 &  82.85\\\\\n",
       "\t s14 & 64.52 &  97.35 &  87.33\\\\\n",
       "\t s15 & 83.76 & 100.01 & 106.95\\\\\n",
       "\t s16 & 84.03 &  89.24 &  97.17\\\\\n",
       "\t s17 & 69.90 &  99.10 &  90.42\\\\\n",
       "\t s18 & 85.01 & 114.44 & 101.77\\\\\n",
       "\t s19 & 82.63 & 103.34 &  96.88\\\\\n",
       "\t s20 & 87.75 &  97.84 &  87.36\\\\\n",
       "\t s21 & 80.55 &  96.81 &  99.62\\\\\n",
       "\t s22 & 80.75 &  96.53 &  93.39\\\\\n",
       "\t s23 & 78.07 & 106.86 &  95.56\\\\\n",
       "\t s24 & 62.68 &  91.85 &  66.02\\\\\n",
       "\t s25 & 85.21 &  93.96 & 106.23\\\\\n",
       "\t s26 & 70.66 & 106.94 &  96.53\\\\\n",
       "\t s27 & 82.50 & 100.70 &  82.42\\\\\n",
       "\t s28 & 77.24 &  90.79 &  87.82\\\\\n",
       "\t s29 & 76.52 &  99.24 &  92.01\\\\\n",
       "\t s30 & 72.60 & 107.08 &  91.98\\\\\n",
       "\t ... & ... & ... & ...\\\\\n",
       "\t s38 & 72.90 & 100.75 &  93.34\\\\\n",
       "\t s39 & 91.27 & 107.33 &  98.81\\\\\n",
       "\t s40 & 83.76 & 109.01 & 103.63\\\\\n",
       "\t s41 & 80.72 &  97.46 &  96.88\\\\\n",
       "\t s42 & 77.90 & 102.45 &  88.51\\\\\n",
       "\t s43 & 88.65 & 108.02 &  90.07\\\\\n",
       "\t s44 & 76.37 & 110.52 & 102.00\\\\\n",
       "\t s45 & 75.24 & 100.27 &  80.60\\\\\n",
       "\t s46 & 81.10 & 101.70 &  87.46\\\\\n",
       "\t s47 & 76.63 &  96.04 &  94.90\\\\\n",
       "\t s48 & 73.92 & 107.43 &  96.78\\\\\n",
       "\t s49 & 74.60 & 106.39 &  99.15\\\\\n",
       "\t s50 & 84.35 &  96.55 &  98.34\\\\\n",
       "\t s51 & 77.55 & 103.36 & 100.07\\\\\n",
       "\t s52 & 75.41 &  93.55 &  89.66\\\\\n",
       "\t s53 & 78.05 & 106.62 &  94.72\\\\\n",
       "\t s54 & 64.61 &  90.57 &  90.81\\\\\n",
       "\t s55 & 90.12 & 107.37 & 107.29\\\\\n",
       "\t s56 & 87.24 &  98.31 &  91.82\\\\\n",
       "\t s57 & 77.06 &  96.51 &  92.54\\\\\n",
       "\t s58 & 72.04 &  97.60 &  90.49\\\\\n",
       "\t s59 & 83.78 &  97.60 &  96.77\\\\\n",
       "\t s60 & 75.85 & 107.35 & 101.04\\\\\n",
       "\t s61 & 86.43 & 108.35 & 104.32\\\\\n",
       "\t s62 & 75.71 &  95.55 &  91.53\\\\\n",
       "\t s63 & 78.86 & 110.66 & 104.83\\\\\n",
       "\t s64 & 76.39 &  95.21 & 102.79\\\\\n",
       "\t s65 & 71.93 &  97.84 &  91.13\\\\\n",
       "\t s66 & 81.39 & 103.20 &  94.79\\\\\n",
       "\t s67 & 62.66 &  94.60 &  77.92\\\\\n",
       "\\end{tabular}\n"
      ],
      "text/markdown": [
       "\n",
       "A tibble: 67 × 4\n",
       "\n",
       "| subj_id &lt;chr&gt; | morning &lt;dbl&gt; | midday &lt;dbl&gt; | evening &lt;dbl&gt; |\n",
       "|---|---|---|---|\n",
       "| s01 | 82.05 |  98.01 | 100.08 |\n",
       "| s02 | 79.39 |  92.88 | 101.65 |\n",
       "| s03 | 83.69 |  92.39 |  86.46 |\n",
       "| s04 | 86.72 | 104.90 |  90.43 |\n",
       "| s05 | 74.11 |  98.08 | 108.38 |\n",
       "| s06 | 76.72 |  94.58 | 102.11 |\n",
       "| s07 | 73.28 |  93.74 |  97.16 |\n",
       "| s08 | 74.60 | 108.64 |  97.94 |\n",
       "| s09 | 80.91 |  94.34 |  99.70 |\n",
       "| s10 | 68.16 | 101.24 |  93.54 |\n",
       "| s11 | 83.42 | 102.68 | 103.52 |\n",
       "| s12 | 86.55 |  96.81 |  93.53 |\n",
       "| s13 | 70.57 | 106.68 |  82.85 |\n",
       "| s14 | 64.52 |  97.35 |  87.33 |\n",
       "| s15 | 83.76 | 100.01 | 106.95 |\n",
       "| s16 | 84.03 |  89.24 |  97.17 |\n",
       "| s17 | 69.90 |  99.10 |  90.42 |\n",
       "| s18 | 85.01 | 114.44 | 101.77 |\n",
       "| s19 | 82.63 | 103.34 |  96.88 |\n",
       "| s20 | 87.75 |  97.84 |  87.36 |\n",
       "| s21 | 80.55 |  96.81 |  99.62 |\n",
       "| s22 | 80.75 |  96.53 |  93.39 |\n",
       "| s23 | 78.07 | 106.86 |  95.56 |\n",
       "| s24 | 62.68 |  91.85 |  66.02 |\n",
       "| s25 | 85.21 |  93.96 | 106.23 |\n",
       "| s26 | 70.66 | 106.94 |  96.53 |\n",
       "| s27 | 82.50 | 100.70 |  82.42 |\n",
       "| s28 | 77.24 |  90.79 |  87.82 |\n",
       "| s29 | 76.52 |  99.24 |  92.01 |\n",
       "| s30 | 72.60 | 107.08 |  91.98 |\n",
       "| ... | ... | ... | ... |\n",
       "| s38 | 72.90 | 100.75 |  93.34 |\n",
       "| s39 | 91.27 | 107.33 |  98.81 |\n",
       "| s40 | 83.76 | 109.01 | 103.63 |\n",
       "| s41 | 80.72 |  97.46 |  96.88 |\n",
       "| s42 | 77.90 | 102.45 |  88.51 |\n",
       "| s43 | 88.65 | 108.02 |  90.07 |\n",
       "| s44 | 76.37 | 110.52 | 102.00 |\n",
       "| s45 | 75.24 | 100.27 |  80.60 |\n",
       "| s46 | 81.10 | 101.70 |  87.46 |\n",
       "| s47 | 76.63 |  96.04 |  94.90 |\n",
       "| s48 | 73.92 | 107.43 |  96.78 |\n",
       "| s49 | 74.60 | 106.39 |  99.15 |\n",
       "| s50 | 84.35 |  96.55 |  98.34 |\n",
       "| s51 | 77.55 | 103.36 | 100.07 |\n",
       "| s52 | 75.41 |  93.55 |  89.66 |\n",
       "| s53 | 78.05 | 106.62 |  94.72 |\n",
       "| s54 | 64.61 |  90.57 |  90.81 |\n",
       "| s55 | 90.12 | 107.37 | 107.29 |\n",
       "| s56 | 87.24 |  98.31 |  91.82 |\n",
       "| s57 | 77.06 |  96.51 |  92.54 |\n",
       "| s58 | 72.04 |  97.60 |  90.49 |\n",
       "| s59 | 83.78 |  97.60 |  96.77 |\n",
       "| s60 | 75.85 | 107.35 | 101.04 |\n",
       "| s61 | 86.43 | 108.35 | 104.32 |\n",
       "| s62 | 75.71 |  95.55 |  91.53 |\n",
       "| s63 | 78.86 | 110.66 | 104.83 |\n",
       "| s64 | 76.39 |  95.21 | 102.79 |\n",
       "| s65 | 71.93 |  97.84 |  91.13 |\n",
       "| s66 | 81.39 | 103.20 |  94.79 |\n",
       "| s67 | 62.66 |  94.60 |  77.92 |\n",
       "\n"
      ],
      "text/plain": [
       "    subj_id morning midday evening\n",
       "1   s01     82.05    98.01 100.08 \n",
       "2   s02     79.39    92.88 101.65 \n",
       "3   s03     83.69    92.39  86.46 \n",
       "4   s04     86.72   104.90  90.43 \n",
       "5   s05     74.11    98.08 108.38 \n",
       "6   s06     76.72    94.58 102.11 \n",
       "7   s07     73.28    93.74  97.16 \n",
       "8   s08     74.60   108.64  97.94 \n",
       "9   s09     80.91    94.34  99.70 \n",
       "10  s10     68.16   101.24  93.54 \n",
       "11  s11     83.42   102.68 103.52 \n",
       "12  s12     86.55    96.81  93.53 \n",
       "13  s13     70.57   106.68  82.85 \n",
       "14  s14     64.52    97.35  87.33 \n",
       "15  s15     83.76   100.01 106.95 \n",
       "16  s16     84.03    89.24  97.17 \n",
       "17  s17     69.90    99.10  90.42 \n",
       "18  s18     85.01   114.44 101.77 \n",
       "19  s19     82.63   103.34  96.88 \n",
       "20  s20     87.75    97.84  87.36 \n",
       "21  s21     80.55    96.81  99.62 \n",
       "22  s22     80.75    96.53  93.39 \n",
       "23  s23     78.07   106.86  95.56 \n",
       "24  s24     62.68    91.85  66.02 \n",
       "25  s25     85.21    93.96 106.23 \n",
       "26  s26     70.66   106.94  96.53 \n",
       "27  s27     82.50   100.70  82.42 \n",
       "28  s28     77.24    90.79  87.82 \n",
       "29  s29     76.52    99.24  92.01 \n",
       "30  s30     72.60   107.08  91.98 \n",
       "... ...     ...     ...    ...    \n",
       "38  s38     72.90   100.75  93.34 \n",
       "39  s39     91.27   107.33  98.81 \n",
       "40  s40     83.76   109.01 103.63 \n",
       "41  s41     80.72    97.46  96.88 \n",
       "42  s42     77.90   102.45  88.51 \n",
       "43  s43     88.65   108.02  90.07 \n",
       "44  s44     76.37   110.52 102.00 \n",
       "45  s45     75.24   100.27  80.60 \n",
       "46  s46     81.10   101.70  87.46 \n",
       "47  s47     76.63    96.04  94.90 \n",
       "48  s48     73.92   107.43  96.78 \n",
       "49  s49     74.60   106.39  99.15 \n",
       "50  s50     84.35    96.55  98.34 \n",
       "51  s51     77.55   103.36 100.07 \n",
       "52  s52     75.41    93.55  89.66 \n",
       "53  s53     78.05   106.62  94.72 \n",
       "54  s54     64.61    90.57  90.81 \n",
       "55  s55     90.12   107.37 107.29 \n",
       "56  s56     87.24    98.31  91.82 \n",
       "57  s57     77.06    96.51  92.54 \n",
       "58  s58     72.04    97.60  90.49 \n",
       "59  s59     83.78    97.60  96.77 \n",
       "60  s60     75.85   107.35 101.04 \n",
       "61  s61     86.43   108.35 104.32 \n",
       "62  s62     75.71    95.55  91.53 \n",
       "63  s63     78.86   110.66 104.83 \n",
       "64  s64     76.39    95.21 102.79 \n",
       "65  s65     71.93    97.84  91.13 \n",
       "66  s66     81.39   103.20  94.79 \n",
       "67  s67     62.66    94.60  77.92 "
      ]
     },
     "metadata": {},
     "output_type": "display_data"
    }
   ],
   "source": [
    "pivot_wider(exp_dat, id_cols=subj_id, names_from=time, values_from=read_score)"
   ]
  },
  {
   "cell_type": "code",
   "execution_count": 19,
   "id": "700123c9",
   "metadata": {
    "tags": [
     "remove-input"
    ],
    "vscode": {
     "languageId": "r"
    }
   },
   "outputs": [
    {
     "name": "stdout",
     "output_type": "stream",
     "text": [
      "\u001b[90m# A tibble: 67 x 4\u001b[39m\n",
      "   subj_id morning midday evening\n",
      "   \u001b[3m\u001b[90m<chr>\u001b[39m\u001b[23m     \u001b[3m\u001b[90m<dbl>\u001b[39m\u001b[23m  \u001b[3m\u001b[90m<dbl>\u001b[39m\u001b[23m   \u001b[3m\u001b[90m<dbl>\u001b[39m\u001b[23m\n",
      "\u001b[90m 1\u001b[39m s01        82.0   98.0   100. \n",
      "\u001b[90m 2\u001b[39m s02        79.4   92.9   102. \n",
      "\u001b[90m 3\u001b[39m s03        83.7   92.4    86.5\n",
      "\u001b[90m 4\u001b[39m s04        86.7  105.     90.4\n",
      "\u001b[90m 5\u001b[39m s05        74.1   98.1   108. \n",
      "\u001b[90m 6\u001b[39m s06        76.7   94.6   102. \n",
      "\u001b[90m 7\u001b[39m s07        73.3   93.7    97.2\n",
      "\u001b[90m 8\u001b[39m s08        74.6  109.     97.9\n",
      "\u001b[90m 9\u001b[39m s09        80.9   94.3    99.7\n",
      "\u001b[90m10\u001b[39m s10        68.2  101.     93.5\n",
      "\u001b[90m# i 57 more rows\u001b[39m\n"
     ]
    }
   ],
   "source": [
    "pivot_wider(exp_dat, id_cols=subj_id, names_from=time, values_from=read_score) |>\n",
    "  print()"
   ]
  },
  {
   "cell_type": "markdown",
   "id": "f915e32b",
   "metadata": {},
   "source": [
    "If we pipe this into our plot, we can plot the correlation between participants' morning and evening reading scores like so:"
   ]
  },
  {
   "cell_type": "code",
   "execution_count": 23,
   "id": "77023bce",
   "metadata": {
    "vscode": {
     "languageId": "r"
    }
   },
   "outputs": [
    {
     "name": "stderr",
     "output_type": "stream",
     "text": [
      "\u001b[1m\u001b[22m`geom_smooth()` using formula = 'y ~ x'\n"
     ]
    },
    {
     "data": {
      "image/png": "[encoded data removed]",
      "text/plain": [
       "plot without title"
      ]
     },
     "metadata": {
      "image/png": {
       "height": 240,
       "width": 300
      }
     },
     "output_type": "display_data"
    }
   ],
   "source": [
    "exp_dat |>\n",
    "  pivot_wider(id_cols=subj_id, names_from=time, values_from=read_score) |>\n",
    "  ggplot(aes(morning, evening)) +\n",
    "  geom_point() +\n",
    "  geom_smooth(method=\"lm\")"
   ]
  },
  {
   "cell_type": "markdown",
   "id": "71df7281",
   "metadata": {},
   "source": [
    "This shows that participants' scores are somewhat correlated. This is related to the idea of test-retest reliability.\n",
    "\n",
    "#### Check your Knowledge!\n",
    "\n",
    "**a)** Plot the correlation between participants' morning and midday memory scores.\n",
    "\n",
    "**b)** Tricky! Plot the correlation between morning scores in the reading test and evening scores in the memory test.\n"
   ]
  }
 ],
 "metadata": {
  "kernelspec": {
   "display_name": "R",
   "language": "R",
   "name": "ir"
  },
  "language_info": {
   "codemirror_mode": "r",
   "file_extension": ".r",
   "mimetype": "text/x-r-source",
   "name": "R",
   "pygments_lexer": "r",
   "version": "4.1.3"
  }
 },
 "nbformat": 4,
 "nbformat_minor": 5
}
