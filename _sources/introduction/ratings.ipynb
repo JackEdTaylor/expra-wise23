{
 "cells": [
  {
   "cell_type": "markdown",
   "metadata": {},
   "source": [
    "# Rating Norms"
   ]
  },
  {
   "cell_type": "markdown",
   "metadata": {},
   "source": [
    "## Slides\n",
    "\n",
    "<iframe src=\"https://docs.google.com/presentation/d/e/2PACX-1vQfmgyp4rNkv83b_o1ojfRpGdfVfaSXcYDVBpBxKvg9JL0jZxd9jqJg12bD6d45hv_qk0MrV9_q4XSx/embed?start=false&loop=false&delayms=60000\" frameborder=\"0\" width=\"960\" height=\"569\" allowfullscreen=\"true\" mozallowfullscreen=\"true\" webkitallowfullscreen=\"true\"></iframe>\n",
    "\n",
    "[<h5><i class=\"fa-solid fa-file-pdf\"></i> Download .pdf</h5>](https://docs.google.com/presentation/d/1-KdFjPfGi5sIdzGP2YkJKQRPiyotnBnX06lbpjUQzAQ/export/pdf)\n",
    "[<h5><i class=\"fa-solid fa-file-powerpoint\"></i> Download .pptx</h5>](https://docs.google.com/presentation/d/1-KdFjPfGi5sIdzGP2YkJKQRPiyotnBnX06lbpjUQzAQ/export/pptx)"
   ]
  }
 ],
 "metadata": {
  "kernelspec": {
   "display_name": "python",
   "language": "python",
   "name": "python3"
  },
  "language_info": {
   "codemirror_mode": {
    "name": "ipython",
    "version": 3
   },
   "file_extension": ".py",
   "mimetype": "text/x-python",
   "name": "python",
   "nbconvert_exporter": "python",
   "pygments_lexer": "ipython3",
   "version": "3.11.3"
  },
  "orig_nbformat": 4
 },
 "nbformat": 4,
 "nbformat_minor": 2
}
