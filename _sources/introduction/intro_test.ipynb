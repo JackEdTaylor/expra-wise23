{
 "cells": [
  {
   "cell_type": "markdown",
   "id": "0bc5fe55",
   "metadata": {},
   "source": [
    "# Intro Test with R\n",
    "\n",
    "Let's test rpy2"
   ]
  },
  {
   "cell_type": "code",
   "execution_count": null,
   "id": "7e3c21f7",
   "metadata": {},
   "outputs": [],
   "source": [
    "%load_ext rpy2.ipython"
   ]
  },
  {
   "cell_type": "code",
   "execution_count": null,
   "id": "dbab337c",
   "metadata": {},
   "outputs": [],
   "source": [
    "%%R\n",
    "\n",
    "library(ggplot2)\n",
    "\n",
    "ggplot(iris, aes(Sepal.Length, Sepal.Width, colour=Species)) +\n",
    "    geom_point()"
   ]
  }
 ],
 "metadata": {
  "kernelspec": {
   "display_name": "Python 3 (ipykernel)",
   "language": "python",
   "name": "python3"
  },
  "language_info": {
   "codemirror_mode": {
    "name": "ipython",
    "version": 3
   },
   "file_extension": ".py",
   "mimetype": "text/x-python",
   "name": "python",
   "nbconvert_exporter": "python",
   "pygments_lexer": "ipython3",
   "version": "3.11.3"
  }
 },
 "nbformat": 4,
 "nbformat_minor": 5
}
